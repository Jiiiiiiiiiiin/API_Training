{
  "nbformat": 4,
  "nbformat_minor": 0,
  "metadata": {
    "colab": {
      "name": "6회차_김진영.ipynb",
      "provenance": [],
      "collapsed_sections": []
    },
    "kernelspec": {
      "name": "python3",
      "display_name": "Python 3"
    },
    "language_info": {
      "name": "python"
    }
  },
  "cells": [
    {
      "cell_type": "code",
      "metadata": {
        "id": "9Co9eJyVmDHM"
      },
      "source": [
        "import matplotlib.pyplot as plt\n",
        "import numpy as np\n",
        "import pandas as pd\n",
        "from sklearn.neighbors import KNeighborsClassifier\n",
        "from sklearn.datasets import load_digits\n",
        "from sklearn.model_selection import train_test_split\n",
        "from sklearn.metrics import classification_report, confusion_matrix\n",
        "from sklearn import metrics\n",
        "%matplotlib inline"
      ],
      "execution_count": 35,
      "outputs": []
    },
    {
      "cell_type": "code",
      "metadata": {
        "id": "J9xHsQ6xmvcE"
      },
      "source": [
        "digits = load_digits()"
      ],
      "execution_count": 15,
      "outputs": []
    },
    {
      "cell_type": "code",
      "metadata": {
        "colab": {
          "base_uri": "https://localhost:8080/"
        },
        "id": "EFR0ZKTwlmU7",
        "outputId": "43ebe4eb-7f74-48d0-d0a3-5deb2a710923"
      },
      "source": [
        "X, y = load_digits(return_X_y=True)\n",
        "print(len(X))\n",
        "X_train, X_test, y_train, y_test = train_test_split(X,\n",
        "                                                    y,\n",
        "                                                    test_size=0.1)"
      ],
      "execution_count": 46,
      "outputs": [
        {
          "output_type": "stream",
          "name": "stdout",
          "text": [
            "1797\n"
          ]
        }
      ]
    },
    {
      "cell_type": "code",
      "metadata": {
        "id": "gVuay3a5qxW2"
      },
      "source": [
        "neigh_10 = KNeighborsClassifier(n_neighbors = 10, weights = 'distance')\n",
        "neigh_10_train = neigh_10.fit(X_train, y_train)"
      ],
      "execution_count": 47,
      "outputs": []
    },
    {
      "cell_type": "code",
      "metadata": {
        "id": "tkWKbre1uvCg"
      },
      "source": [
        "y_pred = neigh_10.predict(X_test)"
      ],
      "execution_count": 48,
      "outputs": []
    },
    {
      "cell_type": "code",
      "metadata": {
        "colab": {
          "base_uri": "https://localhost:8080/"
        },
        "id": "u279SB9CtvYI",
        "outputId": "1c6a5577-b91e-4be6-b211-d4323e85bb7f"
      },
      "source": [
        "# Accuracy\n",
        "print(metrics.accuracy_score(y_test, y_pred))"
      ],
      "execution_count": 49,
      "outputs": [
        {
          "output_type": "stream",
          "name": "stdout",
          "text": [
            "1.0\n"
          ]
        }
      ]
    },
    {
      "cell_type": "code",
      "metadata": {
        "colab": {
          "base_uri": "https://localhost:8080/"
        },
        "id": "H8fNBNttrY6b",
        "outputId": "252defbf-40d3-4ee9-fc5b-782e32d66164"
      },
      "source": [
        "# Classification report\n",
        "print(classification_report(y_test, y_pred))"
      ],
      "execution_count": 50,
      "outputs": [
        {
          "output_type": "stream",
          "name": "stdout",
          "text": [
            "              precision    recall  f1-score   support\n",
            "\n",
            "           0       1.00      1.00      1.00        17\n",
            "           1       1.00      1.00      1.00        19\n",
            "           2       1.00      1.00      1.00        25\n",
            "           3       1.00      1.00      1.00        21\n",
            "           4       1.00      1.00      1.00        15\n",
            "           5       1.00      1.00      1.00        24\n",
            "           6       1.00      1.00      1.00        12\n",
            "           7       1.00      1.00      1.00        15\n",
            "           8       1.00      1.00      1.00        15\n",
            "           9       1.00      1.00      1.00        17\n",
            "\n",
            "    accuracy                           1.00       180\n",
            "   macro avg       1.00      1.00      1.00       180\n",
            "weighted avg       1.00      1.00      1.00       180\n",
            "\n"
          ]
        }
      ]
    },
    {
      "cell_type": "code",
      "metadata": {
        "colab": {
          "base_uri": "https://localhost:8080/"
        },
        "id": "TawWDfnIrkcB",
        "outputId": "21462e6f-4bd6-4c65-b7a2-2b6a9cd8e8ee"
      },
      "source": [
        "# Confusion Matrix\n",
        "print(confusion_matrix(y_test, y_pred))"
      ],
      "execution_count": 51,
      "outputs": [
        {
          "output_type": "stream",
          "name": "stdout",
          "text": [
            "[[17  0  0  0  0  0  0  0  0  0]\n",
            " [ 0 19  0  0  0  0  0  0  0  0]\n",
            " [ 0  0 25  0  0  0  0  0  0  0]\n",
            " [ 0  0  0 21  0  0  0  0  0  0]\n",
            " [ 0  0  0  0 15  0  0  0  0  0]\n",
            " [ 0  0  0  0  0 24  0  0  0  0]\n",
            " [ 0  0  0  0  0  0 12  0  0  0]\n",
            " [ 0  0  0  0  0  0  0 15  0  0]\n",
            " [ 0  0  0  0  0  0  0  0 15  0]\n",
            " [ 0  0  0  0  0  0  0  0  0 17]]\n"
          ]
        }
      ]
    },
    {
      "cell_type": "code",
      "metadata": {
        "colab": {
          "base_uri": "https://localhost:8080/"
        },
        "id": "Bq8s4xV4vakw",
        "outputId": "1ff5bfd8-95b7-4b2d-e862-e2ff02778d4c"
      },
      "source": [
        "# test_size를 0.33 으로 설정하였을 경우\n",
        "\n",
        "\n",
        "X, y = load_digits(return_X_y=True)\n",
        "print(len(X))\n",
        "X_train, X_test, y_train, y_test = train_test_split(X,\n",
        "                                                    y,\n",
        "                                                    test_size=0.33)\n",
        "neigh_10 = KNeighborsClassifier(n_neighbors = 10, weights = 'distance')\n",
        "neigh_10_train = neigh_10.fit(X_train, y_train)\n",
        "y_pred = neigh_10.predict(X_test)"
      ],
      "execution_count": 52,
      "outputs": [
        {
          "output_type": "stream",
          "name": "stdout",
          "text": [
            "1797\n"
          ]
        }
      ]
    },
    {
      "cell_type": "code",
      "metadata": {
        "colab": {
          "base_uri": "https://localhost:8080/"
        },
        "id": "DoDpGQVIvkR5",
        "outputId": "3b40fb8a-fd1b-4616-d2fd-0f6407ec0bf2"
      },
      "source": [
        "# Accuracy\n",
        "print(metrics.accuracy_score(y_test, y_pred))"
      ],
      "execution_count": 53,
      "outputs": [
        {
          "output_type": "stream",
          "name": "stdout",
          "text": [
            "0.9848484848484849\n"
          ]
        }
      ]
    },
    {
      "cell_type": "code",
      "metadata": {
        "colab": {
          "base_uri": "https://localhost:8080/"
        },
        "id": "jTvc3D6qvlgH",
        "outputId": "57078f86-6d82-4d46-dfa5-1b516e2d4316"
      },
      "source": [
        "# Classification report\n",
        "print(classification_report(y_test, y_pred))"
      ],
      "execution_count": 54,
      "outputs": [
        {
          "output_type": "stream",
          "name": "stdout",
          "text": [
            "              precision    recall  f1-score   support\n",
            "\n",
            "           0       1.00      1.00      1.00        57\n",
            "           1       0.97      1.00      0.99        66\n",
            "           2       1.00      0.98      0.99        58\n",
            "           3       1.00      1.00      1.00        67\n",
            "           4       1.00      1.00      1.00        54\n",
            "           5       0.98      0.93      0.96        59\n",
            "           6       0.98      1.00      0.99        48\n",
            "           7       0.98      1.00      0.99        60\n",
            "           8       0.98      0.97      0.98        62\n",
            "           9       0.95      0.97      0.96        63\n",
            "\n",
            "    accuracy                           0.98       594\n",
            "   macro avg       0.99      0.99      0.99       594\n",
            "weighted avg       0.98      0.98      0.98       594\n",
            "\n"
          ]
        }
      ]
    },
    {
      "cell_type": "code",
      "metadata": {
        "colab": {
          "base_uri": "https://localhost:8080/"
        },
        "id": "Y4DZVTJ9vmoy",
        "outputId": "19ec69f4-38c5-4499-bed1-36794fc4598f"
      },
      "source": [
        "# Confusion Matrix\n",
        "print(confusion_matrix(y_test, y_pred))"
      ],
      "execution_count": 55,
      "outputs": [
        {
          "output_type": "stream",
          "name": "stdout",
          "text": [
            "[[57  0  0  0  0  0  0  0  0  0]\n",
            " [ 0 66  0  0  0  0  0  0  0  0]\n",
            " [ 0  0 57  0  0  0  0  1  0  0]\n",
            " [ 0  0  0 67  0  0  0  0  0  0]\n",
            " [ 0  0  0  0 54  0  0  0  0  0]\n",
            " [ 0  0  0  0  0 55  1  0  0  3]\n",
            " [ 0  0  0  0  0  0 48  0  0  0]\n",
            " [ 0  0  0  0  0  0  0 60  0  0]\n",
            " [ 0  2  0  0  0  0  0  0 60  0]\n",
            " [ 0  0  0  0  0  1  0  0  1 61]]\n"
          ]
        }
      ]
    }
  ]
}