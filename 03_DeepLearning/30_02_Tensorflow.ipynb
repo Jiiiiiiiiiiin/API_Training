{
  "nbformat": 4,
  "nbformat_minor": 0,
  "metadata": {
    "colab": {
      "name": "31_Tensorflow02.ipynb",
      "provenance": [],
      "collapsed_sections": []
    },
    "kernelspec": {
      "name": "python3",
      "display_name": "Python 3"
    },
    "language_info": {
      "name": "python"
    }
  },
  "cells": [
    {
      "cell_type": "markdown",
      "metadata": {
        "id": "Hea1akSVoW6b"
      },
      "source": [
        "# Keras 이진분류"
      ]
    },
    {
      "cell_type": "code",
      "metadata": {
        "colab": {
          "base_uri": "https://localhost:8080/"
        },
        "id": "BOTO0ogAofed",
        "outputId": "4cdb19b2-f6d9-4b5e-9f2d-a1e8c035ac3c"
      },
      "source": [
        "import tensorflow as tf\n",
        "from tensorflow import keras\n",
        "\n",
        "import numpy as np\n",
        "import matplotlib.pyplot as plt\n",
        "\n",
        "print(tf.__version__)"
      ],
      "execution_count": 2,
      "outputs": [
        {
          "output_type": "stream",
          "name": "stdout",
          "text": [
            "2.6.0\n"
          ]
        }
      ]
    },
    {
      "cell_type": "code",
      "metadata": {
        "colab": {
          "base_uri": "https://localhost:8080/"
        },
        "id": "LMDNJw8loULT",
        "outputId": "0f0a5bab-0ccd-41bd-b218-f2a4d8c0061d"
      },
      "source": [
        "from keras.datasets import imdb\n",
        "(train_data, train_labels), (test_data, test_labels) = imdb.load_data(num_words=10000)\n",
        "# num_words=10000 매개변수는 훈련데이터에서 가장 자주 나타나는 단어 1만개만 사용하겠다는 의미"
      ],
      "execution_count": 1,
      "outputs": [
        {
          "output_type": "stream",
          "name": "stdout",
          "text": [
            "Downloading data from https://storage.googleapis.com/tensorflow/tf-keras-datasets/imdb.npz\n",
            "17465344/17464789 [==============================] - 0s 0us/step\n",
            "17473536/17464789 [==============================] - 0s 0us/step\n"
          ]
        }
      ]
    },
    {
      "cell_type": "code",
      "metadata": {
        "colab": {
          "base_uri": "https://localhost:8080/"
        },
        "id": "oZnst3v6og2L",
        "outputId": "00dd0277-4793-409e-c8a5-1b94c72e261c"
      },
      "source": [
        "print(train_data[0])"
      ],
      "execution_count": 3,
      "outputs": [
        {
          "output_type": "stream",
          "name": "stdout",
          "text": [
            "[1, 14, 22, 16, 43, 530, 973, 1622, 1385, 65, 458, 4468, 66, 3941, 4, 173, 36, 256, 5, 25, 100, 43, 838, 112, 50, 670, 2, 9, 35, 480, 284, 5, 150, 4, 172, 112, 167, 2, 336, 385, 39, 4, 172, 4536, 1111, 17, 546, 38, 13, 447, 4, 192, 50, 16, 6, 147, 2025, 19, 14, 22, 4, 1920, 4613, 469, 4, 22, 71, 87, 12, 16, 43, 530, 38, 76, 15, 13, 1247, 4, 22, 17, 515, 17, 12, 16, 626, 18, 2, 5, 62, 386, 12, 8, 316, 8, 106, 5, 4, 2223, 5244, 16, 480, 66, 3785, 33, 4, 130, 12, 16, 38, 619, 5, 25, 124, 51, 36, 135, 48, 25, 1415, 33, 6, 22, 12, 215, 28, 77, 52, 5, 14, 407, 16, 82, 2, 8, 4, 107, 117, 5952, 15, 256, 4, 2, 7, 3766, 5, 723, 36, 71, 43, 530, 476, 26, 400, 317, 46, 7, 4, 2, 1029, 13, 104, 88, 4, 381, 15, 297, 98, 32, 2071, 56, 26, 141, 6, 194, 7486, 18, 4, 226, 22, 21, 134, 476, 26, 480, 5, 144, 30, 5535, 18, 51, 36, 28, 224, 92, 25, 104, 4, 226, 65, 16, 38, 1334, 88, 12, 16, 283, 5, 16, 4472, 113, 103, 32, 15, 16, 5345, 19, 178, 32]\n"
          ]
        }
      ]
    },
    {
      "cell_type": "code",
      "metadata": {
        "colab": {
          "base_uri": "https://localhost:8080/"
        },
        "id": "pWGAKvYYotAZ",
        "outputId": "9cc2fd4d-455f-4cad-b767-cbd611731cae"
      },
      "source": [
        "print(train_labels[0])"
      ],
      "execution_count": 4,
      "outputs": [
        {
          "output_type": "stream",
          "name": "stdout",
          "text": [
            "1\n"
          ]
        }
      ]
    },
    {
      "cell_type": "code",
      "metadata": {
        "colab": {
          "base_uri": "https://localhost:8080/"
        },
        "id": "RL_dGZlHowIZ",
        "outputId": "fe832b85-2950-4e87-f9aa-79869342dc3e"
      },
      "source": [
        "print(max(max(sequence) for sequence in train_data))"
      ],
      "execution_count": 5,
      "outputs": [
        {
          "output_type": "stream",
          "name": "stdout",
          "text": [
            "9999\n"
          ]
        }
      ]
    },
    {
      "cell_type": "code",
      "metadata": {
        "colab": {
          "base_uri": "https://localhost:8080/"
        },
        "id": "HeC8p4UYo2J8",
        "outputId": "8edf849b-b260-404f-bb7f-d7d4b839c3b8"
      },
      "source": [
        "word_index = imdb.get_word_index()\n",
        "reverse_word_index = dict([(value, key) for (key, value) in word_index.items()])\n",
        "decoded_review = ' '.join([reverse_word_index.get(i-3, '?') for i in train_data[0]])\n",
        "print(decoded_review)"
      ],
      "execution_count": 10,
      "outputs": [
        {
          "output_type": "stream",
          "name": "stdout",
          "text": [
            "? this film was just brilliant casting location scenery story direction everyone's really suited the part they played and you could just imagine being there robert ? is an amazing actor and now the same being director ? father came from the same scottish island as myself so i loved the fact there was a real connection with this film the witty remarks throughout the film were great it was just brilliant so much that i bought the film as soon as it was released for ? and would recommend it to everyone to watch and the fly fishing was amazing really cried at the end it was so sad and you know what they say if you cry at a film it must have been good and this definitely was also ? to the two little boy's that played the ? of norman and paul they were just brilliant children are often left out of the ? list i think because the stars that play them all grown up are such a big profile for the whole film but these children are amazing and should be praised for what they have done don't you think the whole story was so lovely because it was true and was someone's life after all that was shared with us all\n"
          ]
        }
      ]
    },
    {
      "cell_type": "markdown",
      "metadata": {
        "id": "1IV3om4ypzSQ"
      },
      "source": [
        "* 신경망에 숫자 리스트를 주입할 수는 없음 → 리스트를 텐서로 변환\n",
        "\n",
        "  * 같은 길이가 되도록 리스트에 패딩(padding)을 추가하고 (samples, sequence_length) 크기의 정수 텐서로 변환 → 정수 텐서를 다룰 수 있는 층 (Embedding)을 신경망의 첫번째 층으로 사용\n",
        "\n",
        "  * 리스트를 원-핫 인코딩(one-hot encoding)하여 0과 1의 벡터로 변환 → 부동 소수 벡터데이터를 다룰 수 있는 Dense 층을 신경망의 첫번째 층으로 사용"
      ]
    },
    {
      "cell_type": "code",
      "metadata": {
        "id": "SBHnl37Cpkcq"
      },
      "source": [
        "# 정수 시퀸스를 이진 행렬로 인코딩\n",
        "import numpy as np\n",
        "\n",
        "def vectorize_sequences(seqs, dim=10000):\n",
        "  results = np.zeros((len(seqs), dim))\n",
        "  for i, seq in enumerate(seqs) :\n",
        "    results[i, seq] = 1.                 # 특정 인덱스의 위치를 1.으로 만듦(부정소수점)\n",
        "  return results\n",
        "\n",
        "x_train = vectorize_sequences(train_data)\n",
        "x_test = vectorize_sequences(test_data)"
      ],
      "execution_count": 12,
      "outputs": []
    },
    {
      "cell_type": "code",
      "metadata": {
        "colab": {
          "base_uri": "https://localhost:8080/"
        },
        "id": "4ksPw7y5qhcX",
        "outputId": "e0796f34-7e67-4f21-9be2-1f4cfef68007"
      },
      "source": [
        "print(x_train[0])"
      ],
      "execution_count": 13,
      "outputs": [
        {
          "output_type": "stream",
          "name": "stdout",
          "text": [
            "[0. 1. 1. ... 0. 0. 0.]\n"
          ]
        }
      ]
    },
    {
      "cell_type": "code",
      "metadata": {
        "id": "x9g9Taz4qpN0"
      },
      "source": [
        "y_train = np.asarray(train_labels).astype('float32')\n",
        "y_test = np.asarray(test_labels).astype('float32')"
      ],
      "execution_count": 50,
      "outputs": []
    },
    {
      "cell_type": "markdown",
      "metadata": {
        "id": "aXw10tETrUYd"
      },
      "source": [
        "* 신경망 모델 만들기\n",
        "  * 입력 데이터가 벡터, 레이블은 스칼라(0 또는 1)\n",
        "  * 이런 문제에 잘 작동하는 네트워크 종류는 relu 활성화 함수를 사용한 완전연결층(Dense(16, activation='relu'))을 그냥 쌓은 것\n",
        "  * 매개변수 16은 은닉유닛(hidden unit)의 개수 → 가중치 행렬 W의 크기가(input_dimension, 16) → 입력 데이터와 W를 점곱하면 입력 데이터가 16차원으로 표현된 공간으로 투영\n",
        "  * 표현 공간의 차원 → 신경망이 내재된 표현을 학습할 때 가질 수 있는 자유도\n",
        "\n",
        "* 은닉유닛을 늘리면 (표현공간을 더 고차원으로 만들면) 신경망이 더 복잡한 표현을 학습할 수 있음 → 계산 비용이 커지고 원하지 않는 패턴을 학습할 수도 있음 (훈련데이터에서는 성능이 향상되지만 테스트 데이터에서는 그렇지 않은 패턴)\n",
        "\n",
        "* Dense층을 쌓을 때 두가지 중요한 구조상 결정이 필요\n",
        "  * 얼마나 많은 층을 사용\n",
        "  * 각 층에 얼마나 많은 은닉유닛을 사용"
      ]
    },
    {
      "cell_type": "code",
      "metadata": {
        "id": "0XJIuIxMrIpi"
      },
      "source": [
        "from keras import models\n",
        "from keras import layers\n",
        "\n",
        "model = models.Sequential()\n",
        "model.add(layers.Dense(16, activation='relu', input_shape=(10000,)))\n",
        "model.add(layers.Dense(16, activation='relu'))\n",
        "model.add(layers.Dense(1, activation='sigmoid'))"
      ],
      "execution_count": 20,
      "outputs": []
    },
    {
      "cell_type": "markdown",
      "metadata": {
        "id": "I50XK7jhs6PO"
      },
      "source": [
        "* 손실함수와 옵티마이저를 선택\n",
        "  * 이진분류 문제고 신경망의 출력이 확률이므로 네트워크의 마지막에 시그모이드 활성화함수를 사용한 하나의 유닛으로 된 층을 사용 → binary crossentropy 손실함수가 적합\n",
        "  * MSE도 사용할 수 있음\n",
        "  * 확률을 출력하는 모델을 사용할 때는 크로스엔트로피가 최선의 선택\n",
        "\n",
        "* rmsprop 옵티마이저와 binary_crossentropy 손실함수로 모델을 설정\n",
        "\n",
        "* 훈련하는 동안 정확도를 사용하여 모니터링"
      ]
    },
    {
      "cell_type": "code",
      "metadata": {
        "id": "skMldghIsT26"
      },
      "source": [
        "model.compile(optimizer='rmsprop', loss='binary_crossentropy', metrics=['accuracy'])"
      ],
      "execution_count": 21,
      "outputs": []
    },
    {
      "cell_type": "code",
      "metadata": {
        "colab": {
          "base_uri": "https://localhost:8080/"
        },
        "id": "0jy8_62ctMp2",
        "outputId": "a7e417c4-4cfc-4099-adc4-1925cde5b81b"
      },
      "source": [
        "from keras import optimizers\n",
        "model.compile(optimizer=keras.optimizers.RMSprop(lr=0.001), loss='binary_crossentropy', metrics=['accuracy'])"
      ],
      "execution_count": 24,
      "outputs": [
        {
          "output_type": "stream",
          "name": "stderr",
          "text": [
            "/usr/local/lib/python3.7/dist-packages/keras/optimizer_v2/optimizer_v2.py:356: UserWarning: The `lr` argument is deprecated, use `learning_rate` instead.\n",
            "  \"The `lr` argument is deprecated, use `learning_rate` instead.\")\n"
          ]
        }
      ]
    },
    {
      "cell_type": "code",
      "metadata": {
        "colab": {
          "base_uri": "https://localhost:8080/"
        },
        "id": "zR75QiooyxQD",
        "outputId": "c0379670-7c14-423b-dd70-05455a46156c"
      },
      "source": [
        "from tensorflow.keras import optimizers\n",
        "model.compile(optimizer=optimizers.RMSprop(lr=0.001), loss='binary_crossentropy', metrics=['accuracy'])"
      ],
      "execution_count": 36,
      "outputs": [
        {
          "output_type": "stream",
          "name": "stderr",
          "text": [
            "/usr/local/lib/python3.7/dist-packages/keras/optimizer_v2/optimizer_v2.py:356: UserWarning: The `lr` argument is deprecated, use `learning_rate` instead.\n",
            "  \"The `lr` argument is deprecated, use `learning_rate` instead.\")\n"
          ]
        }
      ]
    },
    {
      "cell_type": "code",
      "metadata": {
        "colab": {
          "base_uri": "https://localhost:8080/"
        },
        "id": "zjyn-eJ6t0HG",
        "outputId": "b32523c9-4821-4437-a0ec-e557f98e76b1"
      },
      "source": [
        "from keras import losses\n",
        "from keras import metrics\n",
        "\n",
        "model.compile(optimizer=keras.optimizers.RMSprop(lr=0.001), loss=losses.binary_crossentropy, metrics=[metrics.binary_accuracy])"
      ],
      "execution_count": 26,
      "outputs": [
        {
          "output_type": "stream",
          "name": "stderr",
          "text": [
            "/usr/local/lib/python3.7/dist-packages/keras/optimizer_v2/optimizer_v2.py:356: UserWarning: The `lr` argument is deprecated, use `learning_rate` instead.\n",
            "  \"The `lr` argument is deprecated, use `learning_rate` instead.\")\n"
          ]
        }
      ]
    },
    {
      "cell_type": "markdown",
      "metadata": {
        "id": "8HBC_K3IuF1W"
      },
      "source": [
        "* 훈련 검증\n",
        "\n",
        "  * 훈련하는 동안 처음 본 데이터에 대한 모델의 정확도를 측정하기 위해 원본 훈\n",
        "련데이터에서 10000개의 샘플을 떼어 검증 세트를 만듬"
      ]
    },
    {
      "cell_type": "code",
      "metadata": {
        "id": "btK_qyW0uJp-"
      },
      "source": [
        "x_val = x_train[:10000]\n",
        "partial_x_train = x_train[10000:]\n",
        "y_val = y_train[:10000]\n",
        "partial_y_train = y_train[10000:]"
      ],
      "execution_count": 27,
      "outputs": []
    },
    {
      "cell_type": "markdown",
      "metadata": {
        "id": "NyYzuceCvxqn"
      },
      "source": [
        "* 모델을 512개의 샘플씩 미니 배치를 만들어 20번의 에포크 동안 훈련시킴(x_train과 t_train 텐서에 있는 모든 샘플에 대해 20번 반복)\n",
        "\n",
        "* 동시에 따로 떼어놓은 1만개의 샘플에서 손실과 정확도를 측정"
      ]
    },
    {
      "cell_type": "code",
      "metadata": {
        "colab": {
          "base_uri": "https://localhost:8080/"
        },
        "id": "kzEpUVLdvybJ",
        "outputId": "dcc86cda-f9db-4692-fcaf-7df97aa5db21"
      },
      "source": [
        "model.compile(optimizer='rmsprop', loss='binary_crossentropy', metrics=['accuracy'])\n",
        "history = model.fit(partial_x_train, partial_y_train, epochs=50, batch_size=512, validation_data=(x_val, y_val))"
      ],
      "execution_count": 29,
      "outputs": [
        {
          "output_type": "stream",
          "name": "stdout",
          "text": [
            "Epoch 1/50\n",
            "30/30 [==============================] - 3s 57ms/step - loss: 0.4938 - accuracy: 0.7941 - val_loss: 0.3637 - val_accuracy: 0.8726\n",
            "Epoch 2/50\n",
            "30/30 [==============================] - 1s 38ms/step - loss: 0.2921 - accuracy: 0.9053 - val_loss: 0.3055 - val_accuracy: 0.8826\n",
            "Epoch 3/50\n",
            "30/30 [==============================] - 1s 38ms/step - loss: 0.2144 - accuracy: 0.9321 - val_loss: 0.2811 - val_accuracy: 0.8895\n",
            "Epoch 4/50\n",
            "30/30 [==============================] - 1s 38ms/step - loss: 0.1738 - accuracy: 0.9435 - val_loss: 0.3224 - val_accuracy: 0.8705\n",
            "Epoch 5/50\n",
            "30/30 [==============================] - 1s 38ms/step - loss: 0.1395 - accuracy: 0.9562 - val_loss: 0.2832 - val_accuracy: 0.8875\n",
            "Epoch 6/50\n",
            "30/30 [==============================] - 1s 38ms/step - loss: 0.1154 - accuracy: 0.9642 - val_loss: 0.3119 - val_accuracy: 0.8816\n",
            "Epoch 7/50\n",
            "30/30 [==============================] - 1s 38ms/step - loss: 0.0967 - accuracy: 0.9730 - val_loss: 0.3369 - val_accuracy: 0.8772\n",
            "Epoch 8/50\n",
            "30/30 [==============================] - 1s 39ms/step - loss: 0.0799 - accuracy: 0.9779 - val_loss: 0.3398 - val_accuracy: 0.8794\n",
            "Epoch 9/50\n",
            "30/30 [==============================] - 1s 38ms/step - loss: 0.0643 - accuracy: 0.9847 - val_loss: 0.3611 - val_accuracy: 0.8758\n",
            "Epoch 10/50\n",
            "30/30 [==============================] - 1s 38ms/step - loss: 0.0517 - accuracy: 0.9881 - val_loss: 0.3797 - val_accuracy: 0.8765\n",
            "Epoch 11/50\n",
            "30/30 [==============================] - 1s 38ms/step - loss: 0.0459 - accuracy: 0.9890 - val_loss: 0.4060 - val_accuracy: 0.8757\n",
            "Epoch 12/50\n",
            "30/30 [==============================] - 1s 39ms/step - loss: 0.0372 - accuracy: 0.9914 - val_loss: 0.4326 - val_accuracy: 0.8757\n",
            "Epoch 13/50\n",
            "30/30 [==============================] - 1s 39ms/step - loss: 0.0297 - accuracy: 0.9935 - val_loss: 0.4567 - val_accuracy: 0.8729\n",
            "Epoch 14/50\n",
            "30/30 [==============================] - 1s 39ms/step - loss: 0.0217 - accuracy: 0.9964 - val_loss: 0.4864 - val_accuracy: 0.8719\n",
            "Epoch 15/50\n",
            "30/30 [==============================] - 1s 38ms/step - loss: 0.0189 - accuracy: 0.9966 - val_loss: 0.5211 - val_accuracy: 0.8707\n",
            "Epoch 16/50\n",
            "30/30 [==============================] - 1s 38ms/step - loss: 0.0157 - accuracy: 0.9969 - val_loss: 0.5489 - val_accuracy: 0.8697\n",
            "Epoch 17/50\n",
            "30/30 [==============================] - 1s 38ms/step - loss: 0.0123 - accuracy: 0.9977 - val_loss: 0.5833 - val_accuracy: 0.8665\n",
            "Epoch 18/50\n",
            "30/30 [==============================] - 1s 38ms/step - loss: 0.0071 - accuracy: 0.9996 - val_loss: 0.6164 - val_accuracy: 0.8687\n",
            "Epoch 19/50\n",
            "30/30 [==============================] - 1s 38ms/step - loss: 0.0086 - accuracy: 0.9989 - val_loss: 0.6478 - val_accuracy: 0.8668\n",
            "Epoch 20/50\n",
            "30/30 [==============================] - 1s 39ms/step - loss: 0.0064 - accuracy: 0.9991 - val_loss: 0.6788 - val_accuracy: 0.8662\n",
            "Epoch 21/50\n",
            "30/30 [==============================] - 1s 39ms/step - loss: 0.0029 - accuracy: 0.9999 - val_loss: 0.7146 - val_accuracy: 0.8658\n",
            "Epoch 22/50\n",
            "30/30 [==============================] - 1s 37ms/step - loss: 0.0040 - accuracy: 0.9995 - val_loss: 0.7529 - val_accuracy: 0.8661\n",
            "Epoch 23/50\n",
            "30/30 [==============================] - 1s 39ms/step - loss: 0.0017 - accuracy: 0.9999 - val_loss: 0.9474 - val_accuracy: 0.8466\n",
            "Epoch 24/50\n",
            "30/30 [==============================] - 1s 38ms/step - loss: 0.0022 - accuracy: 0.9997 - val_loss: 0.8200 - val_accuracy: 0.8645\n",
            "Epoch 25/50\n",
            "30/30 [==============================] - 1s 38ms/step - loss: 0.0047 - accuracy: 0.9987 - val_loss: 0.8629 - val_accuracy: 0.8640\n",
            "Epoch 26/50\n",
            "30/30 [==============================] - 1s 39ms/step - loss: 7.3685e-04 - accuracy: 0.9999 - val_loss: 0.8839 - val_accuracy: 0.8631\n",
            "Epoch 27/50\n",
            "30/30 [==============================] - 1s 38ms/step - loss: 5.8603e-04 - accuracy: 1.0000 - val_loss: 0.9557 - val_accuracy: 0.8571\n",
            "Epoch 28/50\n",
            "30/30 [==============================] - 1s 39ms/step - loss: 0.0042 - accuracy: 0.9988 - val_loss: 0.9813 - val_accuracy: 0.8593\n",
            "Epoch 29/50\n",
            "30/30 [==============================] - 1s 38ms/step - loss: 3.2382e-04 - accuracy: 1.0000 - val_loss: 0.9930 - val_accuracy: 0.8607\n",
            "Epoch 30/50\n",
            "30/30 [==============================] - 1s 38ms/step - loss: 2.6124e-04 - accuracy: 1.0000 - val_loss: 1.0202 - val_accuracy: 0.8602\n",
            "Epoch 31/50\n",
            "30/30 [==============================] - 1s 42ms/step - loss: 2.1438e-04 - accuracy: 1.0000 - val_loss: 1.1702 - val_accuracy: 0.8523\n",
            "Epoch 32/50\n",
            "30/30 [==============================] - 1s 38ms/step - loss: 0.0020 - accuracy: 0.9994 - val_loss: 1.0893 - val_accuracy: 0.8606\n",
            "Epoch 33/50\n",
            "30/30 [==============================] - 1s 38ms/step - loss: 1.2619e-04 - accuracy: 1.0000 - val_loss: 1.1076 - val_accuracy: 0.8598\n",
            "Epoch 34/50\n",
            "30/30 [==============================] - 1s 39ms/step - loss: 1.0081e-04 - accuracy: 1.0000 - val_loss: 1.1679 - val_accuracy: 0.8577\n",
            "Epoch 35/50\n",
            "30/30 [==============================] - 1s 38ms/step - loss: 0.0022 - accuracy: 0.9995 - val_loss: 1.1910 - val_accuracy: 0.8583\n",
            "Epoch 36/50\n",
            "30/30 [==============================] - 1s 38ms/step - loss: 6.3986e-05 - accuracy: 1.0000 - val_loss: 1.2070 - val_accuracy: 0.8581\n",
            "Epoch 37/50\n",
            "30/30 [==============================] - 1s 38ms/step - loss: 4.8056e-05 - accuracy: 1.0000 - val_loss: 1.2206 - val_accuracy: 0.8583\n",
            "Epoch 38/50\n",
            "30/30 [==============================] - 1s 38ms/step - loss: 3.9254e-05 - accuracy: 1.0000 - val_loss: 1.2551 - val_accuracy: 0.8580\n",
            "Epoch 39/50\n",
            "30/30 [==============================] - 1s 37ms/step - loss: 0.0030 - accuracy: 0.9994 - val_loss: 1.4579 - val_accuracy: 0.8476\n",
            "Epoch 40/50\n",
            "30/30 [==============================] - 1s 38ms/step - loss: 5.2489e-05 - accuracy: 1.0000 - val_loss: 1.3460 - val_accuracy: 0.8565\n",
            "Epoch 41/50\n",
            "30/30 [==============================] - 1s 38ms/step - loss: 2.2708e-05 - accuracy: 1.0000 - val_loss: 1.3494 - val_accuracy: 0.8562\n",
            "Epoch 42/50\n",
            "30/30 [==============================] - 1s 38ms/step - loss: 1.6859e-05 - accuracy: 1.0000 - val_loss: 1.3650 - val_accuracy: 0.8567\n",
            "Epoch 43/50\n",
            "30/30 [==============================] - 1s 39ms/step - loss: 1.3271e-05 - accuracy: 1.0000 - val_loss: 1.4088 - val_accuracy: 0.8579\n",
            "Epoch 44/50\n",
            "30/30 [==============================] - 1s 40ms/step - loss: 8.9680e-06 - accuracy: 1.0000 - val_loss: 1.4729 - val_accuracy: 0.8576\n",
            "Epoch 45/50\n",
            "30/30 [==============================] - 1s 38ms/step - loss: 0.0023 - accuracy: 0.9992 - val_loss: 1.5166 - val_accuracy: 0.8574\n",
            "Epoch 46/50\n",
            "30/30 [==============================] - 1s 41ms/step - loss: 9.1344e-06 - accuracy: 1.0000 - val_loss: 1.5116 - val_accuracy: 0.8576\n",
            "Epoch 47/50\n",
            "30/30 [==============================] - 1s 38ms/step - loss: 6.5177e-06 - accuracy: 1.0000 - val_loss: 1.5116 - val_accuracy: 0.8573\n",
            "Epoch 48/50\n",
            "30/30 [==============================] - 1s 38ms/step - loss: 4.9674e-06 - accuracy: 1.0000 - val_loss: 1.5208 - val_accuracy: 0.8564\n",
            "Epoch 49/50\n",
            "30/30 [==============================] - 1s 39ms/step - loss: 3.8841e-06 - accuracy: 1.0000 - val_loss: 1.5479 - val_accuracy: 0.8562\n",
            "Epoch 50/50\n",
            "30/30 [==============================] - 1s 39ms/step - loss: 8.6634e-04 - accuracy: 0.9997 - val_loss: 1.5929 - val_accuracy: 0.8574\n"
          ]
        }
      ]
    },
    {
      "cell_type": "markdown",
      "metadata": {
        "id": "ay7YsBtJxGqT"
      },
      "source": [
        "* modle.fit() 메서드는 History 객체를 반환 -> 훈련하는 동안 발생한 모든 정보를 담고 있는 딕셔너리인 history 속성을 가지고 있음"
      ]
    },
    {
      "cell_type": "code",
      "metadata": {
        "colab": {
          "base_uri": "https://localhost:8080/"
        },
        "id": "VPRqMZBRxCJi",
        "outputId": "42e8271a-bee5-45cc-ebde-894e1a117da0"
      },
      "source": [
        "history_dict = history.history\n",
        "history_dict.keys()"
      ],
      "execution_count": 33,
      "outputs": [
        {
          "output_type": "execute_result",
          "data": {
            "text/plain": [
              "dict_keys(['loss', 'accuracy', 'val_loss', 'val_accuracy'])"
            ]
          },
          "metadata": {},
          "execution_count": 33
        }
      ]
    },
    {
      "cell_type": "code",
      "metadata": {
        "colab": {
          "base_uri": "https://localhost:8080/",
          "height": 689
        },
        "id": "mRFTuj8nxVfl",
        "outputId": "91554999-cc56-4bd2-ef8a-fe629d7b09ab"
      },
      "source": [
        "import matplotlib.pyplot as plt\n",
        "\n",
        "history_dict = history.history\n",
        "loss = history_dict['loss']\n",
        "val_loss = history_dict['val_loss']\n",
        "\n",
        "epochs = range(1, len(loss)+1)\n",
        "\n",
        "plt.figure(figsize=(16,12))\n",
        "plt.plot(epochs, loss, 'bo', label='Training loss')\n",
        "plt.plot(epochs, val_loss, 'b', label=\"Validation loss\")\n",
        "plt.title(\"Training and validation loss\")\n",
        "plt.xlabel(\"Epochs\")\n",
        "plt.ylabel(\"loss\")\n",
        "plt.legend()\n",
        "plt.show()"
      ],
      "execution_count": 35,
      "outputs": [
        {
          "output_type": "display_data",
          "data": {
            "image/png": "[encoded data removed]",
            "text/plain": [
              "<Figure size 1152x864 with 1 Axes>"
            ]
          },
          "metadata": {
            "needs_background": "light"
          }
        }
      ]
    },
    {
      "cell_type": "code",
      "metadata": {
        "colab": {
          "base_uri": "https://localhost:8080/",
          "height": 703
        },
        "id": "SpbetxZXyDew",
        "outputId": "1282628e-8b4d-44ea-c222-033c631d9cfa"
      },
      "source": [
        "plt.clf()\n",
        "acc = history_dict['accuracy']\n",
        "val_acc = history_dict['val_accuracy']\n",
        "\n",
        "epochs = range(1, len(loss)+1)\n",
        "\n",
        "plt.figure(figsize=(16,12))\n",
        "plt.plot(epochs, acc, 'bo', label='Training acc')\n",
        "plt.plot(epochs, val_acc, 'b', label='Validation acc')\n",
        "plt.title('Training and validation accuracy')\n",
        "plt.xlabel('Epochs')\n",
        "plt.ylabel('Accuracy')\n",
        "plt.legend()\n",
        "plt.show()"
      ],
      "execution_count": 45,
      "outputs": [
        {
          "output_type": "display_data",
          "data": {
            "text/plain": [
              "<Figure size 432x288 with 0 Axes>"
            ]
          },
          "metadata": {}
        },
        {
          "output_type": "display_data",
          "data": {
            "image/png": "[encoded data removed]",
            "text/plain": [
              "<Figure size 1152x864 with 1 Axes>"
            ]
          },
          "metadata": {
            "needs_background": "light"
          }
        }
      ]
    },
    {
      "cell_type": "markdown",
      "metadata": {
        "id": "U1ICTD7c1cXW"
      },
      "source": [
        "* 훈련손실이 에포크마다 감소하고 훈련정확도는 에포크마다 증가\n",
        "* 경사 하강법 최적화를 사용했을 때 반복마다 최소화되는 것이 손실이므로 기대와 동일\n",
        "* 검증 손실과 검증 정확도는 훈련손실/정확도와 같지 않음 → 4번째 에포크에서 역전\n",
        "* 훈련세트에서 잘 작동하는 모델이 처음 보는 데이터에서는 잘 작동하지 않는 예 → 과대적합(overfitting) → 훈련데이터에 과도하게 최적화되어 훈련데이터에 특화된 표현을 학습하므로 훈련세트 이외의 데이터에는 일반화되지 못함\n",
        "* 훈련데이터에 대해 성능이 향상됨에 따라 신경망은 과대적합되기 시작 → 이전에 본 적 없는 데이터에서는 결과가 점점 나빠짐 → 항상 훈련세트 이외의 데이터에서 성능을 모니터링 해야 함\n",
        "* 과대적합을 방지하기 위해 세번째 에포크 이후에 훈련을 중지할 수 있음"
      ]
    },
    {
      "cell_type": "code",
      "metadata": {
        "colab": {
          "base_uri": "https://localhost:8080/"
        },
        "id": "xs3lRpO-0Xeo",
        "outputId": "46a97719-1a76-46a1-8aee-30df94303720"
      },
      "source": [
        "model = models.Sequential()\n",
        "model.add(layers.Dense(16, activation='relu', input_shape=(10000,)))\n",
        "model.add(layers.Dense(16, activation='relu'))\n",
        "model.add(layers.Dense(1, activation='sigmoid'))\n",
        "\n",
        "model.compile(optimizer='rmsprop', loss='binary_crossentropy', metrics=['accuracy'])\n",
        "model.fit(x_train, y_train, epochs=4, batch_size=512)\n",
        "results = model.evaluate(x_test, y_test)"
      ],
      "execution_count": 46,
      "outputs": [
        {
          "output_type": "stream",
          "name": "stdout",
          "text": [
            "Epoch 1/4\n",
            "49/49 [==============================] - 2s 27ms/step - loss: 0.4654 - accuracy: 0.8242\n",
            "Epoch 2/4\n",
            "49/49 [==============================] - 1s 27ms/step - loss: 0.2700 - accuracy: 0.9101\n",
            "Epoch 3/4\n",
            "49/49 [==============================] - 1s 27ms/step - loss: 0.2080 - accuracy: 0.9256\n",
            "Epoch 4/4\n",
            "49/49 [==============================] - 1s 26ms/step - loss: 0.1743 - accuracy: 0.9393\n",
            "782/782 [==============================] - 1s 2ms/step - loss: 0.2979 - accuracy: 0.8819\n"
          ]
        }
      ]
    },
    {
      "cell_type": "code",
      "metadata": {
        "colab": {
          "base_uri": "https://localhost:8080/"
        },
        "id": "IXX9qrsz2cHg",
        "outputId": "8acacbc2-c0fc-4c6c-83a2-ec9909c3fb6d"
      },
      "source": [
        "print(results)"
      ],
      "execution_count": 47,
      "outputs": [
        {
          "output_type": "stream",
          "name": "stdout",
          "text": [
            "[0.29785168170928955, 0.8819199800491333]\n"
          ]
        }
      ]
    },
    {
      "cell_type": "code",
      "metadata": {
        "colab": {
          "base_uri": "https://localhost:8080/"
        },
        "id": "GczF1r4A2VhR",
        "outputId": "307a8feb-5477-4630-96e6-3c2a0a393627"
      },
      "source": [
        "# 훈현된 모델로 새로운 데이터에 대해 예측\n",
        "model.predict(x_test)"
      ],
      "execution_count": 48,
      "outputs": [
        {
          "output_type": "execute_result",
          "data": {
            "text/plain": [
              "array([[0.236227  ],\n",
              "       [0.9999387 ],\n",
              "       [0.94591355],\n",
              "       ...,\n",
              "       [0.14606884],\n",
              "       [0.11073336],\n",
              "       [0.66035515]], dtype=float32)"
            ]
          },
          "metadata": {},
          "execution_count": 48
        }
      ]
    },
    {
      "cell_type": "markdown",
      "metadata": {
        "id": "dQMJSS9d2gN7"
      },
      "source": [
        "# 추가실험\n",
        "\n",
        "* 1개 또는 3개의 은닉층을 사용\n",
        "* 층의 은닉 유닛을 추가하거나 줄여보기 eg) 32개 또는 64개\n",
        "* binary_crossentropy 대신 mse 사용\n",
        "* Activation함수로 relu 대신 tanh 사용\n",
        "  * 로이터 뉴스를 46개의 상호 배타적 토픽으로 분류 → 다중분류\n",
        "    * 로이터 데이터셋\n",
        "    * 1986년 로이터에서 공개한 짧은 뉴스 기사와 토픽의 집합 \n",
        "    * 46개의 토픽\n",
        "    * 각 토픽은 훈련세트에 최소한 10개의 샘플을 가지고 있음"
      ]
    },
    {
      "cell_type": "code",
      "metadata": {
        "colab": {
          "base_uri": "https://localhost:8080/"
        },
        "id": "3syJsK3m2hEz",
        "outputId": "1e87c097-cb8d-4029-a548-9c73bafcc74a"
      },
      "source": [
        "from keras.datasets import reuters\n",
        "(train_data, train_labels), (test_data, test_labels) = reuters.load_data(num_words=10000)"
      ],
      "execution_count": 52,
      "outputs": [
        {
          "output_type": "stream",
          "name": "stdout",
          "text": [
            "Downloading data from https://storage.googleapis.com/tensorflow/tf-keras-datasets/reuters.npz\n",
            "2113536/2110848 [==============================] - 0s 0us/step\n",
            "2121728/2110848 [==============================] - 0s 0us/step\n"
          ]
        }
      ]
    },
    {
      "cell_type": "code",
      "metadata": {
        "colab": {
          "base_uri": "https://localhost:8080/"
        },
        "id": "UeF4BHFB3FQU",
        "outputId": "b387f0bd-97c1-451b-d46a-017c4c01f9d2"
      },
      "source": [
        "print(len(train_data))\n",
        "print(len(test_data))"
      ],
      "execution_count": 53,
      "outputs": [
        {
          "output_type": "stream",
          "name": "stdout",
          "text": [
            "8982\n",
            "2246\n"
          ]
        }
      ]
    },
    {
      "cell_type": "code",
      "metadata": {
        "colab": {
          "base_uri": "https://localhost:8080/"
        },
        "id": "ejEZpIk63XPS",
        "outputId": "48091020-1776-466f-ed3d-90bddacb1090"
      },
      "source": [
        "print(train_data[0])"
      ],
      "execution_count": 54,
      "outputs": [
        {
          "output_type": "stream",
          "name": "stdout",
          "text": [
            "[1, 2, 2, 8, 43, 10, 447, 5, 25, 207, 270, 5, 3095, 111, 16, 369, 186, 90, 67, 7, 89, 5, 19, 102, 6, 19, 124, 15, 90, 67, 84, 22, 482, 26, 7, 48, 4, 49, 8, 864, 39, 209, 154, 6, 151, 6, 83, 11, 15, 22, 155, 11, 15, 7, 48, 9, 4579, 1005, 504, 6, 258, 6, 272, 11, 15, 22, 134, 44, 11, 15, 16, 8, 197, 1245, 90, 67, 52, 29, 209, 30, 32, 132, 6, 109, 15, 17, 12]\n"
          ]
        }
      ]
    },
    {
      "cell_type": "code",
      "metadata": {
        "colab": {
          "base_uri": "https://localhost:8080/"
        },
        "id": "AbE6A2rl3a8A",
        "outputId": "f38e50bb-1446-4346-8dc3-de724a485c35"
      },
      "source": [
        "print(train_labels[0])    #index로 0~45사이의 정수"
      ],
      "execution_count": 56,
      "outputs": [
        {
          "output_type": "stream",
          "name": "stdout",
          "text": [
            "3\n"
          ]
        }
      ]
    },
    {
      "cell_type": "markdown",
      "metadata": {
        "id": "ctY7Dm_t3inF"
      },
      "source": [
        "## 데이터 준비\n",
        "\n",
        "* 데이터를 벡터로 변환"
      ]
    },
    {
      "cell_type": "code",
      "metadata": {
        "id": "BbmPK8Wg3dKx"
      },
      "source": [
        "import numpy as np\n",
        "\n",
        "def vectorize_sequences(seqs, dim=10000):\n",
        "  results = np.zeros((len(seqs), dim))\n",
        "  for i, seq in enumerate(seqs):\n",
        "    results[i,seq] = 1.   #특정 인덱스의 위치를 1. 으로 만듦\n",
        "  return results\n",
        "\n",
        "x_train = vectorize_sequences(train_data)\n",
        "x_test = vectorize_sequences(test_data)"
      ],
      "execution_count": 57,
      "outputs": []
    },
    {
      "cell_type": "markdown",
      "metadata": {
        "id": "kCyedMKJ4Dmo"
      },
      "source": [
        "* 레이블을 벡터로 변환 → one-hot encoding이 범주형 데이터에 널리 사용"
      ]
    },
    {
      "cell_type": "code",
      "metadata": {
        "id": "JVwfIQt14Anh"
      },
      "source": [
        "def to_one_hot(labels, dim=46):\n",
        "  results = np.zeros((len(labels),dim))\n",
        "  for i, l in enumerate(labels):\n",
        "    results[i, l] = 1.\n",
        "  return results\n",
        "\n",
        "one_hot_train_labels = to_one_hot(train_labels)\n",
        "one_hot_test_labels = to_one_hot(test_labels)"
      ],
      "execution_count": 93,
      "outputs": []
    },
    {
      "cell_type": "code",
      "metadata": {
        "id": "k_QBwXQr4hYO"
      },
      "source": [
        "# 위 코드와 같은 방법\n",
        "# from keras.utils.np_utils import to_categorical\n",
        "\n",
        "# one_hot_train_labels = to_categorical(train_labels)\n",
        "# one_hot_test_labels = to_categorical(test_labels)"
      ],
      "execution_count": 66,
      "outputs": []
    },
    {
      "cell_type": "markdown",
      "metadata": {
        "id": "dfV_-chz5WGL"
      },
      "source": [
        "## 모델 구성\n",
        "* 영화리뷰와 비슷해 보이나 출력 클래스의 개수가 2개에서 46개로 늘어남 → 출력 공간의 차원이 훨씬 커짐\n",
        "* Dense층을 쌓으면 각 층은 이전 층의 출력에서 제공한 정보만 사용 가능\n",
        "* 한 층이 분류문제에 필요한 일부 정보를 누락하면 그 다음 층에서 이를 복원할 수 없음 → 각 층은 정보의 병목(bottleneck)이 될 수 있음\n",
        "* 영화리뷰에선 16차원을 가진 중간층 사용 → 16차원 공간은 46개 클래스를 구분하기에 제약이 많을거 같음"
      ]
    },
    {
      "cell_type": "code",
      "metadata": {
        "id": "Y6c0xBW05SKe"
      },
      "source": [
        "from keras import models\n",
        "from keras import layers\n",
        "\n",
        "model = models.Sequential()\n",
        "model.add(layers.Dense(64, activation='relu', input_shape=(10000,)))\n",
        "model.add(layers.Dense(64, activation='relu'))\n",
        "model.add(layers.Dense(46, activation='softmax'))"
      ],
      "execution_count": 94,
      "outputs": []
    },
    {
      "cell_type": "markdown",
      "metadata": {
        "id": "4xLRGLXO52gq"
      },
      "source": [
        "* 마지막 Dense층의 크기가 46 → 각 입력 샘플에 대해 46차원의 벡터를 출력. 이 벡터의 각 원소는 각기 다른 출력 클래스가 인코딩 된 것\n",
        "* 마지막 층에 softmax 활성화 함수 사용 → 각 입력 샘플마다 46개의 출력클래스에 대한 확률 분포를 출력. 46차원 출력벡터를 만들며 output[i]는 어떤 샘플이 클래스 i에 속할 확률. 46개 값을 모두 더하면 1이 됨\n",
        "• 이런 문제에 사용할 최선의 손실함수는 categorical_crossentropy"
      ]
    },
    {
      "cell_type": "code",
      "metadata": {
        "id": "BbtS8byp5zMi"
      },
      "source": [
        "model.compile(optimizer='rmsprop', loss='categorical_crossentropy', metrics=['accuracy'])"
      ],
      "execution_count": 95,
      "outputs": []
    },
    {
      "cell_type": "markdown",
      "metadata": {
        "id": "vN4it3kn6PIg"
      },
      "source": [
        "## 훈련 검증\n",
        "* 훈련 데이터에서 1000개의 샘플을 따로 떼어 검증세트로 사용"
      ]
    },
    {
      "cell_type": "code",
      "metadata": {
        "id": "scD5rxk16K6s"
      },
      "source": [
        "x_val = x_train[:1000]\n",
        "partial_x_train = x_train[1000:]\n",
        "y_val = one_hot_train_labels[:1000]\n",
        "partial_y_train = one_hot_train_labels[1000:]"
      ],
      "execution_count": 96,
      "outputs": []
    },
    {
      "cell_type": "code",
      "metadata": {
        "colab": {
          "base_uri": "https://localhost:8080/"
        },
        "id": "Ms2SBsDsBesq",
        "outputId": "fd007401-71f2-4d07-9ca4-9f116c45df54"
      },
      "source": [
        "import numpy as np\n",
        "print(np.shape(train_data), np.shape(train_labels), np.shape(x_val), np.shape(partial_x_train), np.shape(y_val), np.shape(partial_y_train))"
      ],
      "execution_count": 97,
      "outputs": [
        {
          "output_type": "stream",
          "name": "stdout",
          "text": [
            "(8982,) (8982,) (1000, 10000) (7982, 10000) (1000, 46) (7982, 46)\n"
          ]
        }
      ]
    },
    {
      "cell_type": "markdown",
      "metadata": {
        "id": "7ZpmoPLR6l4_"
      },
      "source": [
        "* 20번의 에포크로 모델을 훈련"
      ]
    },
    {
      "cell_type": "code",
      "metadata": {
        "colab": {
          "base_uri": "https://localhost:8080/"
        },
        "id": "ngherlei6fKB",
        "outputId": "f8c7fd75-100c-4425-d412-89d2c75905a1"
      },
      "source": [
        "history = model.fit(partial_x_train, partial_y_train, epochs=20, batch_size=512, validation_data=(x_val, y_val))"
      ],
      "execution_count": 98,
      "outputs": [
        {
          "output_type": "stream",
          "name": "stdout",
          "text": [
            "Epoch 1/20\n",
            "16/16 [==============================] - 1s 58ms/step - loss: 2.7123 - accuracy: 0.5267 - val_loss: 1.8207 - val_accuracy: 0.6390\n",
            "Epoch 2/20\n",
            "16/16 [==============================] - 1s 42ms/step - loss: 1.4715 - accuracy: 0.7016 - val_loss: 1.3555 - val_accuracy: 0.6970\n",
            "Epoch 3/20\n",
            "16/16 [==============================] - 1s 42ms/step - loss: 1.0816 - accuracy: 0.7672 - val_loss: 1.1629 - val_accuracy: 0.7470\n",
            "Epoch 4/20\n",
            "16/16 [==============================] - 1s 43ms/step - loss: 0.8580 - accuracy: 0.8201 - val_loss: 1.0528 - val_accuracy: 0.7840\n",
            "Epoch 5/20\n",
            "16/16 [==============================] - 1s 43ms/step - loss: 0.6908 - accuracy: 0.8558 - val_loss: 0.9831 - val_accuracy: 0.7910\n",
            "Epoch 6/20\n",
            "16/16 [==============================] - 1s 43ms/step - loss: 0.5627 - accuracy: 0.8849 - val_loss: 0.9527 - val_accuracy: 0.8000\n",
            "Epoch 7/20\n",
            "16/16 [==============================] - 1s 41ms/step - loss: 0.4512 - accuracy: 0.9077 - val_loss: 0.9082 - val_accuracy: 0.8120\n",
            "Epoch 8/20\n",
            "16/16 [==============================] - 1s 42ms/step - loss: 0.3689 - accuracy: 0.9246 - val_loss: 0.8965 - val_accuracy: 0.8200\n",
            "Epoch 9/20\n",
            "16/16 [==============================] - 1s 42ms/step - loss: 0.3089 - accuracy: 0.9351 - val_loss: 0.9013 - val_accuracy: 0.8210\n",
            "Epoch 10/20\n",
            "16/16 [==============================] - 1s 43ms/step - loss: 0.2539 - accuracy: 0.9421 - val_loss: 1.0171 - val_accuracy: 0.8080\n",
            "Epoch 11/20\n",
            "16/16 [==============================] - 1s 43ms/step - loss: 0.2253 - accuracy: 0.9463 - val_loss: 0.9119 - val_accuracy: 0.8200\n",
            "Epoch 12/20\n",
            "16/16 [==============================] - 1s 43ms/step - loss: 0.1949 - accuracy: 0.9509 - val_loss: 0.9318 - val_accuracy: 0.8120\n",
            "Epoch 13/20\n",
            "16/16 [==============================] - 1s 43ms/step - loss: 0.1722 - accuracy: 0.9536 - val_loss: 0.9480 - val_accuracy: 0.8180\n",
            "Epoch 14/20\n",
            "16/16 [==============================] - 1s 42ms/step - loss: 0.1552 - accuracy: 0.9540 - val_loss: 0.9537 - val_accuracy: 0.8170\n",
            "Epoch 15/20\n",
            "16/16 [==============================] - 1s 42ms/step - loss: 0.1458 - accuracy: 0.9560 - val_loss: 0.9764 - val_accuracy: 0.8100\n",
            "Epoch 16/20\n",
            "16/16 [==============================] - 1s 42ms/step - loss: 0.1359 - accuracy: 0.9548 - val_loss: 1.0379 - val_accuracy: 0.7990\n",
            "Epoch 17/20\n",
            "16/16 [==============================] - 1s 43ms/step - loss: 0.1279 - accuracy: 0.9554 - val_loss: 1.0360 - val_accuracy: 0.8090\n",
            "Epoch 18/20\n",
            "16/16 [==============================] - 1s 44ms/step - loss: 0.1198 - accuracy: 0.9575 - val_loss: 1.0645 - val_accuracy: 0.8030\n",
            "Epoch 19/20\n",
            "16/16 [==============================] - 1s 42ms/step - loss: 0.1181 - accuracy: 0.9569 - val_loss: 1.0555 - val_accuracy: 0.8050\n",
            "Epoch 20/20\n",
            "16/16 [==============================] - 1s 42ms/step - loss: 0.1118 - accuracy: 0.9574 - val_loss: 1.0895 - val_accuracy: 0.8000\n"
          ]
        }
      ]
    },
    {
      "cell_type": "code",
      "metadata": {
        "colab": {
          "base_uri": "https://localhost:8080/",
          "height": 689
        },
        "id": "QQcCU17qExlG",
        "outputId": "dfd452a3-eb5b-47d4-e9f9-988107c1a69d"
      },
      "source": [
        "# 손실과 정확도 곡선\n",
        "\n",
        "import matplotlib.pyplot as plt\n",
        "\n",
        "history_dict = history.history\n",
        "loss = history_dict['loss']\n",
        "val_loss = history_dict['val_loss']\n",
        "\n",
        "epochs = range(1, len(loss)+1)\n",
        "\n",
        "plt.figure(figsize=(16,12))\n",
        "plt.plot(epochs, loss, 'bo', label='Traing loss')\n",
        "plt.plot(epochs, val_loss, 'b', label='Validation loss')\n",
        "plt.title('Training and validation loss')\n",
        "plt.xlabel('Epochs')\n",
        "plt.ylabel('loss')\n",
        "plt.legend()\n",
        "plt.show()"
      ],
      "execution_count": 103,
      "outputs": [
        {
          "output_type": "display_data",
          "data": {
            "image/png": "[encoded data removed]",
            "text/plain": [
              "<Figure size 1152x864 with 1 Axes>"
            ]
          },
          "metadata": {
            "needs_background": "light"
          }
        }
      ]
    },
    {
      "cell_type": "code",
      "metadata": {
        "colab": {
          "base_uri": "https://localhost:8080/",
          "height": 707
        },
        "id": "IsvR0Jhe6xXc",
        "outputId": "390f868d-7b83-4e6f-dff3-4526e1f59277"
      },
      "source": [
        "plt.clf()\n",
        "acc = history_dict['accuracy']\n",
        "val_acc = history_dict['val_accuracy']\n",
        "\n",
        "epochs = range(1, len(loss)+1)\n",
        "\n",
        "plt.figure(figsize=(16,12))\n",
        "plt.plot(epochs, acc, 'bo', label='Training Accuracy')\n",
        "plt.plot(epochs, val_acc, 'b', label='Validation Accucary')\n",
        "plt.title('Training and validation accuracy')\n",
        "plt.xlabel('Epochs')\n",
        "plt.ylabel('Accuracy')\n",
        "plt.legend()\n",
        "plt.show()"
      ],
      "execution_count": 104,
      "outputs": [
        {
          "output_type": "display_data",
          "data": {
            "text/plain": [
              "<Figure size 432x288 with 0 Axes>"
            ]
          },
          "metadata": {}
        },
        {
          "output_type": "display_data",
          "data": {
            "image/png": "[encoded data removed]",
            "text/plain": [
              "<Figure size 1152x864 with 1 Axes>"
            ]
          },
          "metadata": {
            "needs_background": "light"
          }
        }
      ]
    },
    {
      "cell_type": "markdown",
      "metadata": {
        "id": "4ZMKknHLF8GA"
      },
      "source": [
        "* 9번째 에포크에서 과대적합 시작 -> 9번의 에포크로 새로운 모델을 훈련"
      ]
    },
    {
      "cell_type": "code",
      "metadata": {
        "colab": {
          "base_uri": "https://localhost:8080/"
        },
        "id": "IxCBTzAdF3cj",
        "outputId": "4b55dae8-6a99-410a-f851-d03aaed628a7"
      },
      "source": [
        "model = models.Sequential()\n",
        "model.add(layers.Dense(64, activation='relu', input_shape=(10000,)))\n",
        "model.add(layers.Dense(64, activation='relu'))\n",
        "model.add(layers.Dense(46, activation='softmax'))\n",
        "\n",
        "model.compile(optimizer='rmsprop', loss='categorical_crossentropy', metrics=['accuracy'])\n",
        "model.fit(partial_x_train, partial_y_train, epochs=9, batch_size=512)\n",
        "results = model.evaluate(x_test, one_hot_test_labels)\n",
        "print(results)"
      ],
      "execution_count": 105,
      "outputs": [
        {
          "output_type": "stream",
          "name": "stdout",
          "text": [
            "Epoch 1/9\n",
            "16/16 [==============================] - 1s 39ms/step - loss: 2.5635 - accuracy: 0.5289\n",
            "Epoch 2/9\n",
            "16/16 [==============================] - 1s 40ms/step - loss: 1.4400 - accuracy: 0.7022\n",
            "Epoch 3/9\n",
            "16/16 [==============================] - 1s 39ms/step - loss: 1.0728 - accuracy: 0.7692\n",
            "Epoch 4/9\n",
            "16/16 [==============================] - 1s 39ms/step - loss: 0.8427 - accuracy: 0.8192\n",
            "Epoch 5/9\n",
            "16/16 [==============================] - 1s 40ms/step - loss: 0.6688 - accuracy: 0.8589\n",
            "Epoch 6/9\n",
            "16/16 [==============================] - 1s 40ms/step - loss: 0.5298 - accuracy: 0.8919\n",
            "Epoch 7/9\n",
            "16/16 [==============================] - 1s 39ms/step - loss: 0.4246 - accuracy: 0.9168\n",
            "Epoch 8/9\n",
            "16/16 [==============================] - 1s 40ms/step - loss: 0.3419 - accuracy: 0.9298\n",
            "Epoch 9/9\n",
            "16/16 [==============================] - 1s 39ms/step - loss: 0.2827 - accuracy: 0.9382\n",
            "71/71 [==============================] - 0s 2ms/step - loss: 1.0114 - accuracy: 0.7850\n",
            "[1.0113677978515625, 0.7849510312080383]\n"
          ]
        }
      ]
    },
    {
      "cell_type": "markdown",
      "metadata": {
        "id": "-D-nUa7wGoSy"
      },
      "source": [
        "* 새로운 데이터 예측"
      ]
    },
    {
      "cell_type": "code",
      "metadata": {
        "id": "aSPg5px9GkXK"
      },
      "source": [
        "predictions = model.predict(x_test)"
      ],
      "execution_count": 106,
      "outputs": []
    },
    {
      "cell_type": "code",
      "metadata": {
        "colab": {
          "base_uri": "https://localhost:8080/"
        },
        "id": "V_5Lluw8GtKP",
        "outputId": "a498e2a7-659b-4284-e61f-94c7b479efc3"
      },
      "source": [
        "predictions[0].shape"
      ],
      "execution_count": 107,
      "outputs": [
        {
          "output_type": "execute_result",
          "data": {
            "text/plain": [
              "(46,)"
            ]
          },
          "metadata": {},
          "execution_count": 107
        }
      ]
    },
    {
      "cell_type": "code",
      "metadata": {
        "colab": {
          "base_uri": "https://localhost:8080/"
        },
        "id": "K3I3oKrWGvJy",
        "outputId": "6c25d7aa-a879-4dff-c323-e4e758967ee3"
      },
      "source": [
        "np.sum(predictions[0])"
      ],
      "execution_count": 108,
      "outputs": [
        {
          "output_type": "execute_result",
          "data": {
            "text/plain": [
              "0.99999994"
            ]
          },
          "metadata": {},
          "execution_count": 108
        }
      ]
    },
    {
      "cell_type": "code",
      "metadata": {
        "colab": {
          "base_uri": "https://localhost:8080/"
        },
        "id": "JCITUmwjGxEe",
        "outputId": "d6cfbd13-0b74-4634-b0ec-f74692287da9"
      },
      "source": [
        "np.argmax(predictions[0])"
      ],
      "execution_count": 109,
      "outputs": [
        {
          "output_type": "execute_result",
          "data": {
            "text/plain": [
              "3"
            ]
          },
          "metadata": {},
          "execution_count": 109
        }
      ]
    },
    {
      "cell_type": "markdown",
      "metadata": {
        "id": "dhohtM2QG265"
      },
      "source": [
        "* 충분히 큰 중간층을 두어야 하는 이유\n",
        "  * 마지막 출력이 46차원 → 중간층의 히든 유닛이 46보다 많이 적어서는 안됨"
      ]
    },
    {
      "cell_type": "code",
      "metadata": {
        "colab": {
          "base_uri": "https://localhost:8080/"
        },
        "id": "_Aykwnn2G08r",
        "outputId": "d7f83419-a3d6-4735-8f01-1a3bd2862481"
      },
      "source": [
        "model = models.Sequential()\n",
        "model.add(layers.Dense(64, activation='relu', input_shape=(10000,)))\n",
        "model.add(layers.Dense(4, activation='relu'))\n",
        "model.add(layers.Dense(46, activation='softmax'))\n",
        "\n",
        "model.compile(optimizer='rmsprop', loss='categorical_crossentropy', metrics=['accuracy'])\n",
        "model.fit(partial_x_train, partial_y_train, epochs=9, batch_size=512)\n",
        "results = model.evaluate(x_test, one_hot_test_labels)\n",
        "print(results)"
      ],
      "execution_count": 111,
      "outputs": [
        {
          "output_type": "stream",
          "name": "stdout",
          "text": [
            "Epoch 1/9\n",
            "16/16 [==============================] - 1s 39ms/step - loss: 3.5253 - accuracy: 0.0059\n",
            "Epoch 2/9\n",
            "16/16 [==============================] - 1s 40ms/step - loss: 3.0008 - accuracy: 0.1381\n",
            "Epoch 3/9\n",
            "16/16 [==============================] - 1s 39ms/step - loss: 2.5270 - accuracy: 0.4049\n",
            "Epoch 4/9\n",
            "16/16 [==============================] - 1s 39ms/step - loss: 2.0966 - accuracy: 0.5380\n",
            "Epoch 5/9\n",
            "16/16 [==============================] - 1s 38ms/step - loss: 1.7800 - accuracy: 0.5777\n",
            "Epoch 6/9\n",
            "16/16 [==============================] - 1s 39ms/step - loss: 1.5800 - accuracy: 0.5837\n",
            "Epoch 7/9\n",
            "16/16 [==============================] - 1s 39ms/step - loss: 1.4523 - accuracy: 0.5890\n",
            "Epoch 8/9\n",
            "16/16 [==============================] - 1s 40ms/step - loss: 1.3591 - accuracy: 0.5910\n",
            "Epoch 9/9\n",
            "16/16 [==============================] - 1s 38ms/step - loss: 1.2844 - accuracy: 0.6240\n",
            "71/71 [==============================] - 0s 2ms/step - loss: 1.5926 - accuracy: 0.6011\n",
            "[1.592592477798462, 0.6010685563087463]\n"
          ]
        }
      ]
    },
    {
      "cell_type": "code",
      "metadata": {
        "id": "V7ifO6j4HaUs"
      },
      "source": [
        ""
      ],
      "execution_count": null,
      "outputs": []
    }
  ]
}