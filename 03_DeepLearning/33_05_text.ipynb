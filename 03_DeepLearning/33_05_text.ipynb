{
  "nbformat": 4,
  "nbformat_minor": 0,
  "metadata": {
    "colab": {
      "name": "33_05_text.ipynb",
      "provenance": [],
      "collapsed_sections": []
    },
    "kernelspec": {
      "name": "python3",
      "display_name": "Python 3"
    },
    "language_info": {
      "name": "python"
    }
  },
  "cells": [
    {
      "cell_type": "code",
      "metadata": {
        "id": "dnXM4zKGGYyd"
      },
      "source": [
        "# Word-level one-hot encoding\n",
        "import numpy as np\n",
        "samples = ['The cat sat on the mat.', 'The dog ate my homework.']\n",
        "token_index = {}\n",
        "for sample in samples:\n",
        "    for word in sample.split():\n",
        "        if word not in token_index:\n",
        "            token_index[word] = len(token_index) + 1\n",
        "max_length = 10\n",
        "results = np.zeros(shape=(len(samples), max_length, max(token_index.values()) + 1))\n",
        "for i, sample in enumerate(samples):\n",
        "    for j, word in list(enumerate(sample.split()))[:max_length]:\n",
        "        index = token_index.get(word)\n",
        "        results[i, j, index] = 1."
      ],
      "execution_count": 3,
      "outputs": []
    },
    {
      "cell_type": "code",
      "metadata": {
        "id": "uz1jUSpHGix1"
      },
      "source": [
        "# Character-level one-hot encoding\n",
        "import string\n",
        "samples = ['The cat sat on the mat.', 'The dog ate my homework.']\n",
        "characters = string.printable\n",
        "token_index = dict(zip(range(1, len(characters) + 1), characters))\n",
        "max_length = 50\n",
        "results = np.zeros((len(samples), max_length, max(token_index.keys()) + 1))\n",
        "for i, sample in enumerate(samples):\n",
        "    for j, character in enumerate(sample):\n",
        "        index = token_index.get(character)\n",
        "        results[i, j, index] = 1."
      ],
      "execution_count": 4,
      "outputs": []
    },
    {
      "cell_type": "markdown",
      "metadata": {
        "id": "siHBBuDhVTTE"
      },
      "source": [
        "# IMDB movie-review sentiment prediction"
      ]
    },
    {
      "cell_type": "code",
      "metadata": {
        "colab": {
          "base_uri": "https://localhost:8080/"
        },
        "id": "6fOjWF28VbDb",
        "outputId": "c63dfd65-9580-4027-b59f-96c6e6eb0ba1"
      },
      "source": [
        "# Loading the IMDB data for use with an Embedding layer\n",
        "\n",
        "from keras.datasets import imdb\n",
        "from keras import preprocessing\n",
        "\n",
        "max_features = 10000\n",
        "maxlen = 20\n",
        "\n",
        "(x_train, y_train), (x_test, y_test) = imdb.load_data(num_words=max_features)\n",
        "x_train = preprocessing.sequence.pad_sequences(x_train, maxlen= maxlen)\n",
        "x_test = preprocessing.sequence.pad_sequences(x_test, maxlen=maxlen)"
      ],
      "execution_count": 6,
      "outputs": [
        {
          "output_type": "stream",
          "name": "stdout",
          "text": [
            "Downloading data from https://storage.googleapis.com/tensorflow/tf-keras-datasets/imdb.npz\n",
            "17465344/17464789 [==============================] - 0s 0us/step\n",
            "17473536/17464789 [==============================] - 0s 0us/step\n"
          ]
        }
      ]
    },
    {
      "cell_type": "code",
      "metadata": {
        "colab": {
          "base_uri": "https://localhost:8080/"
        },
        "id": "uDEh_HG1VizZ",
        "outputId": "d0cf2f4d-6b23-47ae-9d5a-3a71010e6158"
      },
      "source": [
        "# Using an Embedding layer and classifier on the IMDB data\n",
        "\n",
        "from keras.models import Sequential\n",
        "from keras.layers import Flatten, Dense\n",
        "from keras.layers import Embedding\n",
        "\n",
        "model = Sequential()\n",
        "\n",
        "model.add(Embedding(10000, 8, input_length=maxlen))\n",
        "model.add(Flatten())\n",
        "model.add(Dense(1, activation='sigmoid'))\n",
        "\n",
        "model.compile(optimizer='rmsprop', loss='binary_crossentropy', metrics=['acc'])\n",
        "\n",
        "model.summary()\n",
        "\n",
        "history = model.fit(x_train, y_train, epochs=10, batch_size=32, validation_split=0.2)"
      ],
      "execution_count": 8,
      "outputs": [
        {
          "output_type": "stream",
          "name": "stdout",
          "text": [
            "Model: \"sequential_1\"\n",
            "_________________________________________________________________\n",
            "Layer (type)                 Output Shape              Param #   \n",
            "=================================================================\n",
            "embedding (Embedding)        (None, 20, 8)             80000     \n",
            "_________________________________________________________________\n",
            "flatten (Flatten)            (None, 160)               0         \n",
            "_________________________________________________________________\n",
            "dense (Dense)                (None, 1)                 161       \n",
            "=================================================================\n",
            "Total params: 80,161\n",
            "Trainable params: 80,161\n",
            "Non-trainable params: 0\n",
            "_________________________________________________________________\n",
            "Epoch 1/10\n",
            "625/625 [==============================] - 2s 2ms/step - loss: 0.6704 - acc: 0.6158 - val_loss: 0.6238 - val_acc: 0.6906\n",
            "Epoch 2/10\n",
            "625/625 [==============================] - 1s 2ms/step - loss: 0.5492 - acc: 0.7465 - val_loss: 0.5330 - val_acc: 0.7296\n",
            "Epoch 3/10\n",
            "625/625 [==============================] - 1s 2ms/step - loss: 0.4670 - acc: 0.7856 - val_loss: 0.5045 - val_acc: 0.7430\n",
            "Epoch 4/10\n",
            "625/625 [==============================] - 1s 2ms/step - loss: 0.4232 - acc: 0.8101 - val_loss: 0.4967 - val_acc: 0.7518\n",
            "Epoch 5/10\n",
            "625/625 [==============================] - 1s 2ms/step - loss: 0.3927 - acc: 0.8268 - val_loss: 0.4964 - val_acc: 0.7508\n",
            "Epoch 6/10\n",
            "625/625 [==============================] - 1s 2ms/step - loss: 0.3674 - acc: 0.8413 - val_loss: 0.5001 - val_acc: 0.7510\n",
            "Epoch 7/10\n",
            "625/625 [==============================] - 1s 2ms/step - loss: 0.3455 - acc: 0.8515 - val_loss: 0.5086 - val_acc: 0.7526\n",
            "Epoch 8/10\n",
            "625/625 [==============================] - 1s 2ms/step - loss: 0.3253 - acc: 0.8639 - val_loss: 0.5155 - val_acc: 0.7514\n",
            "Epoch 9/10\n",
            "625/625 [==============================] - 1s 2ms/step - loss: 0.3067 - acc: 0.8727 - val_loss: 0.5241 - val_acc: 0.7472\n",
            "Epoch 10/10\n",
            "625/625 [==============================] - 1s 2ms/step - loss: 0.2892 - acc: 0.8817 - val_loss: 0.5338 - val_acc: 0.7460\n"
          ]
        }
      ]
    },
    {
      "cell_type": "code",
      "metadata": {
        "colab": {
          "base_uri": "https://localhost:8080/",
          "height": 545
        },
        "id": "k_UQtNvnWG5M",
        "outputId": "294c939a-3723-4b44-a4c0-a581f8b71ec2"
      },
      "source": [
        "import matplotlib.pyplot as plt\n",
        "\n",
        "acc = history.history['acc']\n",
        "val_acc = history.history['val_acc']\n",
        "loss = history.history['loss']\n",
        "val_loss = history.history['val_loss']\n",
        "\n",
        "epochs = range(1, len(acc)+1)\n",
        "\n",
        "plt.plot(epochs, acc, 'bo', label='Training acc')\n",
        "plt.plot(epochs, val_acc, 'b', label='Validation acc')\n",
        "plt.title('Training and validation accuracy')\n",
        "plt.legend()\n",
        "plt.figure()\n",
        "\n",
        "plt.plot(epochs, loss, 'bo', label='Training loss')\n",
        "plt.plot(epochs, val_loss, 'b', label='Validation loss')\n",
        "plt.title('Training and validation loss')\n",
        "plt.legend()\n",
        "\n",
        "plt.show()"
      ],
      "execution_count": 9,
      "outputs": [
        {
          "output_type": "display_data",
          "data": {
            "image/png": "[encoded data removed]",
            "text/plain": [
              "<Figure size 432x288 with 1 Axes>"
            ]
          },
          "metadata": {
            "needs_background": "light"
          }
        },
        {
          "output_type": "display_data",
          "data": {
            "image/png": "[encoded data removed]",
            "text/plain": [
              "<Figure size 432x288 with 1 Axes>"
            ]
          },
          "metadata": {
            "needs_background": "light"
          }
        }
      ]
    },
    {
      "cell_type": "code",
      "metadata": {
        "colab": {
          "base_uri": "https://localhost:8080/"
        },
        "id": "zC2NXxUFVNcY",
        "outputId": "8bfb7131-33ae-4bad-9f90-e89a18dc8782"
      },
      "source": [
        "model.fit(x_train, y_train, epochs=4, batch_size=32, validation_split=0.2)"
      ],
      "execution_count": 10,
      "outputs": [
        {
          "output_type": "stream",
          "name": "stdout",
          "text": [
            "Epoch 1/4\n",
            "625/625 [==============================] - 1s 2ms/step - loss: 0.2728 - acc: 0.8902 - val_loss: 0.5453 - val_acc: 0.7444\n",
            "Epoch 2/4\n",
            "625/625 [==============================] - 1s 2ms/step - loss: 0.2575 - acc: 0.8964 - val_loss: 0.5579 - val_acc: 0.7442\n",
            "Epoch 3/4\n",
            "625/625 [==============================] - 1s 2ms/step - loss: 0.2432 - acc: 0.9059 - val_loss: 0.5718 - val_acc: 0.7420\n",
            "Epoch 4/4\n",
            "625/625 [==============================] - 1s 2ms/step - loss: 0.2295 - acc: 0.9132 - val_loss: 0.5852 - val_acc: 0.7372\n"
          ]
        }
      ]
    },
    {
      "cell_type": "markdown",
      "metadata": {
        "id": "s7TbTBYfho0X"
      },
      "source": [
        "# Downloading the IMDB Data as Raw Text"
      ]
    },
    {
      "cell_type": "code",
      "metadata": {
        "colab": {
          "base_uri": "https://localhost:8080/"
        },
        "id": "UFTiYVaun683",
        "outputId": "35c4a054-800d-457d-8820-d6100326a11e"
      },
      "source": [
        "from google.colab import drive\n",
        "drive.mount('/content/drive')"
      ],
      "execution_count": 19,
      "outputs": [
        {
          "output_type": "stream",
          "name": "stdout",
          "text": [
            "Mounted at /content/drive\n"
          ]
        }
      ]
    },
    {
      "cell_type": "code",
      "metadata": {
        "id": "H_S2Ou5_oTIc"
      },
      "source": [
        "import os, shutil, zipfile\n",
        "local_zip = '/content/drive/MyDrive/data/aclImdb.zip'\n",
        "zip_ref = zipfile.ZipFile(local_zip, 'r')\n",
        "zip_ref.extractall('/content')\n",
        "zip_ref.close()"
      ],
      "execution_count": 22,
      "outputs": []
    },
    {
      "cell_type": "code",
      "metadata": {
        "id": "47vwsJVXhpIH"
      },
      "source": [
        "# Downloading the IMDB Data as Raw Text\n",
        "import os\n",
        "\n",
        "imdb_dir = '/content/aclImdb'\n",
        "train_dir = os.path.join(imdb_dir, 'train')\n",
        "\n",
        "labels = []\n",
        "texts = []\n",
        "\n",
        "for label_type in ['neg', 'pos']:\n",
        "    dir_name = os.path.join(train_dir, label_type)\n",
        "    for fname in os.listdir(dir_name):\n",
        "        if fname[-4:] == '.txt':\n",
        "          f = open(os.path.join(dir_name, fname)) \n",
        "          texts.append(f.read())\n",
        "          f.close()\n",
        "          if label_type == 'neg':\n",
        "            labels.append(0)\n",
        "          else:\n",
        "            labels.append(1)"
      ],
      "execution_count": 23,
      "outputs": []
    },
    {
      "cell_type": "code",
      "metadata": {
        "colab": {
          "base_uri": "https://localhost:8080/"
        },
        "id": "6tACiQM0mUzF",
        "outputId": "d7f94a68-0c15-4a1c-aaa7-fd8658783f8e"
      },
      "source": [
        "# Tokenizing the text of the raw IMDB data\n",
        "\n",
        "from keras.preprocessing.text import Tokenizer\n",
        "from keras.preprocessing.sequence import pad_sequences \n",
        "import numpy as np\n",
        "maxlen = 100\n",
        "training_samples = 200\n",
        "validation_samples = 10000\n",
        "max_words = 10000\n",
        "tokenizer = Tokenizer(num_words=max_words)\n",
        "tokenizer.fit_on_texts(texts)\n",
        "sequences = tokenizer.texts_to_sequences(texts)\n",
        "word_index = tokenizer.word_index\n",
        "print('Found %s unique tokens.' % len(word_index))\n",
        "data = pad_sequences(sequences, maxlen=maxlen)\n"
      ],
      "execution_count": 24,
      "outputs": [
        {
          "output_type": "stream",
          "name": "stdout",
          "text": [
            "Found 88582 unique tokens.\n"
          ]
        }
      ]
    },
    {
      "cell_type": "code",
      "metadata": {
        "colab": {
          "base_uri": "https://localhost:8080/"
        },
        "id": "rpZHDBSwm1dz",
        "outputId": "4887e271-cad0-491f-b2b2-7e11f1c7fc37"
      },
      "source": [
        "labels = np.asarray(labels)\n",
        "print('Shape of data tensor:', data.shape)\n",
        "print('Shape of label tensor:', labels.shape)\n",
        "indices = np.arange(data.shape[0])\n",
        "np.random.shuffle(indices)\n",
        "data = data[indices]\n",
        "labels = labels[indices]\n",
        "x_train = data[:training_samples]\n",
        "y_train = labels[:training_samples]\n",
        "x_val = data[training_samples: training_samples + validation_samples]\n",
        "y_val = labels[training_samples: training_samples + validation_samples]"
      ],
      "execution_count": 25,
      "outputs": [
        {
          "output_type": "stream",
          "name": "stdout",
          "text": [
            "Shape of data tensor: (25000, 100)\n",
            "Shape of label tensor: (25000,)\n"
          ]
        }
      ]
    },
    {
      "cell_type": "markdown",
      "metadata": {
        "id": "FjiAyBsPp3K_"
      },
      "source": [
        "# GloVe word-embeddings"
      ]
    },
    {
      "cell_type": "code",
      "metadata": {
        "id": "RAkwpGnup-7t"
      },
      "source": [
        "local_zip = '/content/drive/MyDrive/data/glove.6B.zip'\n",
        "zip_ref = zipfile.ZipFile(local_zip, 'r')\n",
        "zip_ref.extractall('/content/glove.6B')\n",
        "zip_ref.close()"
      ],
      "execution_count": 28,
      "outputs": []
    },
    {
      "cell_type": "code",
      "metadata": {
        "colab": {
          "base_uri": "https://localhost:8080/"
        },
        "id": "tFphR5D8qNJp",
        "outputId": "6fb6de9e-67e0-47c0-c293-fd251ef7b98d"
      },
      "source": [
        "# Parsing the GloVe word-embeddings file\n",
        "\n",
        "glove_dir = '/content/glove.6B'\n",
        "embeddings_index = {}\n",
        "f = open(os.path.join(glove_dir, 'glove.6B.100d.txt'))\n",
        "for line in f:\n",
        "    values = line.split()\n",
        "    word = values[0]\n",
        "    coefs = np.asarray(values[1:], dtype='float32')\n",
        "    embeddings_index[word] = coefs\n",
        "f.close()\n",
        "print('Found %s word vectors.' % len(embeddings_index))"
      ],
      "execution_count": 29,
      "outputs": [
        {
          "output_type": "stream",
          "name": "stdout",
          "text": [
            "Found 400000 word vectors.\n"
          ]
        }
      ]
    },
    {
      "cell_type": "code",
      "metadata": {
        "id": "-7liDK97p6dC"
      },
      "source": [
        "# Preparing the GloVe word-embeddings matrix\n",
        "\n",
        "embedding_dim = 100\n",
        "embedding_matrix = np.zeros((max_words, embedding_dim))\n",
        "for word, i in word_index.items():\n",
        "    if i < max_words:\n",
        "        embedding_vector = embeddings_index.get(word)\n",
        "        if embedding_vector is not None:\n",
        "            embedding_matrix[i] = embedding_vector"
      ],
      "execution_count": 30,
      "outputs": []
    },
    {
      "cell_type": "code",
      "metadata": {
        "colab": {
          "base_uri": "https://localhost:8080/"
        },
        "id": "WdLkLmdCqbmT",
        "outputId": "dee8316c-5c65-4724-aa62-a10f986661eb"
      },
      "source": [
        "#model difinition\n",
        "\n",
        "from keras.models import Sequential\n",
        "from keras.layers import Embedding, Flatten, Dense\n",
        "\n",
        "model = Sequential()\n",
        "\n",
        "model.add(Embedding(max_words, embedding_dim, input_length=maxlen))\n",
        "model.add(Flatten())\n",
        "model.add(Dense(32, activation='relu'))\n",
        "model.add(Dense(1, activation='sigmoid'))\n",
        "\n",
        "model.summary()"
      ],
      "execution_count": 31,
      "outputs": [
        {
          "output_type": "stream",
          "name": "stdout",
          "text": [
            "Model: \"sequential_2\"\n",
            "_________________________________________________________________\n",
            "Layer (type)                 Output Shape              Param #   \n",
            "=================================================================\n",
            "embedding_1 (Embedding)      (None, 100, 100)          1000000   \n",
            "_________________________________________________________________\n",
            "flatten_1 (Flatten)          (None, 10000)             0         \n",
            "_________________________________________________________________\n",
            "dense_1 (Dense)              (None, 32)                320032    \n",
            "_________________________________________________________________\n",
            "dense_2 (Dense)              (None, 1)                 33        \n",
            "=================================================================\n",
            "Total params: 1,320,065\n",
            "Trainable params: 1,320,065\n",
            "Non-trainable params: 0\n",
            "_________________________________________________________________\n"
          ]
        }
      ]
    },
    {
      "cell_type": "code",
      "metadata": {
        "id": "XZsLNw_nqohg"
      },
      "source": [
        "# Loading pertained word embeddings into the Embedding layer\n",
        "\n",
        "model.layers[0].set_weights([embedding_matrix])\n",
        "model.layers[0].trainable = False"
      ],
      "execution_count": 32,
      "outputs": []
    },
    {
      "cell_type": "code",
      "metadata": {
        "colab": {
          "base_uri": "https://localhost:8080/"
        },
        "id": "pA7YiJM_qsGM",
        "outputId": "d8df2fee-7258-48b3-c355-ed3171443fcf"
      },
      "source": [
        "# Training and evaluation\n",
        "\n",
        "model.compile(optimizer='rmsprop', loss='binary_crossentropy', metrics=['acc'])\n",
        "history = model.fit(x_train, y_train,\n",
        "                    epochs=10,\n",
        "                    batch_size=32,\n",
        "                    validation_data=(x_val, y_val))\n",
        "model.save_weights('pre_trained_glove_model.h5')"
      ],
      "execution_count": 33,
      "outputs": [
        {
          "output_type": "stream",
          "name": "stdout",
          "text": [
            "Epoch 1/10\n",
            "7/7 [==============================] - 1s 134ms/step - loss: 2.3951 - acc: 0.5100 - val_loss: 0.6987 - val_acc: 0.5432\n",
            "Epoch 2/10\n",
            "7/7 [==============================] - 1s 97ms/step - loss: 0.5344 - acc: 0.6750 - val_loss: 1.3673 - val_acc: 0.4997\n",
            "Epoch 3/10\n",
            "7/7 [==============================] - 1s 113ms/step - loss: 0.4005 - acc: 0.8350 - val_loss: 1.7733 - val_acc: 0.5003\n",
            "Epoch 4/10\n",
            "7/7 [==============================] - 1s 98ms/step - loss: 0.3929 - acc: 0.8650 - val_loss: 0.7788 - val_acc: 0.5439\n",
            "Epoch 5/10\n",
            "7/7 [==============================] - 1s 112ms/step - loss: 0.3732 - acc: 0.8000 - val_loss: 0.7056 - val_acc: 0.5772\n",
            "Epoch 6/10\n",
            "7/7 [==============================] - 1s 113ms/step - loss: 0.0902 - acc: 1.0000 - val_loss: 0.8237 - val_acc: 0.5391\n",
            "Epoch 7/10\n",
            "7/7 [==============================] - 1s 96ms/step - loss: 0.0724 - acc: 1.0000 - val_loss: 0.7226 - val_acc: 0.5801\n",
            "Epoch 8/10\n",
            "7/7 [==============================] - 1s 96ms/step - loss: 0.0384 - acc: 1.0000 - val_loss: 0.7454 - val_acc: 0.5754\n",
            "Epoch 9/10\n",
            "7/7 [==============================] - 1s 112ms/step - loss: 0.1074 - acc: 0.9800 - val_loss: 2.8511 - val_acc: 0.5004\n",
            "Epoch 10/10\n",
            "7/7 [==============================] - 1s 112ms/step - loss: 0.2287 - acc: 0.9250 - val_loss: 0.7882 - val_acc: 0.5700\n"
          ]
        }
      ]
    },
    {
      "cell_type": "code",
      "metadata": {
        "colab": {
          "base_uri": "https://localhost:8080/",
          "height": 545
        },
        "id": "G_f7bILzqvtm",
        "outputId": "8f115bed-ff23-4d3e-d142-556acd19c0d3"
      },
      "source": [
        "# Plotting the Results\n",
        "\n",
        "import matplotlib.pyplot as plt\n",
        "\n",
        "acc = history.history['acc']\n",
        "val_acc = history.history['val_acc']\n",
        "loss = history.history['loss']\n",
        "val_loss = history.history['val_loss']\n",
        "\n",
        "epochs = range(1, len(acc) + 1)\n",
        "\n",
        "plt.plot(epochs, acc, 'bo', label='Training acc')\n",
        "plt.plot(epochs, val_acc, 'b', label='Validation acc')\n",
        "plt.title('Training and validation accuracy')\n",
        "plt.legend()\n",
        "\n",
        "plt.figure()\n",
        "\n",
        "plt.plot(epochs, loss, 'bo', label='Training loss')\n",
        "plt.plot(epochs, val_loss, 'b', label='Validation loss')\n",
        "plt.title('Training and validation loss')\n",
        "plt.legend()\n",
        "\n",
        "plt.show()"
      ],
      "execution_count": 34,
      "outputs": [
        {
          "output_type": "display_data",
          "data": {
            "image/png": "[encoded data removed]",
            "text/plain": [
              "<Figure size 432x288 with 1 Axes>"
            ]
          },
          "metadata": {
            "needs_background": "light"
          }
        },
        {
          "output_type": "display_data",
          "data": {
            "image/png": "[encoded data removed]",
            "text/plain": [
              "<Figure size 432x288 with 1 Axes>"
            ]
          },
          "metadata": {
            "needs_background": "light"
          }
        }
      ]
    },
    {
      "cell_type": "code",
      "metadata": {
        "colab": {
          "base_uri": "https://localhost:8080/"
        },
        "id": "9Zktf0ogq4Hd",
        "outputId": "5b710986-3deb-4725-e6dd-93dde759b564"
      },
      "source": [
        "# Training the same Model without pretrained word embeddings\n",
        "\n",
        "from keras.models import Sequential\n",
        "from keras.layers import Embedding, Flatten, Dense\n",
        "\n",
        "\n",
        "model = Sequential()\n",
        "model.add(Embedding(max_words, embedding_dim, input_length=maxlen))\n",
        "model.add(Flatten())\n",
        "model.add(Dense(32, activation='relu'))\n",
        "model.add(Dense(1, activation='sigmoid'))\n",
        "\n",
        "model.summary()\n",
        "\n",
        "model.compile(optimizer='rmsprop', loss='binary_crossentropy', metrics=['acc'])\n",
        "history = model.fit(x_train, y_train,\n",
        "                    epochs=10,\n",
        "                    batch_size=32,\n",
        "                    validation_data=(x_val, y_val))"
      ],
      "execution_count": 35,
      "outputs": [
        {
          "output_type": "stream",
          "name": "stdout",
          "text": [
            "Model: \"sequential_3\"\n",
            "_________________________________________________________________\n",
            "Layer (type)                 Output Shape              Param #   \n",
            "=================================================================\n",
            "embedding_2 (Embedding)      (None, 100, 100)          1000000   \n",
            "_________________________________________________________________\n",
            "flatten_2 (Flatten)          (None, 10000)             0         \n",
            "_________________________________________________________________\n",
            "dense_3 (Dense)              (None, 32)                320032    \n",
            "_________________________________________________________________\n",
            "dense_4 (Dense)              (None, 1)                 33        \n",
            "=================================================================\n",
            "Total params: 1,320,065\n",
            "Trainable params: 1,320,065\n",
            "Non-trainable params: 0\n",
            "_________________________________________________________________\n",
            "Epoch 1/10\n",
            "7/7 [==============================] - 1s 140ms/step - loss: 0.6931 - acc: 0.5250 - val_loss: 0.6927 - val_acc: 0.5123\n",
            "Epoch 2/10\n",
            "7/7 [==============================] - 1s 124ms/step - loss: 0.5359 - acc: 0.9800 - val_loss: 0.6965 - val_acc: 0.5075\n",
            "Epoch 3/10\n",
            "7/7 [==============================] - 1s 115ms/step - loss: 0.3308 - acc: 0.9850 - val_loss: 0.7009 - val_acc: 0.5176\n",
            "Epoch 4/10\n",
            "7/7 [==============================] - 1s 118ms/step - loss: 0.1621 - acc: 1.0000 - val_loss: 0.6945 - val_acc: 0.5326\n",
            "Epoch 5/10\n",
            "7/7 [==============================] - 1s 100ms/step - loss: 0.0835 - acc: 1.0000 - val_loss: 0.7145 - val_acc: 0.5215\n",
            "Epoch 6/10\n",
            "7/7 [==============================] - 1s 118ms/step - loss: 0.0420 - acc: 1.0000 - val_loss: 0.7093 - val_acc: 0.5295\n",
            "Epoch 7/10\n",
            "7/7 [==============================] - 1s 118ms/step - loss: 0.0235 - acc: 1.0000 - val_loss: 0.7207 - val_acc: 0.5309\n",
            "Epoch 8/10\n",
            "7/7 [==============================] - 1s 103ms/step - loss: 0.0136 - acc: 1.0000 - val_loss: 0.7389 - val_acc: 0.5272\n",
            "Epoch 9/10\n",
            "7/7 [==============================] - 1s 118ms/step - loss: 0.0081 - acc: 1.0000 - val_loss: 0.7577 - val_acc: 0.5263\n",
            "Epoch 10/10\n",
            "7/7 [==============================] - 1s 118ms/step - loss: 0.0051 - acc: 1.0000 - val_loss: 0.7526 - val_acc: 0.5310\n"
          ]
        }
      ]
    },
    {
      "cell_type": "code",
      "metadata": {
        "id": "JjO1a5XOrAR5"
      },
      "source": [
        "# Tokenizing the data of the test set\n",
        "\n",
        "test_dir = os.path.join(imdb_dir, 'test')\n",
        "\n",
        "labels = []\n",
        "texts = []\n",
        "\n",
        "for label_type in ['neg', 'pos']:\n",
        "    dir_name = os.path.join(test_dir, label_type)\n",
        "    for fname in sorted(os.listdir(dir_name)):\n",
        "        if fname[-4:] == '.txt':\n",
        "            f = open(os.path.join(dir_name, fname))\n",
        "            texts.append(f.read())\n",
        "            f.close()\n",
        "            if label_type == 'neg':\n",
        "                labels.append(0)\n",
        "            else:\n",
        "                labels.append(1)\n",
        "                \n",
        "sequences = tokenizer.texts_to_sequences(texts)\n",
        "x_test = pad_sequences(sequences, maxlen=maxlen)\n",
        "y_test = np.asarray(labels)\n"
      ],
      "execution_count": 36,
      "outputs": []
    },
    {
      "cell_type": "code",
      "metadata": {
        "colab": {
          "base_uri": "https://localhost:8080/"
        },
        "id": "-xh_0AxOrLdl",
        "outputId": "fd810c1f-af4b-4672-9a89-f5b695c8d454"
      },
      "source": [
        "# Evaluating the model on the test set\n",
        "\n",
        "model.load_weights('pre_trained_glove_model.h5')\n",
        "model.evaluate(x_test, y_test)"
      ],
      "execution_count": 37,
      "outputs": [
        {
          "output_type": "stream",
          "name": "stdout",
          "text": [
            "782/782 [==============================] - 2s 2ms/step - loss: 0.7958 - acc: 0.5673\n"
          ]
        },
        {
          "output_type": "execute_result",
          "data": {
            "text/plain": [
              "[0.7958446145057678, 0.5672799944877625]"
            ]
          },
          "metadata": {},
          "execution_count": 37
        }
      ]
    }
  ]
}