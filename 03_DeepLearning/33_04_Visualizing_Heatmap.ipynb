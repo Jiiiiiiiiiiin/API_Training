{
  "nbformat": 4,
  "nbformat_minor": 0,
  "metadata": {
    "colab": {
      "name": "33_Visualizing_Heatmap.ipynb",
      "provenance": [],
      "collapsed_sections": []
    },
    "kernelspec": {
      "name": "python3",
      "display_name": "Python 3"
    },
    "language_info": {
      "name": "python"
    }
  },
  "cells": [
    {
      "cell_type": "code",
      "metadata": {
        "id": "TcntVDjsyxmq"
      },
      "source": [
        "from tensorflow.keras.applications.vgg16 import VGG16\n",
        "model = VGG16(weights='imagenet')"
      ],
      "execution_count": 15,
      "outputs": []
    },
    {
      "cell_type": "code",
      "metadata": {
        "colab": {
          "base_uri": "https://localhost:8080/"
        },
        "id": "wAfZOXkRzKlo",
        "outputId": "b2e0bd15-2627-4938-8e04-c29e60c29fc9"
      },
      "source": [
        "from google.colab import drive\n",
        "drive.mount('/content/drive')"
      ],
      "execution_count": 16,
      "outputs": [
        {
          "output_type": "stream",
          "name": "stdout",
          "text": [
            "Drive already mounted at /content/drive; to attempt to forcibly remount, call drive.mount(\"/content/drive\", force_remount=True).\n"
          ]
        }
      ]
    },
    {
      "cell_type": "code",
      "metadata": {
        "id": "8qFdz3HLzKGN"
      },
      "source": [
        "from keras.preprocessing import image\n",
        "from keras.applications.vgg16 import preprocess_input, decode_predictions\n",
        "import numpy as np\n",
        "\n",
        "# The local path to our target image\n",
        "img_path = '/content/drive/MyDrive/data/실습/creative_commons_elephant.jpg'\n",
        "\n",
        "# `img` is a PIL image of size 224x224\n",
        "img = image.load_img(img_path, target_size=(224, 224))\n",
        "\n",
        "# `x` is a float32 Numpy array of shape (224, 224, 3)\n",
        "x = image.img_to_array(img)\n",
        "\n",
        "# We add a dimension to transform our array into a \"batch\"\n",
        "# of size (1, 224, 224, 3)\n",
        "x = np.expand_dims(x, axis=0)\n",
        "\n",
        "# Finally we preprocess the batch\n",
        "# (this does channel-wise color normalization)\n",
        "x = preprocess_input(x)"
      ],
      "execution_count": 17,
      "outputs": []
    },
    {
      "cell_type": "code",
      "metadata": {
        "colab": {
          "base_uri": "https://localhost:8080/"
        },
        "id": "IPoGJFKsznZ6",
        "outputId": "82a543ee-10f3-43ef-8694-9dd11d469d4d"
      },
      "source": [
        "preds = model.predict(x)\n",
        "print('Predicted:', decode_predictions(preds, top=3)[0])"
      ],
      "execution_count": 18,
      "outputs": [
        {
          "output_type": "stream",
          "name": "stderr",
          "text": [
            "/usr/local/lib/python3.7/dist-packages/keras/engine/training.py:2470: UserWarning: `Model.state_updates` will be removed in a future version. This property should not be used in TensorFlow 2.0, as `updates` are applied automatically.\n",
            "  warnings.warn('`Model.state_updates` will be removed in a future version. '\n"
          ]
        },
        {
          "output_type": "stream",
          "name": "stdout",
          "text": [
            "Predicted: [('n02504458', 'African_elephant', 0.89544886), ('n01871265', 'tusker', 0.09967599), ('n02504013', 'Indian_elephant', 0.004639555)]\n"
          ]
        }
      ]
    },
    {
      "cell_type": "code",
      "metadata": {
        "colab": {
          "base_uri": "https://localhost:8080/"
        },
        "id": "hLlk3LJDztTy",
        "outputId": "1bad9718-e2d9-43d2-8efc-9884f7abfd92"
      },
      "source": [
        "np.argmax(preds[0])"
      ],
      "execution_count": 19,
      "outputs": [
        {
          "output_type": "execute_result",
          "data": {
            "text/plain": [
              "386"
            ]
          },
          "metadata": {},
          "execution_count": 19
        }
      ]
    },
    {
      "cell_type": "code",
      "metadata": {
        "id": "FXVagUYqz0Na"
      },
      "source": [
        "# Grad-CAM 알고리즘 설정\n",
        "\n",
        "import tensorflow as tf\n",
        "from tensorflow.keras.applications import VGG16\n",
        "from keras import backend as K\n",
        "import matplotlib.pyplot as plt\n",
        "\n",
        "tf.compat.v1.disable_eager_execution()\n",
        "\n",
        "african_elephant_output = model.output[:, 386]\n",
        "last_conv_layer = model.get_layer('block5_conv3')\n",
        "grads = K.gradients(african_elephant_output, last_conv_layer.output)[0]\n",
        "pooled_grads = K.mean(grads, axis=(0, 1, 2))\n",
        "iterate = K.function([model.input], [pooled_grads, last_conv_layer.output[0]])\n",
        "pooled_grads_value, conv_layer_output_value = iterate([x])\n",
        "for i in range(512):\n",
        "  conv_layer_output_value[:, :, i] *= pooled_grads_value[i]\n",
        "heatmap = np.mean(conv_layer_output_value, axis=-1)\n"
      ],
      "execution_count": 20,
      "outputs": []
    },
    {
      "cell_type": "code",
      "metadata": {
        "colab": {
          "base_uri": "https://localhost:8080/",
          "height": 294
        },
        "id": "JsmD-cOqz2ZN",
        "outputId": "2d6ee183-3565-4cca-c7b5-5da9dc1f02cd"
      },
      "source": [
        "# Heatmap post-processing\n",
        "heatmap = np.maximum(heatmap, 0)\n",
        "heatmap /= np.max(heatmap, 0)\n",
        "plt.matshow(heatmap)"
      ],
      "execution_count": 21,
      "outputs": [
        {
          "output_type": "execute_result",
          "data": {
            "text/plain": [
              "<matplotlib.image.AxesImage at 0x7f28ce44e150>"
            ]
          },
          "metadata": {},
          "execution_count": 21
        },
        {
          "output_type": "display_data",
          "data": {
            "image/png": "[encoded data removed]",
            "text/plain": [
              "<Figure size 288x288 with 1 Axes>"
            ]
          },
          "metadata": {
            "needs_background": "light"
          }
        }
      ]
    },
    {
      "cell_type": "code",
      "metadata": {
        "colab": {
          "base_uri": "https://localhost:8080/"
        },
        "id": "3j3BRh6M0g48",
        "outputId": "d0063853-94c0-4273-ec2e-be48fa66f8a4"
      },
      "source": [
        "#원본 이미지에 heatmap 덧붙이기\n",
        "\n",
        "import cv2\n",
        "img = cv2.imread(img_path)\n",
        "heatmap = cv2.resize(heatmap, (img.shape[1], img.shape[0]))\n",
        "heatmap = np.uint8(255 * heatmap)\n",
        "heatmap = cv2.applyColorMap(heatmap, cv2.COLORMAP_JET)\n",
        "superimposed_img = heatmap * 0.4 + img\n",
        "cv2.imwrite('/content/drive/MyDrive/data/실습/elephant_cam.jpg', superimposed_img)"
      ],
      "execution_count": 24,
      "outputs": [
        {
          "output_type": "execute_result",
          "data": {
            "text/plain": [
              "True"
            ]
          },
          "metadata": {},
          "execution_count": 24
        }
      ]
    },
    {
      "cell_type": "markdown",
      "metadata": {
        "id": "CgHAbDXt4rug"
      },
      "source": [
        ""
      ]
    },
    {
      "cell_type": "code",
      "metadata": {
        "id": "z9C--X120i7n"
      },
      "source": [
        "from keras.preprocessing import image\n",
        "from keras.applications.vgg16 import preprocess_input, decode_predictions\n",
        "import numpy as np\n",
        "\n",
        "# The local path to our target image\n",
        "img_path = '/content/drive/MyDrive/data/실습/elephant2.jpg'\n",
        "\n",
        "# `img` is a PIL image of size 224x224\n",
        "img = image.load_img(img_path, target_size=(224, 224))\n",
        "\n",
        "# `x` is a float32 Numpy array of shape (224, 224, 3)\n",
        "x = image.img_to_array(img)\n",
        "\n",
        "# We add a dimension to transform our array into a \"batch\"\n",
        "# of size (1, 224, 224, 3)\n",
        "x = np.expand_dims(x, axis=0)\n",
        "\n",
        "# Finally we preprocess the batch\n",
        "# (this does channel-wise color normalization)\n",
        "x = preprocess_input(x)"
      ],
      "execution_count": 25,
      "outputs": []
    },
    {
      "cell_type": "code",
      "metadata": {
        "colab": {
          "base_uri": "https://localhost:8080/"
        },
        "id": "w1kM1PyV4zkE",
        "outputId": "652874f9-3988-4047-a7ae-f5e022df5437"
      },
      "source": [
        "preds = model.predict(x)\n",
        "print('Predicted:', decode_predictions(preds, top=3)[0])"
      ],
      "execution_count": 26,
      "outputs": [
        {
          "output_type": "stream",
          "name": "stdout",
          "text": [
            "Predicted: [('n02504013', 'Indian_elephant', 0.35956523), ('n02504458', 'African_elephant', 0.30063093), ('n02437312', 'Arabian_camel', 0.2288755)]\n"
          ]
        }
      ]
    },
    {
      "cell_type": "code",
      "metadata": {
        "colab": {
          "base_uri": "https://localhost:8080/"
        },
        "id": "nl5No-vT43jv",
        "outputId": "6f1ac072-f0a1-451d-bbdf-e034e7be682a"
      },
      "source": [
        "np.argmax(preds[0])"
      ],
      "execution_count": 27,
      "outputs": [
        {
          "output_type": "execute_result",
          "data": {
            "text/plain": [
              "385"
            ]
          },
          "metadata": {},
          "execution_count": 27
        }
      ]
    },
    {
      "cell_type": "code",
      "metadata": {
        "id": "G7ls8_nz45-I"
      },
      "source": [
        "# Grad-CAM 알고리즘 설정\n",
        "\n",
        "import tensorflow as tf\n",
        "from tensorflow.keras.applications import VGG16\n",
        "from keras import backend as K\n",
        "import matplotlib.pyplot as plt\n",
        "\n",
        "tf.compat.v1.disable_eager_execution()\n",
        "\n",
        "african_elephant_output = model.output[:, 386]\n",
        "last_conv_layer = model.get_layer('block5_conv3')\n",
        "grads = K.gradients(african_elephant_output, last_conv_layer.output)[0]\n",
        "pooled_grads = K.mean(grads, axis=(0, 1, 2))\n",
        "iterate = K.function([model.input], [pooled_grads, last_conv_layer.output[0]])\n",
        "pooled_grads_value, conv_layer_output_value = iterate([x])\n",
        "for i in range(512):\n",
        "  conv_layer_output_value[:, :, i] *= pooled_grads_value[i]\n",
        "heatmap = np.mean(conv_layer_output_value, axis=-1)\n"
      ],
      "execution_count": 28,
      "outputs": []
    },
    {
      "cell_type": "code",
      "metadata": {
        "colab": {
          "base_uri": "https://localhost:8080/",
          "height": 294
        },
        "id": "K-xyXLlc48GR",
        "outputId": "912b0475-9208-4f8c-82a3-be8f2348d167"
      },
      "source": [
        "# Heatmap post-processing\n",
        "heatmap = np.maximum(heatmap, 0)\n",
        "heatmap /= np.max(heatmap, 0)\n",
        "plt.matshow(heatmap)"
      ],
      "execution_count": 29,
      "outputs": [
        {
          "output_type": "execute_result",
          "data": {
            "text/plain": [
              "<matplotlib.image.AxesImage at 0x7f28bd890550>"
            ]
          },
          "metadata": {},
          "execution_count": 29
        },
        {
          "output_type": "display_data",
          "data": {
            "image/png": "[encoded data removed]",
            "text/plain": [
              "<Figure size 288x288 with 1 Axes>"
            ]
          },
          "metadata": {
            "needs_background": "light"
          }
        }
      ]
    },
    {
      "cell_type": "code",
      "metadata": {
        "colab": {
          "base_uri": "https://localhost:8080/"
        },
        "id": "ZCweOwOq4-fu",
        "outputId": "9f7b9afc-17be-43ef-93f9-a0d061e8cac2"
      },
      "source": [
        "#원본 이미지에 heatmap 덧붙이기\n",
        "\n",
        "import cv2\n",
        "img = cv2.imread(img_path)\n",
        "heatmap = cv2.resize(heatmap, (img.shape[1], img.shape[0]))\n",
        "heatmap = np.uint8(255 * heatmap)\n",
        "heatmap = cv2.applyColorMap(heatmap, cv2.COLORMAP_JET)\n",
        "superimposed_img = heatmap * 0.4 + img\n",
        "cv2.imwrite('/content/drive/MyDrive/data/실습/elephant_cam2.jpg', superimposed_img)"
      ],
      "execution_count": 30,
      "outputs": [
        {
          "output_type": "execute_result",
          "data": {
            "text/plain": [
              "True"
            ]
          },
          "metadata": {},
          "execution_count": 30
        }
      ]
    }
  ]
}