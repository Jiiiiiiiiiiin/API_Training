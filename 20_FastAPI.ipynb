{
  "nbformat": 4,
  "nbformat_minor": 0,
  "metadata": {
    "colab": {
      "name": "20_FastAPI.ipynb",
      "provenance": [],
      "collapsed_sections": []
    },
    "kernelspec": {
      "name": "python3",
      "display_name": "Python 3"
    },
    "language_info": {
      "name": "python"
    }
  },
  "cells": [
    {
      "cell_type": "markdown",
      "metadata": {
        "id": "6KkqCS_6Gzo7"
      },
      "source": [
        "FastAPI 설치"
      ]
    },
    {
      "cell_type": "code",
      "metadata": {
        "colab": {
          "base_uri": "https://localhost:8080/"
        },
        "id": "OcKB71MUGn_V",
        "outputId": "e1e30187-4609-4ded-9e85-e4d47fa86e97"
      },
      "source": [
        "!pip install fastapi nest_asyncio pyngrok uvicorn"
      ],
      "execution_count": 1,
      "outputs": [
        {
          "output_type": "stream",
          "name": "stdout",
          "text": [
            "Collecting fastapi\n",
            "  Downloading fastapi-0.68.1-py3-none-any.whl (52 kB)\n",
            "\u001b[?25l\r\u001b[K     |██████▎                         | 10 kB 26.4 MB/s eta 0:00:01\r\u001b[K     |████████████▌                   | 20 kB 12.4 MB/s eta 0:00:01\r\u001b[K     |██████████████████▉             | 30 kB 11.5 MB/s eta 0:00:01\r\u001b[K     |█████████████████████████       | 40 kB 9.0 MB/s eta 0:00:01\r\u001b[K     |███████████████████████████████▍| 51 kB 5.0 MB/s eta 0:00:01\r\u001b[K     |████████████████████████████████| 52 kB 317 kB/s \n",
            "\u001b[?25hRequirement already satisfied: nest_asyncio in /usr/local/lib/python3.7/dist-packages (1.5.1)\n",
            "Collecting pyngrok\n",
            "  Downloading pyngrok-5.1.0.tar.gz (745 kB)\n",
            "\u001b[K     |████████████████████████████████| 745 kB 9.8 MB/s \n",
            "\u001b[?25hCollecting uvicorn\n",
            "  Downloading uvicorn-0.15.0-py3-none-any.whl (54 kB)\n",
            "\u001b[K     |████████████████████████████████| 54 kB 2.2 MB/s \n",
            "\u001b[?25hCollecting starlette==0.14.2\n",
            "  Downloading starlette-0.14.2-py3-none-any.whl (60 kB)\n",
            "\u001b[K     |████████████████████████████████| 60 kB 2.0 MB/s \n",
            "\u001b[?25hCollecting pydantic!=1.7,!=1.7.1,!=1.7.2,!=1.7.3,!=1.8,!=1.8.1,<2.0.0,>=1.6.2\n",
            "  Downloading pydantic-1.8.2-cp37-cp37m-manylinux2014_x86_64.whl (10.1 MB)\n",
            "\u001b[K     |████████████████████████████████| 10.1 MB 41.5 MB/s \n",
            "\u001b[?25hRequirement already satisfied: typing-extensions>=3.7.4.3 in /usr/local/lib/python3.7/dist-packages (from pydantic!=1.7,!=1.7.1,!=1.7.2,!=1.7.3,!=1.8,!=1.8.1,<2.0.0,>=1.6.2->fastapi) (3.7.4.3)\n",
            "Requirement already satisfied: PyYAML in /usr/local/lib/python3.7/dist-packages (from pyngrok) (3.13)\n",
            "Collecting h11>=0.8\n",
            "  Downloading h11-0.12.0-py3-none-any.whl (54 kB)\n",
            "\u001b[K     |████████████████████████████████| 54 kB 2.8 MB/s \n",
            "\u001b[?25hRequirement already satisfied: click>=7.0 in /usr/local/lib/python3.7/dist-packages (from uvicorn) (7.1.2)\n",
            "Collecting asgiref>=3.4.0\n",
            "  Downloading asgiref-3.4.1-py3-none-any.whl (25 kB)\n",
            "Building wheels for collected packages: pyngrok\n",
            "  Building wheel for pyngrok (setup.py) ... \u001b[?25l\u001b[?25hdone\n",
            "  Created wheel for pyngrok: filename=pyngrok-5.1.0-py3-none-any.whl size=19006 sha256=d81118adcc4b2eb678910b442046e15fd05fb49679baa51719431f06ce705d60\n",
            "  Stored in directory: /root/.cache/pip/wheels/bf/e6/af/ccf6598ecefecd44104069371795cb9b3afbcd16987f6ccfb3\n",
            "Successfully built pyngrok\n",
            "Installing collected packages: starlette, pydantic, h11, asgiref, uvicorn, pyngrok, fastapi\n",
            "Successfully installed asgiref-3.4.1 fastapi-0.68.1 h11-0.12.0 pydantic-1.8.2 pyngrok-5.1.0 starlette-0.14.2 uvicorn-0.15.0\n"
          ]
        }
      ]
    },
    {
      "cell_type": "markdown",
      "metadata": {
        "id": "Ak3FVP7yZWd3"
      },
      "source": [
        "Put 'host' paraneter fir allowing access from other machine"
      ]
    },
    {
      "cell_type": "code",
      "metadata": {
        "colab": {
          "base_uri": "https://localhost:8080/"
        },
        "id": "IcWCRNvWGxcM",
        "outputId": "c8064f4f-0d79-43cb-a994-efadd853889a"
      },
      "source": [
        "from typing import Optional\n",
        "from fastapi import FastAPI\n",
        "import nest_asyncio\n",
        "from pyngrok import ngrok\n",
        "import uvicorn\n",
        "from fastapi import APIRouter\n",
        "\n",
        "app = FastAPI()\n",
        "api_router = APIRouter()\n",
        "\n",
        "@app.get(\"/\")\n",
        "def read_root():\n",
        "  return {\"Hello\": \"World!\"}\n",
        "\n",
        "ngrok_tunnel = ngrok.connect(8000)\n",
        "print('Public URL:', ngrok_tunnel.public_url)\n",
        "nest_asyncio.apply()\n",
        "\n",
        "@app.get(\"/items/{item_id}\")\n",
        "def read_item(item_id: int, q: Optional[str] = None):\n",
        "  return {\"item_id\": item_id, \"q\": q}\n",
        "\n",
        "@app.put('/items/{item_id}')\n",
        "def put_item(item_id: int, q: Optional[str] = None):\n",
        "  return {\"item_id\": item_id, \"q\": q}\n",
        "\n",
        "@app.get(\"/courses/\")\n",
        "def read_courses(start: int, end: int):\n",
        "  return course_items[start : start + end]\n",
        "\n",
        "@api_router.get(\"/recipe/{recipe_id}\", status_code=200)\n",
        "def fetch_recipe(*, recipe_id: int) -> dict:\n",
        "  \"\"\"\n",
        "  Fetch a single recipe by ID\n",
        "  \"\"\"\n",
        "\n",
        "  result = [recipe for recipe in RECIPES if recipe[\"id\"] == recipe_id]\n",
        "  if result:\n",
        "    return result[0]\n",
        "\n",
        "from pydantic import BaseModel\n",
        "\n",
        "class Course(BaseModel):\n",
        "  name: str\n",
        "  description: Optional[str] = None\n",
        "  price: int\n",
        "  author: Optional[str] = None\n",
        "\n",
        "@app.post(\"/courses/\")\n",
        "def create_course(course: Course):\n",
        "  print('course name: ' + course.description)\n",
        "  if course.description is not None:\n",
        "    print('description: ' + course.description)\n",
        "  print('price: ' + str(course.price))\n",
        "  if course.author is not None:\n",
        "    print('author: ' + course.author)\n",
        "  return course\n",
        "\n",
        "@app.get(\"/courses/{course_name}\")\n",
        "def read_course(course_name):\n",
        "  return {'course_name': course_name}\n",
        "\n",
        "course_items = [{\"course_name\": \"Python\"}, {\"course_name\": \"SQLAlchemy\"}, {\"course_name\": \"NodeJS\"}]\n",
        "\n",
        "uvicorn.run(app, host='0.0.0.0', port=8000)\n",
        "\n",
        "\n"
      ],
      "execution_count": 7,
      "outputs": [
        {
          "output_type": "stream",
          "name": "stdout",
          "text": [
            "Public URL: http://9802-34-73-6-204.ngrok.io\n"
          ]
        },
        {
          "output_type": "stream",
          "name": "stderr",
          "text": [
            "INFO:     Started server process [63]\n",
            "INFO:     Waiting for application startup.\n",
            "INFO:     Application startup complete.\n",
            "INFO:     Uvicorn running on http://0.0.0.0:8000 (Press CTRL+C to quit)\n"
          ]
        },
        {
          "output_type": "stream",
          "name": "stdout",
          "text": [
            "INFO:     175.198.119.100:0 - \"GET / HTTP/1.1\" 200 OK\n",
            "INFO:     175.198.119.100:0 - \"GET /favicon.ico HTTP/1.1\" 404 Not Found\n",
            "INFO:     175.198.119.100:0 - \"GET / HTTP/1.1\" 200 OK\n",
            "INFO:     175.198.119.100:0 - \"GET /docs HTTP/1.1\" 200 OK\n",
            "INFO:     175.198.119.100:0 - \"GET /openapi.json HTTP/1.1\" 200 OK\n"
          ]
        },
        {
          "output_type": "stream",
          "name": "stderr",
          "text": [
            "INFO:     Shutting down\n",
            "INFO:     Waiting for application shutdown.\n",
            "INFO:     Application shutdown complete.\n",
            "INFO:     Finished server process [63]\n"
          ]
        }
      ]
    },
    {
      "cell_type": "code",
      "metadata": {
        "colab": {
          "base_uri": "https://localhost:8080/"
        },
        "id": "ACbTKu91aAxK",
        "outputId": "6a78a7a0-3bed-4230-fe23-2bb69ee358ef"
      },
      "source": [
        "!ps"
      ],
      "execution_count": 13,
      "outputs": [
        {
          "output_type": "stream",
          "name": "stdout",
          "text": [
            "    PID TTY          TIME CMD\n",
            "      1 ?        00:00:07 node\n",
            "     16 ?        00:00:01 tail\n",
            "     52 ?        00:00:09 jupyter-noteboo\n",
            "     53 ?        00:00:10 dap_multiplexer\n",
            "     63 ?        00:00:42 python3\n",
            "     83 ?        00:00:18 python3\n",
            "   1329 ?        00:00:00 ps\n"
          ]
        }
      ]
    },
    {
      "cell_type": "code",
      "metadata": {
        "id": "ykjknH29gWLs"
      },
      "source": [
        "!kill -9"
      ],
      "execution_count": null,
      "outputs": []
    },
    {
      "cell_type": "code",
      "metadata": {
        "id": "UkOEgPUTLz10"
      },
      "source": [
        "RECIPES = [\n",
        "           {\n",
        "               \"id\": 1,\n",
        "            \"label\": \"Chicken Vesuvio\",\n",
        "            \"Source\": \"Serious Eats\",\n",
        "            \"url\": \"http://www.seriouseats.com/recipes/2011/12/chicken-vesuvio-recipe.html\", \n",
        "           },\n",
        "           {\n",
        "               \"id\": 2,\n",
        "            \"label\": \"Chicken Paprikash\",\n",
        "            \"source\": \"No Recipes\",\n",
        "            \"url\": \"http://norecipes.com/recipe/chicken-paprikash/\",\n",
        "           },\n",
        "           {\n",
        "               \"id\": 3,\n",
        "            \"label\": \"Cauliflower and Tofu Curry Recipe\",\n",
        "            \"source\": \"Serious Eats\",\n",
        "            \"url\": \"http://www.seriouseats.com/recipes/2011/02/cauliflower-and-tofu-curry-recipe.html\"\n",
        "           },\n",
        "]"
      ],
      "execution_count": 3,
      "outputs": []
    },
    {
      "cell_type": "code",
      "metadata": {
        "id": "YAsmbhfCUFxa"
      },
      "source": [
        ""
      ],
      "execution_count": null,
      "outputs": []
    }
  ]
}