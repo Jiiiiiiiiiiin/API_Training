{
  "nbformat": 4,
  "nbformat_minor": 0,
  "metadata": {
    "colab": {
      "name": "01_판다스와선형회귀.ipynb",
      "provenance": [],
      "collapsed_sections": []
    },
    "kernelspec": {
      "name": "python3",
      "display_name": "Python 3"
    },
    "language_info": {
      "name": "python"
    }
  },
  "cells": [
    {
      "cell_type": "markdown",
      "metadata": {
        "id": "2bFeFGxMgE-h"
      },
      "source": [
        "# 판다스 스타일링"
      ]
    },
    {
      "cell_type": "code",
      "metadata": {
        "id": "w1Lc8WkuGXwI"
      },
      "source": [
        "import pandas as pd\n",
        "import numpy as np"
      ],
      "execution_count": 1,
      "outputs": []
    },
    {
      "cell_type": "code",
      "metadata": {
        "id": "WO7vRMMmdMYI"
      },
      "source": [
        "np.random.seed(88)\n",
        "df = pd.DataFrame({'A' : np.linspace(1, 10, 10)})\n",
        "df = pd.concat([df, pd.DataFrame(np.random.randn(10, 4), columns=list('BCDE'))],\n",
        "               axis=1)\n",
        "df.iloc[3, 3] = np.nan\n",
        "df.iloc[0, 2] = np.nan"
      ],
      "execution_count": 3,
      "outputs": []
    },
    {
      "cell_type": "code",
      "metadata": {
        "colab": {
          "base_uri": "https://localhost:8080/",
          "height": 243
        },
        "id": "990RF3-idpQU",
        "outputId": "aaf88ea5-b26a-408f-c650-b66e0d66394f"
      },
      "source": [
        "df.style.highlight_max()"
      ],
      "execution_count": 6,
      "outputs": [
        {
          "output_type": "execute_result",
          "data": {
            "text/html": [
              "<style  type=\"text/css\" >\n",
              "#T_1b8afb14_11dc_11ec_a88b_0242ac1c0002row2_col3,#T_1b8afb14_11dc_11ec_a88b_0242ac1c0002row4_col2,#T_1b8afb14_11dc_11ec_a88b_0242ac1c0002row6_col4,#T_1b8afb14_11dc_11ec_a88b_0242ac1c0002row9_col0,#T_1b8afb14_11dc_11ec_a88b_0242ac1c0002row9_col1{\n",
              "            background-color:  yellow;\n",
              "        }</style><table id=\"T_1b8afb14_11dc_11ec_a88b_0242ac1c0002\" ><thead>    <tr>        <th class=\"blank level0\" ></th>        <th class=\"col_heading level0 col0\" >A</th>        <th class=\"col_heading level0 col1\" >B</th>        <th class=\"col_heading level0 col2\" >C</th>        <th class=\"col_heading level0 col3\" >D</th>        <th class=\"col_heading level0 col4\" >E</th>    </tr></thead><tbody>\n",
              "                <tr>\n",
              "                        <th id=\"T_1b8afb14_11dc_11ec_a88b_0242ac1c0002level0_row0\" class=\"row_heading level0 row0\" >0</th>\n",
              "                        <td id=\"T_1b8afb14_11dc_11ec_a88b_0242ac1c0002row0_col0\" class=\"data row0 col0\" >1.000000</td>\n",
              "                        <td id=\"T_1b8afb14_11dc_11ec_a88b_0242ac1c0002row0_col1\" class=\"data row0 col1\" >0.106884</td>\n",
              "                        <td id=\"T_1b8afb14_11dc_11ec_a88b_0242ac1c0002row0_col2\" class=\"data row0 col2\" >nan</td>\n",
              "                        <td id=\"T_1b8afb14_11dc_11ec_a88b_0242ac1c0002row0_col3\" class=\"data row0 col3\" >0.956563</td>\n",
              "                        <td id=\"T_1b8afb14_11dc_11ec_a88b_0242ac1c0002row0_col4\" class=\"data row0 col4\" >0.068411</td>\n",
              "            </tr>\n",
              "            <tr>\n",
              "                        <th id=\"T_1b8afb14_11dc_11ec_a88b_0242ac1c0002level0_row1\" class=\"row_heading level0 row1\" >1</th>\n",
              "                        <td id=\"T_1b8afb14_11dc_11ec_a88b_0242ac1c0002row1_col0\" class=\"data row1 col0\" >2.000000</td>\n",
              "                        <td id=\"T_1b8afb14_11dc_11ec_a88b_0242ac1c0002row1_col1\" class=\"data row1 col1\" >1.068514</td>\n",
              "                        <td id=\"T_1b8afb14_11dc_11ec_a88b_0242ac1c0002row1_col2\" class=\"data row1 col2\" >0.997183</td>\n",
              "                        <td id=\"T_1b8afb14_11dc_11ec_a88b_0242ac1c0002row1_col3\" class=\"data row1 col3\" >-0.931548</td>\n",
              "                        <td id=\"T_1b8afb14_11dc_11ec_a88b_0242ac1c0002row1_col4\" class=\"data row1 col4\" >0.730430</td>\n",
              "            </tr>\n",
              "            <tr>\n",
              "                        <th id=\"T_1b8afb14_11dc_11ec_a88b_0242ac1c0002level0_row2\" class=\"row_heading level0 row2\" >2</th>\n",
              "                        <td id=\"T_1b8afb14_11dc_11ec_a88b_0242ac1c0002row2_col0\" class=\"data row2 col0\" >3.000000</td>\n",
              "                        <td id=\"T_1b8afb14_11dc_11ec_a88b_0242ac1c0002row2_col1\" class=\"data row2 col1\" >-0.171214</td>\n",
              "                        <td id=\"T_1b8afb14_11dc_11ec_a88b_0242ac1c0002row2_col2\" class=\"data row2 col2\" >-1.288691</td>\n",
              "                        <td id=\"T_1b8afb14_11dc_11ec_a88b_0242ac1c0002row2_col3\" class=\"data row2 col3\" >1.061436</td>\n",
              "                        <td id=\"T_1b8afb14_11dc_11ec_a88b_0242ac1c0002row2_col4\" class=\"data row2 col4\" >-0.040501</td>\n",
              "            </tr>\n",
              "            <tr>\n",
              "                        <th id=\"T_1b8afb14_11dc_11ec_a88b_0242ac1c0002level0_row3\" class=\"row_heading level0 row3\" >3</th>\n",
              "                        <td id=\"T_1b8afb14_11dc_11ec_a88b_0242ac1c0002row3_col0\" class=\"data row3 col0\" >4.000000</td>\n",
              "                        <td id=\"T_1b8afb14_11dc_11ec_a88b_0242ac1c0002row3_col1\" class=\"data row3 col1\" >-0.903721</td>\n",
              "                        <td id=\"T_1b8afb14_11dc_11ec_a88b_0242ac1c0002row3_col2\" class=\"data row3 col2\" >-1.554133</td>\n",
              "                        <td id=\"T_1b8afb14_11dc_11ec_a88b_0242ac1c0002row3_col3\" class=\"data row3 col3\" >nan</td>\n",
              "                        <td id=\"T_1b8afb14_11dc_11ec_a88b_0242ac1c0002row3_col4\" class=\"data row3 col4\" >0.200526</td>\n",
              "            </tr>\n",
              "            <tr>\n",
              "                        <th id=\"T_1b8afb14_11dc_11ec_a88b_0242ac1c0002level0_row4\" class=\"row_heading level0 row4\" >4</th>\n",
              "                        <td id=\"T_1b8afb14_11dc_11ec_a88b_0242ac1c0002row4_col0\" class=\"data row4 col0\" >5.000000</td>\n",
              "                        <td id=\"T_1b8afb14_11dc_11ec_a88b_0242ac1c0002row4_col1\" class=\"data row4 col1\" >-0.747329</td>\n",
              "                        <td id=\"T_1b8afb14_11dc_11ec_a88b_0242ac1c0002row4_col2\" class=\"data row4 col2\" >1.068081</td>\n",
              "                        <td id=\"T_1b8afb14_11dc_11ec_a88b_0242ac1c0002row4_col3\" class=\"data row4 col3\" >-0.277024</td>\n",
              "                        <td id=\"T_1b8afb14_11dc_11ec_a88b_0242ac1c0002row4_col4\" class=\"data row4 col4\" >0.086557</td>\n",
              "            </tr>\n",
              "            <tr>\n",
              "                        <th id=\"T_1b8afb14_11dc_11ec_a88b_0242ac1c0002level0_row5\" class=\"row_heading level0 row5\" >5</th>\n",
              "                        <td id=\"T_1b8afb14_11dc_11ec_a88b_0242ac1c0002row5_col0\" class=\"data row5 col0\" >6.000000</td>\n",
              "                        <td id=\"T_1b8afb14_11dc_11ec_a88b_0242ac1c0002row5_col1\" class=\"data row5 col1\" >-0.253221</td>\n",
              "                        <td id=\"T_1b8afb14_11dc_11ec_a88b_0242ac1c0002row5_col2\" class=\"data row5 col2\" >-1.212041</td>\n",
              "                        <td id=\"T_1b8afb14_11dc_11ec_a88b_0242ac1c0002row5_col3\" class=\"data row5 col3\" >0.277273</td>\n",
              "                        <td id=\"T_1b8afb14_11dc_11ec_a88b_0242ac1c0002row5_col4\" class=\"data row5 col4\" >0.552219</td>\n",
              "            </tr>\n",
              "            <tr>\n",
              "                        <th id=\"T_1b8afb14_11dc_11ec_a88b_0242ac1c0002level0_row6\" class=\"row_heading level0 row6\" >6</th>\n",
              "                        <td id=\"T_1b8afb14_11dc_11ec_a88b_0242ac1c0002row6_col0\" class=\"data row6 col0\" >7.000000</td>\n",
              "                        <td id=\"T_1b8afb14_11dc_11ec_a88b_0242ac1c0002row6_col1\" class=\"data row6 col1\" >-0.467743</td>\n",
              "                        <td id=\"T_1b8afb14_11dc_11ec_a88b_0242ac1c0002row6_col2\" class=\"data row6 col2\" >-1.427493</td>\n",
              "                        <td id=\"T_1b8afb14_11dc_11ec_a88b_0242ac1c0002row6_col3\" class=\"data row6 col3\" >0.885805</td>\n",
              "                        <td id=\"T_1b8afb14_11dc_11ec_a88b_0242ac1c0002row6_col4\" class=\"data row6 col4\" >2.360634</td>\n",
              "            </tr>\n",
              "            <tr>\n",
              "                        <th id=\"T_1b8afb14_11dc_11ec_a88b_0242ac1c0002level0_row7\" class=\"row_heading level0 row7\" >7</th>\n",
              "                        <td id=\"T_1b8afb14_11dc_11ec_a88b_0242ac1c0002row7_col0\" class=\"data row7 col0\" >8.000000</td>\n",
              "                        <td id=\"T_1b8afb14_11dc_11ec_a88b_0242ac1c0002row7_col1\" class=\"data row7 col1\" >-1.522006</td>\n",
              "                        <td id=\"T_1b8afb14_11dc_11ec_a88b_0242ac1c0002row7_col2\" class=\"data row7 col2\" >-0.215945</td>\n",
              "                        <td id=\"T_1b8afb14_11dc_11ec_a88b_0242ac1c0002row7_col3\" class=\"data row7 col3\" >0.190327</td>\n",
              "                        <td id=\"T_1b8afb14_11dc_11ec_a88b_0242ac1c0002row7_col4\" class=\"data row7 col4\" >0.722256</td>\n",
              "            </tr>\n",
              "            <tr>\n",
              "                        <th id=\"T_1b8afb14_11dc_11ec_a88b_0242ac1c0002level0_row8\" class=\"row_heading level0 row8\" >8</th>\n",
              "                        <td id=\"T_1b8afb14_11dc_11ec_a88b_0242ac1c0002row8_col0\" class=\"data row8 col0\" >9.000000</td>\n",
              "                        <td id=\"T_1b8afb14_11dc_11ec_a88b_0242ac1c0002row8_col1\" class=\"data row8 col1\" >-0.870716</td>\n",
              "                        <td id=\"T_1b8afb14_11dc_11ec_a88b_0242ac1c0002row8_col2\" class=\"data row8 col2\" >0.101749</td>\n",
              "                        <td id=\"T_1b8afb14_11dc_11ec_a88b_0242ac1c0002row8_col3\" class=\"data row8 col3\" >0.555358</td>\n",
              "                        <td id=\"T_1b8afb14_11dc_11ec_a88b_0242ac1c0002row8_col4\" class=\"data row8 col4\" >0.962261</td>\n",
              "            </tr>\n",
              "            <tr>\n",
              "                        <th id=\"T_1b8afb14_11dc_11ec_a88b_0242ac1c0002level0_row9\" class=\"row_heading level0 row9\" >9</th>\n",
              "                        <td id=\"T_1b8afb14_11dc_11ec_a88b_0242ac1c0002row9_col0\" class=\"data row9 col0\" >10.000000</td>\n",
              "                        <td id=\"T_1b8afb14_11dc_11ec_a88b_0242ac1c0002row9_col1\" class=\"data row9 col1\" >1.433499</td>\n",
              "                        <td id=\"T_1b8afb14_11dc_11ec_a88b_0242ac1c0002row9_col2\" class=\"data row9 col2\" >-0.701818</td>\n",
              "                        <td id=\"T_1b8afb14_11dc_11ec_a88b_0242ac1c0002row9_col3\" class=\"data row9 col3\" >-0.856952</td>\n",
              "                        <td id=\"T_1b8afb14_11dc_11ec_a88b_0242ac1c0002row9_col4\" class=\"data row9 col4\" >-0.858158</td>\n",
              "            </tr>\n",
              "    </tbody></table>"
            ],
            "text/plain": [
              "<pandas.io.formats.style.Styler at 0x7f80c1ef4850>"
            ]
          },
          "metadata": {},
          "execution_count": 6
        }
      ]
    },
    {
      "cell_type": "code",
      "metadata": {
        "colab": {
          "base_uri": "https://localhost:8080/",
          "height": 243
        },
        "id": "Ombge1Joduz9",
        "outputId": "011473f4-6389-48c6-85b0-21aefe2ca68b"
      },
      "source": [
        "df.style.highlight_min()"
      ],
      "execution_count": 7,
      "outputs": [
        {
          "output_type": "execute_result",
          "data": {
            "text/html": [
              "<style  type=\"text/css\" >\n",
              "#T_1fffb5d6_11dc_11ec_a88b_0242ac1c0002row0_col0,#T_1fffb5d6_11dc_11ec_a88b_0242ac1c0002row1_col3,#T_1fffb5d6_11dc_11ec_a88b_0242ac1c0002row3_col2,#T_1fffb5d6_11dc_11ec_a88b_0242ac1c0002row7_col1,#T_1fffb5d6_11dc_11ec_a88b_0242ac1c0002row9_col4{\n",
              "            background-color:  yellow;\n",
              "        }</style><table id=\"T_1fffb5d6_11dc_11ec_a88b_0242ac1c0002\" ><thead>    <tr>        <th class=\"blank level0\" ></th>        <th class=\"col_heading level0 col0\" >A</th>        <th class=\"col_heading level0 col1\" >B</th>        <th class=\"col_heading level0 col2\" >C</th>        <th class=\"col_heading level0 col3\" >D</th>        <th class=\"col_heading level0 col4\" >E</th>    </tr></thead><tbody>\n",
              "                <tr>\n",
              "                        <th id=\"T_1fffb5d6_11dc_11ec_a88b_0242ac1c0002level0_row0\" class=\"row_heading level0 row0\" >0</th>\n",
              "                        <td id=\"T_1fffb5d6_11dc_11ec_a88b_0242ac1c0002row0_col0\" class=\"data row0 col0\" >1.000000</td>\n",
              "                        <td id=\"T_1fffb5d6_11dc_11ec_a88b_0242ac1c0002row0_col1\" class=\"data row0 col1\" >0.106884</td>\n",
              "                        <td id=\"T_1fffb5d6_11dc_11ec_a88b_0242ac1c0002row0_col2\" class=\"data row0 col2\" >nan</td>\n",
              "                        <td id=\"T_1fffb5d6_11dc_11ec_a88b_0242ac1c0002row0_col3\" class=\"data row0 col3\" >0.956563</td>\n",
              "                        <td id=\"T_1fffb5d6_11dc_11ec_a88b_0242ac1c0002row0_col4\" class=\"data row0 col4\" >0.068411</td>\n",
              "            </tr>\n",
              "            <tr>\n",
              "                        <th id=\"T_1fffb5d6_11dc_11ec_a88b_0242ac1c0002level0_row1\" class=\"row_heading level0 row1\" >1</th>\n",
              "                        <td id=\"T_1fffb5d6_11dc_11ec_a88b_0242ac1c0002row1_col0\" class=\"data row1 col0\" >2.000000</td>\n",
              "                        <td id=\"T_1fffb5d6_11dc_11ec_a88b_0242ac1c0002row1_col1\" class=\"data row1 col1\" >1.068514</td>\n",
              "                        <td id=\"T_1fffb5d6_11dc_11ec_a88b_0242ac1c0002row1_col2\" class=\"data row1 col2\" >0.997183</td>\n",
              "                        <td id=\"T_1fffb5d6_11dc_11ec_a88b_0242ac1c0002row1_col3\" class=\"data row1 col3\" >-0.931548</td>\n",
              "                        <td id=\"T_1fffb5d6_11dc_11ec_a88b_0242ac1c0002row1_col4\" class=\"data row1 col4\" >0.730430</td>\n",
              "            </tr>\n",
              "            <tr>\n",
              "                        <th id=\"T_1fffb5d6_11dc_11ec_a88b_0242ac1c0002level0_row2\" class=\"row_heading level0 row2\" >2</th>\n",
              "                        <td id=\"T_1fffb5d6_11dc_11ec_a88b_0242ac1c0002row2_col0\" class=\"data row2 col0\" >3.000000</td>\n",
              "                        <td id=\"T_1fffb5d6_11dc_11ec_a88b_0242ac1c0002row2_col1\" class=\"data row2 col1\" >-0.171214</td>\n",
              "                        <td id=\"T_1fffb5d6_11dc_11ec_a88b_0242ac1c0002row2_col2\" class=\"data row2 col2\" >-1.288691</td>\n",
              "                        <td id=\"T_1fffb5d6_11dc_11ec_a88b_0242ac1c0002row2_col3\" class=\"data row2 col3\" >1.061436</td>\n",
              "                        <td id=\"T_1fffb5d6_11dc_11ec_a88b_0242ac1c0002row2_col4\" class=\"data row2 col4\" >-0.040501</td>\n",
              "            </tr>\n",
              "            <tr>\n",
              "                        <th id=\"T_1fffb5d6_11dc_11ec_a88b_0242ac1c0002level0_row3\" class=\"row_heading level0 row3\" >3</th>\n",
              "                        <td id=\"T_1fffb5d6_11dc_11ec_a88b_0242ac1c0002row3_col0\" class=\"data row3 col0\" >4.000000</td>\n",
              "                        <td id=\"T_1fffb5d6_11dc_11ec_a88b_0242ac1c0002row3_col1\" class=\"data row3 col1\" >-0.903721</td>\n",
              "                        <td id=\"T_1fffb5d6_11dc_11ec_a88b_0242ac1c0002row3_col2\" class=\"data row3 col2\" >-1.554133</td>\n",
              "                        <td id=\"T_1fffb5d6_11dc_11ec_a88b_0242ac1c0002row3_col3\" class=\"data row3 col3\" >nan</td>\n",
              "                        <td id=\"T_1fffb5d6_11dc_11ec_a88b_0242ac1c0002row3_col4\" class=\"data row3 col4\" >0.200526</td>\n",
              "            </tr>\n",
              "            <tr>\n",
              "                        <th id=\"T_1fffb5d6_11dc_11ec_a88b_0242ac1c0002level0_row4\" class=\"row_heading level0 row4\" >4</th>\n",
              "                        <td id=\"T_1fffb5d6_11dc_11ec_a88b_0242ac1c0002row4_col0\" class=\"data row4 col0\" >5.000000</td>\n",
              "                        <td id=\"T_1fffb5d6_11dc_11ec_a88b_0242ac1c0002row4_col1\" class=\"data row4 col1\" >-0.747329</td>\n",
              "                        <td id=\"T_1fffb5d6_11dc_11ec_a88b_0242ac1c0002row4_col2\" class=\"data row4 col2\" >1.068081</td>\n",
              "                        <td id=\"T_1fffb5d6_11dc_11ec_a88b_0242ac1c0002row4_col3\" class=\"data row4 col3\" >-0.277024</td>\n",
              "                        <td id=\"T_1fffb5d6_11dc_11ec_a88b_0242ac1c0002row4_col4\" class=\"data row4 col4\" >0.086557</td>\n",
              "            </tr>\n",
              "            <tr>\n",
              "                        <th id=\"T_1fffb5d6_11dc_11ec_a88b_0242ac1c0002level0_row5\" class=\"row_heading level0 row5\" >5</th>\n",
              "                        <td id=\"T_1fffb5d6_11dc_11ec_a88b_0242ac1c0002row5_col0\" class=\"data row5 col0\" >6.000000</td>\n",
              "                        <td id=\"T_1fffb5d6_11dc_11ec_a88b_0242ac1c0002row5_col1\" class=\"data row5 col1\" >-0.253221</td>\n",
              "                        <td id=\"T_1fffb5d6_11dc_11ec_a88b_0242ac1c0002row5_col2\" class=\"data row5 col2\" >-1.212041</td>\n",
              "                        <td id=\"T_1fffb5d6_11dc_11ec_a88b_0242ac1c0002row5_col3\" class=\"data row5 col3\" >0.277273</td>\n",
              "                        <td id=\"T_1fffb5d6_11dc_11ec_a88b_0242ac1c0002row5_col4\" class=\"data row5 col4\" >0.552219</td>\n",
              "            </tr>\n",
              "            <tr>\n",
              "                        <th id=\"T_1fffb5d6_11dc_11ec_a88b_0242ac1c0002level0_row6\" class=\"row_heading level0 row6\" >6</th>\n",
              "                        <td id=\"T_1fffb5d6_11dc_11ec_a88b_0242ac1c0002row6_col0\" class=\"data row6 col0\" >7.000000</td>\n",
              "                        <td id=\"T_1fffb5d6_11dc_11ec_a88b_0242ac1c0002row6_col1\" class=\"data row6 col1\" >-0.467743</td>\n",
              "                        <td id=\"T_1fffb5d6_11dc_11ec_a88b_0242ac1c0002row6_col2\" class=\"data row6 col2\" >-1.427493</td>\n",
              "                        <td id=\"T_1fffb5d6_11dc_11ec_a88b_0242ac1c0002row6_col3\" class=\"data row6 col3\" >0.885805</td>\n",
              "                        <td id=\"T_1fffb5d6_11dc_11ec_a88b_0242ac1c0002row6_col4\" class=\"data row6 col4\" >2.360634</td>\n",
              "            </tr>\n",
              "            <tr>\n",
              "                        <th id=\"T_1fffb5d6_11dc_11ec_a88b_0242ac1c0002level0_row7\" class=\"row_heading level0 row7\" >7</th>\n",
              "                        <td id=\"T_1fffb5d6_11dc_11ec_a88b_0242ac1c0002row7_col0\" class=\"data row7 col0\" >8.000000</td>\n",
              "                        <td id=\"T_1fffb5d6_11dc_11ec_a88b_0242ac1c0002row7_col1\" class=\"data row7 col1\" >-1.522006</td>\n",
              "                        <td id=\"T_1fffb5d6_11dc_11ec_a88b_0242ac1c0002row7_col2\" class=\"data row7 col2\" >-0.215945</td>\n",
              "                        <td id=\"T_1fffb5d6_11dc_11ec_a88b_0242ac1c0002row7_col3\" class=\"data row7 col3\" >0.190327</td>\n",
              "                        <td id=\"T_1fffb5d6_11dc_11ec_a88b_0242ac1c0002row7_col4\" class=\"data row7 col4\" >0.722256</td>\n",
              "            </tr>\n",
              "            <tr>\n",
              "                        <th id=\"T_1fffb5d6_11dc_11ec_a88b_0242ac1c0002level0_row8\" class=\"row_heading level0 row8\" >8</th>\n",
              "                        <td id=\"T_1fffb5d6_11dc_11ec_a88b_0242ac1c0002row8_col0\" class=\"data row8 col0\" >9.000000</td>\n",
              "                        <td id=\"T_1fffb5d6_11dc_11ec_a88b_0242ac1c0002row8_col1\" class=\"data row8 col1\" >-0.870716</td>\n",
              "                        <td id=\"T_1fffb5d6_11dc_11ec_a88b_0242ac1c0002row8_col2\" class=\"data row8 col2\" >0.101749</td>\n",
              "                        <td id=\"T_1fffb5d6_11dc_11ec_a88b_0242ac1c0002row8_col3\" class=\"data row8 col3\" >0.555358</td>\n",
              "                        <td id=\"T_1fffb5d6_11dc_11ec_a88b_0242ac1c0002row8_col4\" class=\"data row8 col4\" >0.962261</td>\n",
              "            </tr>\n",
              "            <tr>\n",
              "                        <th id=\"T_1fffb5d6_11dc_11ec_a88b_0242ac1c0002level0_row9\" class=\"row_heading level0 row9\" >9</th>\n",
              "                        <td id=\"T_1fffb5d6_11dc_11ec_a88b_0242ac1c0002row9_col0\" class=\"data row9 col0\" >10.000000</td>\n",
              "                        <td id=\"T_1fffb5d6_11dc_11ec_a88b_0242ac1c0002row9_col1\" class=\"data row9 col1\" >1.433499</td>\n",
              "                        <td id=\"T_1fffb5d6_11dc_11ec_a88b_0242ac1c0002row9_col2\" class=\"data row9 col2\" >-0.701818</td>\n",
              "                        <td id=\"T_1fffb5d6_11dc_11ec_a88b_0242ac1c0002row9_col3\" class=\"data row9 col3\" >-0.856952</td>\n",
              "                        <td id=\"T_1fffb5d6_11dc_11ec_a88b_0242ac1c0002row9_col4\" class=\"data row9 col4\" >-0.858158</td>\n",
              "            </tr>\n",
              "    </tbody></table>"
            ],
            "text/plain": [
              "<pandas.io.formats.style.Styler at 0x7f80c1c39190>"
            ]
          },
          "metadata": {},
          "execution_count": 7
        }
      ]
    },
    {
      "cell_type": "code",
      "metadata": {
        "colab": {
          "base_uri": "https://localhost:8080/",
          "height": 243
        },
        "id": "ZDiHcdxZd4JO",
        "outputId": "d39463fa-1c1a-47fc-b19c-d3a0fd9df9fa"
      },
      "source": [
        "df.style.highlight_max(axis=1)"
      ],
      "execution_count": 8,
      "outputs": [
        {
          "output_type": "execute_result",
          "data": {
            "text/html": [
              "<style  type=\"text/css\" >\n",
              "#T_286b615c_11dc_11ec_a88b_0242ac1c0002row0_col0,#T_286b615c_11dc_11ec_a88b_0242ac1c0002row1_col0,#T_286b615c_11dc_11ec_a88b_0242ac1c0002row2_col0,#T_286b615c_11dc_11ec_a88b_0242ac1c0002row3_col0,#T_286b615c_11dc_11ec_a88b_0242ac1c0002row4_col0,#T_286b615c_11dc_11ec_a88b_0242ac1c0002row5_col0,#T_286b615c_11dc_11ec_a88b_0242ac1c0002row6_col0,#T_286b615c_11dc_11ec_a88b_0242ac1c0002row7_col0,#T_286b615c_11dc_11ec_a88b_0242ac1c0002row8_col0,#T_286b615c_11dc_11ec_a88b_0242ac1c0002row9_col0{\n",
              "            background-color:  yellow;\n",
              "        }</style><table id=\"T_286b615c_11dc_11ec_a88b_0242ac1c0002\" ><thead>    <tr>        <th class=\"blank level0\" ></th>        <th class=\"col_heading level0 col0\" >A</th>        <th class=\"col_heading level0 col1\" >B</th>        <th class=\"col_heading level0 col2\" >C</th>        <th class=\"col_heading level0 col3\" >D</th>        <th class=\"col_heading level0 col4\" >E</th>    </tr></thead><tbody>\n",
              "                <tr>\n",
              "                        <th id=\"T_286b615c_11dc_11ec_a88b_0242ac1c0002level0_row0\" class=\"row_heading level0 row0\" >0</th>\n",
              "                        <td id=\"T_286b615c_11dc_11ec_a88b_0242ac1c0002row0_col0\" class=\"data row0 col0\" >1.000000</td>\n",
              "                        <td id=\"T_286b615c_11dc_11ec_a88b_0242ac1c0002row0_col1\" class=\"data row0 col1\" >0.106884</td>\n",
              "                        <td id=\"T_286b615c_11dc_11ec_a88b_0242ac1c0002row0_col2\" class=\"data row0 col2\" >nan</td>\n",
              "                        <td id=\"T_286b615c_11dc_11ec_a88b_0242ac1c0002row0_col3\" class=\"data row0 col3\" >0.956563</td>\n",
              "                        <td id=\"T_286b615c_11dc_11ec_a88b_0242ac1c0002row0_col4\" class=\"data row0 col4\" >0.068411</td>\n",
              "            </tr>\n",
              "            <tr>\n",
              "                        <th id=\"T_286b615c_11dc_11ec_a88b_0242ac1c0002level0_row1\" class=\"row_heading level0 row1\" >1</th>\n",
              "                        <td id=\"T_286b615c_11dc_11ec_a88b_0242ac1c0002row1_col0\" class=\"data row1 col0\" >2.000000</td>\n",
              "                        <td id=\"T_286b615c_11dc_11ec_a88b_0242ac1c0002row1_col1\" class=\"data row1 col1\" >1.068514</td>\n",
              "                        <td id=\"T_286b615c_11dc_11ec_a88b_0242ac1c0002row1_col2\" class=\"data row1 col2\" >0.997183</td>\n",
              "                        <td id=\"T_286b615c_11dc_11ec_a88b_0242ac1c0002row1_col3\" class=\"data row1 col3\" >-0.931548</td>\n",
              "                        <td id=\"T_286b615c_11dc_11ec_a88b_0242ac1c0002row1_col4\" class=\"data row1 col4\" >0.730430</td>\n",
              "            </tr>\n",
              "            <tr>\n",
              "                        <th id=\"T_286b615c_11dc_11ec_a88b_0242ac1c0002level0_row2\" class=\"row_heading level0 row2\" >2</th>\n",
              "                        <td id=\"T_286b615c_11dc_11ec_a88b_0242ac1c0002row2_col0\" class=\"data row2 col0\" >3.000000</td>\n",
              "                        <td id=\"T_286b615c_11dc_11ec_a88b_0242ac1c0002row2_col1\" class=\"data row2 col1\" >-0.171214</td>\n",
              "                        <td id=\"T_286b615c_11dc_11ec_a88b_0242ac1c0002row2_col2\" class=\"data row2 col2\" >-1.288691</td>\n",
              "                        <td id=\"T_286b615c_11dc_11ec_a88b_0242ac1c0002row2_col3\" class=\"data row2 col3\" >1.061436</td>\n",
              "                        <td id=\"T_286b615c_11dc_11ec_a88b_0242ac1c0002row2_col4\" class=\"data row2 col4\" >-0.040501</td>\n",
              "            </tr>\n",
              "            <tr>\n",
              "                        <th id=\"T_286b615c_11dc_11ec_a88b_0242ac1c0002level0_row3\" class=\"row_heading level0 row3\" >3</th>\n",
              "                        <td id=\"T_286b615c_11dc_11ec_a88b_0242ac1c0002row3_col0\" class=\"data row3 col0\" >4.000000</td>\n",
              "                        <td id=\"T_286b615c_11dc_11ec_a88b_0242ac1c0002row3_col1\" class=\"data row3 col1\" >-0.903721</td>\n",
              "                        <td id=\"T_286b615c_11dc_11ec_a88b_0242ac1c0002row3_col2\" class=\"data row3 col2\" >-1.554133</td>\n",
              "                        <td id=\"T_286b615c_11dc_11ec_a88b_0242ac1c0002row3_col3\" class=\"data row3 col3\" >nan</td>\n",
              "                        <td id=\"T_286b615c_11dc_11ec_a88b_0242ac1c0002row3_col4\" class=\"data row3 col4\" >0.200526</td>\n",
              "            </tr>\n",
              "            <tr>\n",
              "                        <th id=\"T_286b615c_11dc_11ec_a88b_0242ac1c0002level0_row4\" class=\"row_heading level0 row4\" >4</th>\n",
              "                        <td id=\"T_286b615c_11dc_11ec_a88b_0242ac1c0002row4_col0\" class=\"data row4 col0\" >5.000000</td>\n",
              "                        <td id=\"T_286b615c_11dc_11ec_a88b_0242ac1c0002row4_col1\" class=\"data row4 col1\" >-0.747329</td>\n",
              "                        <td id=\"T_286b615c_11dc_11ec_a88b_0242ac1c0002row4_col2\" class=\"data row4 col2\" >1.068081</td>\n",
              "                        <td id=\"T_286b615c_11dc_11ec_a88b_0242ac1c0002row4_col3\" class=\"data row4 col3\" >-0.277024</td>\n",
              "                        <td id=\"T_286b615c_11dc_11ec_a88b_0242ac1c0002row4_col4\" class=\"data row4 col4\" >0.086557</td>\n",
              "            </tr>\n",
              "            <tr>\n",
              "                        <th id=\"T_286b615c_11dc_11ec_a88b_0242ac1c0002level0_row5\" class=\"row_heading level0 row5\" >5</th>\n",
              "                        <td id=\"T_286b615c_11dc_11ec_a88b_0242ac1c0002row5_col0\" class=\"data row5 col0\" >6.000000</td>\n",
              "                        <td id=\"T_286b615c_11dc_11ec_a88b_0242ac1c0002row5_col1\" class=\"data row5 col1\" >-0.253221</td>\n",
              "                        <td id=\"T_286b615c_11dc_11ec_a88b_0242ac1c0002row5_col2\" class=\"data row5 col2\" >-1.212041</td>\n",
              "                        <td id=\"T_286b615c_11dc_11ec_a88b_0242ac1c0002row5_col3\" class=\"data row5 col3\" >0.277273</td>\n",
              "                        <td id=\"T_286b615c_11dc_11ec_a88b_0242ac1c0002row5_col4\" class=\"data row5 col4\" >0.552219</td>\n",
              "            </tr>\n",
              "            <tr>\n",
              "                        <th id=\"T_286b615c_11dc_11ec_a88b_0242ac1c0002level0_row6\" class=\"row_heading level0 row6\" >6</th>\n",
              "                        <td id=\"T_286b615c_11dc_11ec_a88b_0242ac1c0002row6_col0\" class=\"data row6 col0\" >7.000000</td>\n",
              "                        <td id=\"T_286b615c_11dc_11ec_a88b_0242ac1c0002row6_col1\" class=\"data row6 col1\" >-0.467743</td>\n",
              "                        <td id=\"T_286b615c_11dc_11ec_a88b_0242ac1c0002row6_col2\" class=\"data row6 col2\" >-1.427493</td>\n",
              "                        <td id=\"T_286b615c_11dc_11ec_a88b_0242ac1c0002row6_col3\" class=\"data row6 col3\" >0.885805</td>\n",
              "                        <td id=\"T_286b615c_11dc_11ec_a88b_0242ac1c0002row6_col4\" class=\"data row6 col4\" >2.360634</td>\n",
              "            </tr>\n",
              "            <tr>\n",
              "                        <th id=\"T_286b615c_11dc_11ec_a88b_0242ac1c0002level0_row7\" class=\"row_heading level0 row7\" >7</th>\n",
              "                        <td id=\"T_286b615c_11dc_11ec_a88b_0242ac1c0002row7_col0\" class=\"data row7 col0\" >8.000000</td>\n",
              "                        <td id=\"T_286b615c_11dc_11ec_a88b_0242ac1c0002row7_col1\" class=\"data row7 col1\" >-1.522006</td>\n",
              "                        <td id=\"T_286b615c_11dc_11ec_a88b_0242ac1c0002row7_col2\" class=\"data row7 col2\" >-0.215945</td>\n",
              "                        <td id=\"T_286b615c_11dc_11ec_a88b_0242ac1c0002row7_col3\" class=\"data row7 col3\" >0.190327</td>\n",
              "                        <td id=\"T_286b615c_11dc_11ec_a88b_0242ac1c0002row7_col4\" class=\"data row7 col4\" >0.722256</td>\n",
              "            </tr>\n",
              "            <tr>\n",
              "                        <th id=\"T_286b615c_11dc_11ec_a88b_0242ac1c0002level0_row8\" class=\"row_heading level0 row8\" >8</th>\n",
              "                        <td id=\"T_286b615c_11dc_11ec_a88b_0242ac1c0002row8_col0\" class=\"data row8 col0\" >9.000000</td>\n",
              "                        <td id=\"T_286b615c_11dc_11ec_a88b_0242ac1c0002row8_col1\" class=\"data row8 col1\" >-0.870716</td>\n",
              "                        <td id=\"T_286b615c_11dc_11ec_a88b_0242ac1c0002row8_col2\" class=\"data row8 col2\" >0.101749</td>\n",
              "                        <td id=\"T_286b615c_11dc_11ec_a88b_0242ac1c0002row8_col3\" class=\"data row8 col3\" >0.555358</td>\n",
              "                        <td id=\"T_286b615c_11dc_11ec_a88b_0242ac1c0002row8_col4\" class=\"data row8 col4\" >0.962261</td>\n",
              "            </tr>\n",
              "            <tr>\n",
              "                        <th id=\"T_286b615c_11dc_11ec_a88b_0242ac1c0002level0_row9\" class=\"row_heading level0 row9\" >9</th>\n",
              "                        <td id=\"T_286b615c_11dc_11ec_a88b_0242ac1c0002row9_col0\" class=\"data row9 col0\" >10.000000</td>\n",
              "                        <td id=\"T_286b615c_11dc_11ec_a88b_0242ac1c0002row9_col1\" class=\"data row9 col1\" >1.433499</td>\n",
              "                        <td id=\"T_286b615c_11dc_11ec_a88b_0242ac1c0002row9_col2\" class=\"data row9 col2\" >-0.701818</td>\n",
              "                        <td id=\"T_286b615c_11dc_11ec_a88b_0242ac1c0002row9_col3\" class=\"data row9 col3\" >-0.856952</td>\n",
              "                        <td id=\"T_286b615c_11dc_11ec_a88b_0242ac1c0002row9_col4\" class=\"data row9 col4\" >-0.858158</td>\n",
              "            </tr>\n",
              "    </tbody></table>"
            ],
            "text/plain": [
              "<pandas.io.formats.style.Styler at 0x7f80c1c43050>"
            ]
          },
          "metadata": {},
          "execution_count": 8
        }
      ]
    },
    {
      "cell_type": "code",
      "metadata": {
        "colab": {
          "base_uri": "https://localhost:8080/",
          "height": 243
        },
        "id": "uVMss2vZd7ut",
        "outputId": "83146bc2-2133-4dc6-ebe8-a5aab94a8822"
      },
      "source": [
        "df.style.highlight_max(color='green').highlight_min(color='pink')"
      ],
      "execution_count": 9,
      "outputs": [
        {
          "output_type": "execute_result",
          "data": {
            "text/html": [
              "<style  type=\"text/css\" >\n",
              "#T_4f5e1dae_11dc_11ec_a88b_0242ac1c0002row0_col0,#T_4f5e1dae_11dc_11ec_a88b_0242ac1c0002row1_col3,#T_4f5e1dae_11dc_11ec_a88b_0242ac1c0002row3_col2,#T_4f5e1dae_11dc_11ec_a88b_0242ac1c0002row7_col1,#T_4f5e1dae_11dc_11ec_a88b_0242ac1c0002row9_col4{\n",
              "            background-color:  pink;\n",
              "        }#T_4f5e1dae_11dc_11ec_a88b_0242ac1c0002row2_col3,#T_4f5e1dae_11dc_11ec_a88b_0242ac1c0002row4_col2,#T_4f5e1dae_11dc_11ec_a88b_0242ac1c0002row6_col4,#T_4f5e1dae_11dc_11ec_a88b_0242ac1c0002row9_col0,#T_4f5e1dae_11dc_11ec_a88b_0242ac1c0002row9_col1{\n",
              "            background-color:  green;\n",
              "        }</style><table id=\"T_4f5e1dae_11dc_11ec_a88b_0242ac1c0002\" ><thead>    <tr>        <th class=\"blank level0\" ></th>        <th class=\"col_heading level0 col0\" >A</th>        <th class=\"col_heading level0 col1\" >B</th>        <th class=\"col_heading level0 col2\" >C</th>        <th class=\"col_heading level0 col3\" >D</th>        <th class=\"col_heading level0 col4\" >E</th>    </tr></thead><tbody>\n",
              "                <tr>\n",
              "                        <th id=\"T_4f5e1dae_11dc_11ec_a88b_0242ac1c0002level0_row0\" class=\"row_heading level0 row0\" >0</th>\n",
              "                        <td id=\"T_4f5e1dae_11dc_11ec_a88b_0242ac1c0002row0_col0\" class=\"data row0 col0\" >1.000000</td>\n",
              "                        <td id=\"T_4f5e1dae_11dc_11ec_a88b_0242ac1c0002row0_col1\" class=\"data row0 col1\" >0.106884</td>\n",
              "                        <td id=\"T_4f5e1dae_11dc_11ec_a88b_0242ac1c0002row0_col2\" class=\"data row0 col2\" >nan</td>\n",
              "                        <td id=\"T_4f5e1dae_11dc_11ec_a88b_0242ac1c0002row0_col3\" class=\"data row0 col3\" >0.956563</td>\n",
              "                        <td id=\"T_4f5e1dae_11dc_11ec_a88b_0242ac1c0002row0_col4\" class=\"data row0 col4\" >0.068411</td>\n",
              "            </tr>\n",
              "            <tr>\n",
              "                        <th id=\"T_4f5e1dae_11dc_11ec_a88b_0242ac1c0002level0_row1\" class=\"row_heading level0 row1\" >1</th>\n",
              "                        <td id=\"T_4f5e1dae_11dc_11ec_a88b_0242ac1c0002row1_col0\" class=\"data row1 col0\" >2.000000</td>\n",
              "                        <td id=\"T_4f5e1dae_11dc_11ec_a88b_0242ac1c0002row1_col1\" class=\"data row1 col1\" >1.068514</td>\n",
              "                        <td id=\"T_4f5e1dae_11dc_11ec_a88b_0242ac1c0002row1_col2\" class=\"data row1 col2\" >0.997183</td>\n",
              "                        <td id=\"T_4f5e1dae_11dc_11ec_a88b_0242ac1c0002row1_col3\" class=\"data row1 col3\" >-0.931548</td>\n",
              "                        <td id=\"T_4f5e1dae_11dc_11ec_a88b_0242ac1c0002row1_col4\" class=\"data row1 col4\" >0.730430</td>\n",
              "            </tr>\n",
              "            <tr>\n",
              "                        <th id=\"T_4f5e1dae_11dc_11ec_a88b_0242ac1c0002level0_row2\" class=\"row_heading level0 row2\" >2</th>\n",
              "                        <td id=\"T_4f5e1dae_11dc_11ec_a88b_0242ac1c0002row2_col0\" class=\"data row2 col0\" >3.000000</td>\n",
              "                        <td id=\"T_4f5e1dae_11dc_11ec_a88b_0242ac1c0002row2_col1\" class=\"data row2 col1\" >-0.171214</td>\n",
              "                        <td id=\"T_4f5e1dae_11dc_11ec_a88b_0242ac1c0002row2_col2\" class=\"data row2 col2\" >-1.288691</td>\n",
              "                        <td id=\"T_4f5e1dae_11dc_11ec_a88b_0242ac1c0002row2_col3\" class=\"data row2 col3\" >1.061436</td>\n",
              "                        <td id=\"T_4f5e1dae_11dc_11ec_a88b_0242ac1c0002row2_col4\" class=\"data row2 col4\" >-0.040501</td>\n",
              "            </tr>\n",
              "            <tr>\n",
              "                        <th id=\"T_4f5e1dae_11dc_11ec_a88b_0242ac1c0002level0_row3\" class=\"row_heading level0 row3\" >3</th>\n",
              "                        <td id=\"T_4f5e1dae_11dc_11ec_a88b_0242ac1c0002row3_col0\" class=\"data row3 col0\" >4.000000</td>\n",
              "                        <td id=\"T_4f5e1dae_11dc_11ec_a88b_0242ac1c0002row3_col1\" class=\"data row3 col1\" >-0.903721</td>\n",
              "                        <td id=\"T_4f5e1dae_11dc_11ec_a88b_0242ac1c0002row3_col2\" class=\"data row3 col2\" >-1.554133</td>\n",
              "                        <td id=\"T_4f5e1dae_11dc_11ec_a88b_0242ac1c0002row3_col3\" class=\"data row3 col3\" >nan</td>\n",
              "                        <td id=\"T_4f5e1dae_11dc_11ec_a88b_0242ac1c0002row3_col4\" class=\"data row3 col4\" >0.200526</td>\n",
              "            </tr>\n",
              "            <tr>\n",
              "                        <th id=\"T_4f5e1dae_11dc_11ec_a88b_0242ac1c0002level0_row4\" class=\"row_heading level0 row4\" >4</th>\n",
              "                        <td id=\"T_4f5e1dae_11dc_11ec_a88b_0242ac1c0002row4_col0\" class=\"data row4 col0\" >5.000000</td>\n",
              "                        <td id=\"T_4f5e1dae_11dc_11ec_a88b_0242ac1c0002row4_col1\" class=\"data row4 col1\" >-0.747329</td>\n",
              "                        <td id=\"T_4f5e1dae_11dc_11ec_a88b_0242ac1c0002row4_col2\" class=\"data row4 col2\" >1.068081</td>\n",
              "                        <td id=\"T_4f5e1dae_11dc_11ec_a88b_0242ac1c0002row4_col3\" class=\"data row4 col3\" >-0.277024</td>\n",
              "                        <td id=\"T_4f5e1dae_11dc_11ec_a88b_0242ac1c0002row4_col4\" class=\"data row4 col4\" >0.086557</td>\n",
              "            </tr>\n",
              "            <tr>\n",
              "                        <th id=\"T_4f5e1dae_11dc_11ec_a88b_0242ac1c0002level0_row5\" class=\"row_heading level0 row5\" >5</th>\n",
              "                        <td id=\"T_4f5e1dae_11dc_11ec_a88b_0242ac1c0002row5_col0\" class=\"data row5 col0\" >6.000000</td>\n",
              "                        <td id=\"T_4f5e1dae_11dc_11ec_a88b_0242ac1c0002row5_col1\" class=\"data row5 col1\" >-0.253221</td>\n",
              "                        <td id=\"T_4f5e1dae_11dc_11ec_a88b_0242ac1c0002row5_col2\" class=\"data row5 col2\" >-1.212041</td>\n",
              "                        <td id=\"T_4f5e1dae_11dc_11ec_a88b_0242ac1c0002row5_col3\" class=\"data row5 col3\" >0.277273</td>\n",
              "                        <td id=\"T_4f5e1dae_11dc_11ec_a88b_0242ac1c0002row5_col4\" class=\"data row5 col4\" >0.552219</td>\n",
              "            </tr>\n",
              "            <tr>\n",
              "                        <th id=\"T_4f5e1dae_11dc_11ec_a88b_0242ac1c0002level0_row6\" class=\"row_heading level0 row6\" >6</th>\n",
              "                        <td id=\"T_4f5e1dae_11dc_11ec_a88b_0242ac1c0002row6_col0\" class=\"data row6 col0\" >7.000000</td>\n",
              "                        <td id=\"T_4f5e1dae_11dc_11ec_a88b_0242ac1c0002row6_col1\" class=\"data row6 col1\" >-0.467743</td>\n",
              "                        <td id=\"T_4f5e1dae_11dc_11ec_a88b_0242ac1c0002row6_col2\" class=\"data row6 col2\" >-1.427493</td>\n",
              "                        <td id=\"T_4f5e1dae_11dc_11ec_a88b_0242ac1c0002row6_col3\" class=\"data row6 col3\" >0.885805</td>\n",
              "                        <td id=\"T_4f5e1dae_11dc_11ec_a88b_0242ac1c0002row6_col4\" class=\"data row6 col4\" >2.360634</td>\n",
              "            </tr>\n",
              "            <tr>\n",
              "                        <th id=\"T_4f5e1dae_11dc_11ec_a88b_0242ac1c0002level0_row7\" class=\"row_heading level0 row7\" >7</th>\n",
              "                        <td id=\"T_4f5e1dae_11dc_11ec_a88b_0242ac1c0002row7_col0\" class=\"data row7 col0\" >8.000000</td>\n",
              "                        <td id=\"T_4f5e1dae_11dc_11ec_a88b_0242ac1c0002row7_col1\" class=\"data row7 col1\" >-1.522006</td>\n",
              "                        <td id=\"T_4f5e1dae_11dc_11ec_a88b_0242ac1c0002row7_col2\" class=\"data row7 col2\" >-0.215945</td>\n",
              "                        <td id=\"T_4f5e1dae_11dc_11ec_a88b_0242ac1c0002row7_col3\" class=\"data row7 col3\" >0.190327</td>\n",
              "                        <td id=\"T_4f5e1dae_11dc_11ec_a88b_0242ac1c0002row7_col4\" class=\"data row7 col4\" >0.722256</td>\n",
              "            </tr>\n",
              "            <tr>\n",
              "                        <th id=\"T_4f5e1dae_11dc_11ec_a88b_0242ac1c0002level0_row8\" class=\"row_heading level0 row8\" >8</th>\n",
              "                        <td id=\"T_4f5e1dae_11dc_11ec_a88b_0242ac1c0002row8_col0\" class=\"data row8 col0\" >9.000000</td>\n",
              "                        <td id=\"T_4f5e1dae_11dc_11ec_a88b_0242ac1c0002row8_col1\" class=\"data row8 col1\" >-0.870716</td>\n",
              "                        <td id=\"T_4f5e1dae_11dc_11ec_a88b_0242ac1c0002row8_col2\" class=\"data row8 col2\" >0.101749</td>\n",
              "                        <td id=\"T_4f5e1dae_11dc_11ec_a88b_0242ac1c0002row8_col3\" class=\"data row8 col3\" >0.555358</td>\n",
              "                        <td id=\"T_4f5e1dae_11dc_11ec_a88b_0242ac1c0002row8_col4\" class=\"data row8 col4\" >0.962261</td>\n",
              "            </tr>\n",
              "            <tr>\n",
              "                        <th id=\"T_4f5e1dae_11dc_11ec_a88b_0242ac1c0002level0_row9\" class=\"row_heading level0 row9\" >9</th>\n",
              "                        <td id=\"T_4f5e1dae_11dc_11ec_a88b_0242ac1c0002row9_col0\" class=\"data row9 col0\" >10.000000</td>\n",
              "                        <td id=\"T_4f5e1dae_11dc_11ec_a88b_0242ac1c0002row9_col1\" class=\"data row9 col1\" >1.433499</td>\n",
              "                        <td id=\"T_4f5e1dae_11dc_11ec_a88b_0242ac1c0002row9_col2\" class=\"data row9 col2\" >-0.701818</td>\n",
              "                        <td id=\"T_4f5e1dae_11dc_11ec_a88b_0242ac1c0002row9_col3\" class=\"data row9 col3\" >-0.856952</td>\n",
              "                        <td id=\"T_4f5e1dae_11dc_11ec_a88b_0242ac1c0002row9_col4\" class=\"data row9 col4\" >-0.858158</td>\n",
              "            </tr>\n",
              "    </tbody></table>"
            ],
            "text/plain": [
              "<pandas.io.formats.style.Styler at 0x7f80c19d9d90>"
            ]
          },
          "metadata": {},
          "execution_count": 9
        }
      ]
    },
    {
      "cell_type": "code",
      "metadata": {
        "colab": {
          "base_uri": "https://localhost:8080/",
          "height": 243
        },
        "id": "gEH07OqseLrb",
        "outputId": "bfe46d58-5210-4ae6-b949-c19c2ec8f2ab"
      },
      "source": [
        "df.style.highlight_null(null_color='green')"
      ],
      "execution_count": 10,
      "outputs": [
        {
          "output_type": "execute_result",
          "data": {
            "text/html": [
              "<style  type=\"text/css\" >\n",
              "#T_5f18ccb2_11dc_11ec_a88b_0242ac1c0002row0_col2,#T_5f18ccb2_11dc_11ec_a88b_0242ac1c0002row3_col3{\n",
              "            background-color:  green;\n",
              "        }</style><table id=\"T_5f18ccb2_11dc_11ec_a88b_0242ac1c0002\" ><thead>    <tr>        <th class=\"blank level0\" ></th>        <th class=\"col_heading level0 col0\" >A</th>        <th class=\"col_heading level0 col1\" >B</th>        <th class=\"col_heading level0 col2\" >C</th>        <th class=\"col_heading level0 col3\" >D</th>        <th class=\"col_heading level0 col4\" >E</th>    </tr></thead><tbody>\n",
              "                <tr>\n",
              "                        <th id=\"T_5f18ccb2_11dc_11ec_a88b_0242ac1c0002level0_row0\" class=\"row_heading level0 row0\" >0</th>\n",
              "                        <td id=\"T_5f18ccb2_11dc_11ec_a88b_0242ac1c0002row0_col0\" class=\"data row0 col0\" >1.000000</td>\n",
              "                        <td id=\"T_5f18ccb2_11dc_11ec_a88b_0242ac1c0002row0_col1\" class=\"data row0 col1\" >0.106884</td>\n",
              "                        <td id=\"T_5f18ccb2_11dc_11ec_a88b_0242ac1c0002row0_col2\" class=\"data row0 col2\" >nan</td>\n",
              "                        <td id=\"T_5f18ccb2_11dc_11ec_a88b_0242ac1c0002row0_col3\" class=\"data row0 col3\" >0.956563</td>\n",
              "                        <td id=\"T_5f18ccb2_11dc_11ec_a88b_0242ac1c0002row0_col4\" class=\"data row0 col4\" >0.068411</td>\n",
              "            </tr>\n",
              "            <tr>\n",
              "                        <th id=\"T_5f18ccb2_11dc_11ec_a88b_0242ac1c0002level0_row1\" class=\"row_heading level0 row1\" >1</th>\n",
              "                        <td id=\"T_5f18ccb2_11dc_11ec_a88b_0242ac1c0002row1_col0\" class=\"data row1 col0\" >2.000000</td>\n",
              "                        <td id=\"T_5f18ccb2_11dc_11ec_a88b_0242ac1c0002row1_col1\" class=\"data row1 col1\" >1.068514</td>\n",
              "                        <td id=\"T_5f18ccb2_11dc_11ec_a88b_0242ac1c0002row1_col2\" class=\"data row1 col2\" >0.997183</td>\n",
              "                        <td id=\"T_5f18ccb2_11dc_11ec_a88b_0242ac1c0002row1_col3\" class=\"data row1 col3\" >-0.931548</td>\n",
              "                        <td id=\"T_5f18ccb2_11dc_11ec_a88b_0242ac1c0002row1_col4\" class=\"data row1 col4\" >0.730430</td>\n",
              "            </tr>\n",
              "            <tr>\n",
              "                        <th id=\"T_5f18ccb2_11dc_11ec_a88b_0242ac1c0002level0_row2\" class=\"row_heading level0 row2\" >2</th>\n",
              "                        <td id=\"T_5f18ccb2_11dc_11ec_a88b_0242ac1c0002row2_col0\" class=\"data row2 col0\" >3.000000</td>\n",
              "                        <td id=\"T_5f18ccb2_11dc_11ec_a88b_0242ac1c0002row2_col1\" class=\"data row2 col1\" >-0.171214</td>\n",
              "                        <td id=\"T_5f18ccb2_11dc_11ec_a88b_0242ac1c0002row2_col2\" class=\"data row2 col2\" >-1.288691</td>\n",
              "                        <td id=\"T_5f18ccb2_11dc_11ec_a88b_0242ac1c0002row2_col3\" class=\"data row2 col3\" >1.061436</td>\n",
              "                        <td id=\"T_5f18ccb2_11dc_11ec_a88b_0242ac1c0002row2_col4\" class=\"data row2 col4\" >-0.040501</td>\n",
              "            </tr>\n",
              "            <tr>\n",
              "                        <th id=\"T_5f18ccb2_11dc_11ec_a88b_0242ac1c0002level0_row3\" class=\"row_heading level0 row3\" >3</th>\n",
              "                        <td id=\"T_5f18ccb2_11dc_11ec_a88b_0242ac1c0002row3_col0\" class=\"data row3 col0\" >4.000000</td>\n",
              "                        <td id=\"T_5f18ccb2_11dc_11ec_a88b_0242ac1c0002row3_col1\" class=\"data row3 col1\" >-0.903721</td>\n",
              "                        <td id=\"T_5f18ccb2_11dc_11ec_a88b_0242ac1c0002row3_col2\" class=\"data row3 col2\" >-1.554133</td>\n",
              "                        <td id=\"T_5f18ccb2_11dc_11ec_a88b_0242ac1c0002row3_col3\" class=\"data row3 col3\" >nan</td>\n",
              "                        <td id=\"T_5f18ccb2_11dc_11ec_a88b_0242ac1c0002row3_col4\" class=\"data row3 col4\" >0.200526</td>\n",
              "            </tr>\n",
              "            <tr>\n",
              "                        <th id=\"T_5f18ccb2_11dc_11ec_a88b_0242ac1c0002level0_row4\" class=\"row_heading level0 row4\" >4</th>\n",
              "                        <td id=\"T_5f18ccb2_11dc_11ec_a88b_0242ac1c0002row4_col0\" class=\"data row4 col0\" >5.000000</td>\n",
              "                        <td id=\"T_5f18ccb2_11dc_11ec_a88b_0242ac1c0002row4_col1\" class=\"data row4 col1\" >-0.747329</td>\n",
              "                        <td id=\"T_5f18ccb2_11dc_11ec_a88b_0242ac1c0002row4_col2\" class=\"data row4 col2\" >1.068081</td>\n",
              "                        <td id=\"T_5f18ccb2_11dc_11ec_a88b_0242ac1c0002row4_col3\" class=\"data row4 col3\" >-0.277024</td>\n",
              "                        <td id=\"T_5f18ccb2_11dc_11ec_a88b_0242ac1c0002row4_col4\" class=\"data row4 col4\" >0.086557</td>\n",
              "            </tr>\n",
              "            <tr>\n",
              "                        <th id=\"T_5f18ccb2_11dc_11ec_a88b_0242ac1c0002level0_row5\" class=\"row_heading level0 row5\" >5</th>\n",
              "                        <td id=\"T_5f18ccb2_11dc_11ec_a88b_0242ac1c0002row5_col0\" class=\"data row5 col0\" >6.000000</td>\n",
              "                        <td id=\"T_5f18ccb2_11dc_11ec_a88b_0242ac1c0002row5_col1\" class=\"data row5 col1\" >-0.253221</td>\n",
              "                        <td id=\"T_5f18ccb2_11dc_11ec_a88b_0242ac1c0002row5_col2\" class=\"data row5 col2\" >-1.212041</td>\n",
              "                        <td id=\"T_5f18ccb2_11dc_11ec_a88b_0242ac1c0002row5_col3\" class=\"data row5 col3\" >0.277273</td>\n",
              "                        <td id=\"T_5f18ccb2_11dc_11ec_a88b_0242ac1c0002row5_col4\" class=\"data row5 col4\" >0.552219</td>\n",
              "            </tr>\n",
              "            <tr>\n",
              "                        <th id=\"T_5f18ccb2_11dc_11ec_a88b_0242ac1c0002level0_row6\" class=\"row_heading level0 row6\" >6</th>\n",
              "                        <td id=\"T_5f18ccb2_11dc_11ec_a88b_0242ac1c0002row6_col0\" class=\"data row6 col0\" >7.000000</td>\n",
              "                        <td id=\"T_5f18ccb2_11dc_11ec_a88b_0242ac1c0002row6_col1\" class=\"data row6 col1\" >-0.467743</td>\n",
              "                        <td id=\"T_5f18ccb2_11dc_11ec_a88b_0242ac1c0002row6_col2\" class=\"data row6 col2\" >-1.427493</td>\n",
              "                        <td id=\"T_5f18ccb2_11dc_11ec_a88b_0242ac1c0002row6_col3\" class=\"data row6 col3\" >0.885805</td>\n",
              "                        <td id=\"T_5f18ccb2_11dc_11ec_a88b_0242ac1c0002row6_col4\" class=\"data row6 col4\" >2.360634</td>\n",
              "            </tr>\n",
              "            <tr>\n",
              "                        <th id=\"T_5f18ccb2_11dc_11ec_a88b_0242ac1c0002level0_row7\" class=\"row_heading level0 row7\" >7</th>\n",
              "                        <td id=\"T_5f18ccb2_11dc_11ec_a88b_0242ac1c0002row7_col0\" class=\"data row7 col0\" >8.000000</td>\n",
              "                        <td id=\"T_5f18ccb2_11dc_11ec_a88b_0242ac1c0002row7_col1\" class=\"data row7 col1\" >-1.522006</td>\n",
              "                        <td id=\"T_5f18ccb2_11dc_11ec_a88b_0242ac1c0002row7_col2\" class=\"data row7 col2\" >-0.215945</td>\n",
              "                        <td id=\"T_5f18ccb2_11dc_11ec_a88b_0242ac1c0002row7_col3\" class=\"data row7 col3\" >0.190327</td>\n",
              "                        <td id=\"T_5f18ccb2_11dc_11ec_a88b_0242ac1c0002row7_col4\" class=\"data row7 col4\" >0.722256</td>\n",
              "            </tr>\n",
              "            <tr>\n",
              "                        <th id=\"T_5f18ccb2_11dc_11ec_a88b_0242ac1c0002level0_row8\" class=\"row_heading level0 row8\" >8</th>\n",
              "                        <td id=\"T_5f18ccb2_11dc_11ec_a88b_0242ac1c0002row8_col0\" class=\"data row8 col0\" >9.000000</td>\n",
              "                        <td id=\"T_5f18ccb2_11dc_11ec_a88b_0242ac1c0002row8_col1\" class=\"data row8 col1\" >-0.870716</td>\n",
              "                        <td id=\"T_5f18ccb2_11dc_11ec_a88b_0242ac1c0002row8_col2\" class=\"data row8 col2\" >0.101749</td>\n",
              "                        <td id=\"T_5f18ccb2_11dc_11ec_a88b_0242ac1c0002row8_col3\" class=\"data row8 col3\" >0.555358</td>\n",
              "                        <td id=\"T_5f18ccb2_11dc_11ec_a88b_0242ac1c0002row8_col4\" class=\"data row8 col4\" >0.962261</td>\n",
              "            </tr>\n",
              "            <tr>\n",
              "                        <th id=\"T_5f18ccb2_11dc_11ec_a88b_0242ac1c0002level0_row9\" class=\"row_heading level0 row9\" >9</th>\n",
              "                        <td id=\"T_5f18ccb2_11dc_11ec_a88b_0242ac1c0002row9_col0\" class=\"data row9 col0\" >10.000000</td>\n",
              "                        <td id=\"T_5f18ccb2_11dc_11ec_a88b_0242ac1c0002row9_col1\" class=\"data row9 col1\" >1.433499</td>\n",
              "                        <td id=\"T_5f18ccb2_11dc_11ec_a88b_0242ac1c0002row9_col2\" class=\"data row9 col2\" >-0.701818</td>\n",
              "                        <td id=\"T_5f18ccb2_11dc_11ec_a88b_0242ac1c0002row9_col3\" class=\"data row9 col3\" >-0.856952</td>\n",
              "                        <td id=\"T_5f18ccb2_11dc_11ec_a88b_0242ac1c0002row9_col4\" class=\"data row9 col4\" >-0.858158</td>\n",
              "            </tr>\n",
              "    </tbody></table>"
            ],
            "text/plain": [
              "<pandas.io.formats.style.Styler at 0x7f80c1c323d0>"
            ]
          },
          "metadata": {},
          "execution_count": 10
        }
      ]
    },
    {
      "cell_type": "markdown",
      "metadata": {
        "id": "9wXXgtxL7Sk2"
      },
      "source": [
        ""
      ]
    },
    {
      "cell_type": "code",
      "metadata": {
        "colab": {
          "base_uri": "https://localhost:8080/"
        },
        "id": "hUoIEcnteSIU",
        "outputId": "a3e6734b-908c-4d34-84e3-45b6dcb67ce9"
      },
      "source": [
        "def outname(name):\n",
        "  return \"Name: \"+name\n",
        "\n",
        "def outage(age):\n",
        "  return \"Age: \"+age\n",
        "\n",
        "print(outname('Jmaes Bond'))\n",
        "print(outname.__name__)"
      ],
      "execution_count": 3,
      "outputs": [
        {
          "output_type": "stream",
          "name": "stdout",
          "text": [
            "Name: Jmaes Bond\n",
            "outname\n"
          ]
        }
      ]
    },
    {
      "cell_type": "code",
      "metadata": {
        "colab": {
          "base_uri": "https://localhost:8080/"
        },
        "id": "aMsVv8yxHmkP",
        "outputId": "b505e21b-4b8e-4b6d-cbe3-534297087166"
      },
      "source": [
        "def para(func):\n",
        "  def wrap(*args, **kwargs):\n",
        "    return \"<p>\"+str(func(*args, **kwargs))+\"</p>\"\n",
        "  return wrap\n",
        "\n",
        "@para\n",
        "def outname(name):\n",
        "  return 'Name: ' + name\n",
        "\n",
        "@para\n",
        "def outage(age):\n",
        "  return 'Age: ' + str(age)\n",
        "\n",
        "print(outname('James Bond'))\n",
        "print(outname.__name__)\n",
        "print(outage(29))\n",
        "print(outage.__name__)"
      ],
      "execution_count": 4,
      "outputs": [
        {
          "output_type": "stream",
          "name": "stdout",
          "text": [
            "<p>Name: James Bond</p>\n",
            "wrap\n",
            "<p>Age: 29</p>\n",
            "wrap\n"
          ]
        }
      ]
    },
    {
      "cell_type": "markdown",
      "metadata": {
        "id": "t19JbSJsxcNU"
      },
      "source": [
        "# Linear Regression 실습"
      ]
    },
    {
      "cell_type": "code",
      "metadata": {
        "id": "L0DPWG5LpUdw"
      },
      "source": [
        "import numpy as np\n",
        "import pandas as pd\n",
        "import matplotlib.pyplot as plt\n",
        "import seaborn as sns\n",
        "from sklearn.metrics import r2_score, mean_squared_error"
      ],
      "execution_count": 2,
      "outputs": []
    },
    {
      "cell_type": "code",
      "metadata": {
        "colab": {
          "resources": {
            "http://localhost:8080/nbextensions/google.colab/files.js": {
              "data": "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",
              "ok": true,
              "headers": [
                [
                  "content-type",
                  "application/javascript"
                ]
              ],
              "status": 200,
              "status_text": ""
            }
          },
          "base_uri": "https://localhost:8080/",
          "height": 82
        },
        "id": "rVPgBgXfJYlG",
        "outputId": "c291f639-79e6-458a-d03b-992ebdc64e5f"
      },
      "source": [
        "from google.colab import files\n",
        "uploaded = files.upload()\n",
        "filename = list(uploaded.keys())[0]"
      ],
      "execution_count": 22,
      "outputs": [
        {
          "output_type": "display_data",
          "data": {
            "text/html": [
              "\n",
              "     <input type=\"file\" id=\"files-5ed4b319-61c6-4ce7-af05-5078a94dc49d\" name=\"files[]\" multiple disabled\n",
              "        style=\"border:none\" />\n",
              "     <output id=\"result-5ed4b319-61c6-4ce7-af05-5078a94dc49d\">\n",
              "      Upload widget is only available when the cell has been executed in the\n",
              "      current browser session. Please rerun this cell to enable.\n",
              "      </output>\n",
              "      <script src=\"/nbextensions/google.colab/files.js\"></script> "
            ],
            "text/plain": [
              "<IPython.core.display.HTML object>"
            ]
          },
          "metadata": {}
        },
        {
          "output_type": "stream",
          "name": "stdout",
          "text": [
            "Saving slr121.csv to slr121.csv\n"
          ]
        }
      ]
    },
    {
      "cell_type": "code",
      "metadata": {
        "id": "UjIXvI4lqJRp"
      },
      "source": [
        "# ReadData\n",
        "\n",
        "df = pd.read_csv('slr121.csv')\n",
        "x = df['AnnualFranchiseFee'].values\n",
        "y = df['StartUpCost'].values\n",
        "\n",
        "# mean\n",
        "def get_mean(arr):\n",
        "  return np.sum(arr)/len(arr)\n",
        "\n",
        "# variance\n",
        "def get_variance(arr, mean):\n",
        "  return (np.sum((arr-mean)**2))/len(arr)\n",
        "\n",
        "# covariance\n",
        "def get_covariance(arr_x, mean_x, arr_y, mean_y):\n",
        "  final_arr = (arr_x - mean_x)*(arr_y - mean_y)\n",
        "  return (np.sum(final_arr))/len(final_arr)"
      ],
      "execution_count": 42,
      "outputs": []
    },
    {
      "cell_type": "code",
      "metadata": {
        "colab": {
          "base_uri": "https://localhost:8080/"
        },
        "id": "WpLfSb7-qwXT",
        "outputId": "3b5a300c-dcdd-4fdb-a2d2-16701f924752"
      },
      "source": [
        "# find coeff\n",
        "def get_coefficients(x, y):\n",
        "  x_mean = get_mean(x)\n",
        "  y_mean = get_mean(y)\n",
        "  m = get_covariance(x, x_mean, y, y_mean)/get_variance(x, x_mean)\n",
        "  c = y_mean - x_mean*m\n",
        "  return m, c\n",
        "\n",
        "# Regression Function\n",
        "def linear_regression(x_train, y_train, x_test, y_test):\n",
        "  prediction = []\n",
        "  m, c = get_coefficients(x_train, y_train)\n",
        "  for x in x_test:\n",
        "    y = m*x + c\n",
        "    prediction.append(y)\n",
        "\n",
        "  mse = mean_squared_error(prediction, y_test)\n",
        "  print(\"The MSE score of the model is: \", mse)\n",
        "  return prediction\n",
        "\n",
        "# There are 36 samples out of which 30 are for training and 6 are for the testing\n",
        "linear_regression(x[:30], y[:30], x[:30], y[:30])"
      ],
      "execution_count": 43,
      "outputs": [
        {
          "output_type": "stream",
          "name": "stdout",
          "text": [
            "The MSE score of the model is:  8125.422226494004\n"
          ]
        },
        {
          "output_type": "execute_result",
          "data": {
            "text/plain": [
              "[1112.8573240388087,\n",
              " 1237.641407005659,\n",
              " 1199.7070457837365,\n",
              " 1182.7364105002448,\n",
              " 1212.684590412289,\n",
              " 1262.598223599029,\n",
              " 1362.4254899725095,\n",
              " 1262.598223599029,\n",
              " 1212.684590412289,\n",
              " 1462.2527563459898,\n",
              " 1387.3823065658796,\n",
              " 1487.20957293936,\n",
              " 1287.5550401923992,\n",
              " 1312.5118567857694,\n",
              " 1287.5550401923992,\n",
              " 1412.3391231592498,\n",
              " 1372.4082166098576,\n",
              " 1442.2873030712938,\n",
              " 1437.29593975262,\n",
              " 1312.5118567857694,\n",
              " 1337.4686733791393,\n",
              " 1202.7018637749409,\n",
              " 1187.7277738189189,\n",
              " 1192.719137137593,\n",
              " 1192.719137137593,\n",
              " 1292.5464035110733,\n",
              " 1337.4686733791393,\n",
              " 1287.5550401923992,\n",
              " 1362.4254899725095,\n",
              " 1362.4254899725095]"
            ]
          },
          "metadata": {},
          "execution_count": 43
        }
      ]
    },
    {
      "cell_type": "code",
      "metadata": {
        "colab": {
          "base_uri": "https://localhost:8080/"
        },
        "id": "vRZH86eQtHKd",
        "outputId": "0a5881f5-14d0-4719-aa81-f9a39d4f62f9"
      },
      "source": [
        "from sklearn.metrics import r2_score, mean_squared_error\n",
        "from sklearn.linear_model import LinearRegression\n",
        "\n",
        "df = pd.read_csv('slr121.csv')\n",
        "x = df['AnnualFranchiseFee'].values\n",
        "y = df['StartUpCost'].values\n",
        "\n",
        "reg = LinearRegression()\n",
        "reg.fit(x[:30].reshape(-1, 1), y[:30])\n",
        "prediction = reg.predict(x[30:].reshape(-1, 1))\n",
        "mse = mean_squared_error(prediction, y[30:])\n",
        "\n",
        "print(\"The MSE score of the model is: \", mse)"
      ],
      "execution_count": 44,
      "outputs": [
        {
          "output_type": "stream",
          "name": "stdout",
          "text": [
            "The MSE score of the model is:  97482.15509744169\n"
          ]
        }
      ]
    },
    {
      "cell_type": "code",
      "metadata": {
        "colab": {
          "base_uri": "https://localhost:8080/",
          "height": 253
        },
        "id": "JuNckxk5wJNQ",
        "outputId": "bcaf1d94-aee8-4e49-8ab9-1b5d7397ef16"
      },
      "source": [
        "prediction = reg.predict(np.array([i for i in range(650, 1400)]).reshape(-1, 1))\n",
        "\n",
        "fig = plt.figure(figsize=(20, 7))\n",
        "plt.subplot(1,2,1)\n",
        "sns.scatterplot(x=x, y=y)\n",
        "plt.xlabel('X')\n",
        "plt.ylabel('Y')\n",
        "plt.title('Scatter Plot between X and Y')\n",
        "\n",
        "plt.subplot(1,2,2)\n",
        "sns.scatterplot(x=x, y=y, color = 'green')\n",
        "sns.lineplot(x = [i for i in range(650, 1400)], y = prediction, color = 'red')\n",
        "plt.xlabel('X')\n",
        "plt.ylabel('Y')\n",
        "plt.title('Regression Plot')\n",
        "plt.show()"
      ],
      "execution_count": 46,
      "outputs": [
        {
          "output_type": "display_data",
          "data": {
            "image/png": "[encoded data removed]",
            "text/plain": [
              "<Figure size 1440x504 with 2 Axes>"
            ]
          },
          "metadata": {
            "needs_background": "light"
          }
        }
      ]
    },
    {
      "cell_type": "code",
      "metadata": {
        "id": "EkrrIrdMw6pV"
      },
      "source": [
        ""
      ],
      "execution_count": null,
      "outputs": []
    }
  ]
}