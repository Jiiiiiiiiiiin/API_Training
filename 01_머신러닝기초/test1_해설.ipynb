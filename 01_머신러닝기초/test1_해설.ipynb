{
  "nbformat": 4,
  "nbformat_minor": 0,
  "metadata": {
    "colab": {
      "name": "6회차_김진영_테스트해설.ipynb",
      "provenance": [],
      "collapsed_sections": []
    },
    "kernelspec": {
      "name": "python3",
      "display_name": "Python 3"
    },
    "language_info": {
      "name": "python"
    }
  },
  "cells": [
    {
      "cell_type": "code",
      "metadata": {
        "id": "9Co9eJyVmDHM"
      },
      "source": [
        "import matplotlib.pyplot as plt\n",
        "import numpy as np\n",
        "import pandas as pd\n",
        "from sklearn.neighbors import KNeighborsClassifier\n",
        "from sklearn.datasets import load_digits\n",
        "from sklearn.model_selection import train_test_split\n",
        "from sklearn.metrics import classification_report, confusion_matrix\n",
        "from sklearn import metrics\n",
        "%matplotlib inline"
      ],
      "execution_count": 35,
      "outputs": []
    },
    {
      "cell_type": "code",
      "metadata": {
        "id": "J9xHsQ6xmvcE"
      },
      "source": [
        "digits = load_digits()"
      ],
      "execution_count": 15,
      "outputs": []
    },
    {
      "cell_type": "code",
      "metadata": {
        "colab": {
          "base_uri": "https://localhost:8080/"
        },
        "id": "EFR0ZKTwlmU7",
        "outputId": "43ebe4eb-7f74-48d0-d0a3-5deb2a710923"
      },
      "source": [
        "X, y = load_digits(return_X_y=True)\n",
        "print(len(X))\n",
        "X_train, X_test, y_train, y_test = train_test_split(X,\n",
        "                                                    y,\n",
        "                                                    test_size=0.1)"
      ],
      "execution_count": 46,
      "outputs": [
        {
          "output_type": "stream",
          "name": "stdout",
          "text": [
            "1797\n"
          ]
        }
      ]
    },
    {
      "cell_type": "code",
      "metadata": {
        "id": "gVuay3a5qxW2"
      },
      "source": [
        "neigh_10 = KNeighborsClassifier(n_neighbors = 10, weights = 'distance')\n",
        "neigh_10_train = neigh_10.fit(X_train, y_train)"
      ],
      "execution_count": 47,
      "outputs": []
    },
    {
      "cell_type": "code",
      "metadata": {
        "id": "tkWKbre1uvCg"
      },
      "source": [
        "y_pred = neigh_10.predict(X_test)"
      ],
      "execution_count": 48,
      "outputs": []
    },
    {
      "cell_type": "code",
      "metadata": {
        "colab": {
          "base_uri": "https://localhost:8080/"
        },
        "id": "u279SB9CtvYI",
        "outputId": "1c6a5577-b91e-4be6-b211-d4323e85bb7f"
      },
      "source": [
        "# Accuracy\n",
        "print(metrics.accuracy_score(y_test, y_pred))"
      ],
      "execution_count": 49,
      "outputs": [
        {
          "output_type": "stream",
          "name": "stdout",
          "text": [
            "1.0\n"
          ]
        }
      ]
    },
    {
      "cell_type": "code",
      "metadata": {
        "colab": {
          "base_uri": "https://localhost:8080/"
        },
        "id": "H8fNBNttrY6b",
        "outputId": "252defbf-40d3-4ee9-fc5b-782e32d66164"
      },
      "source": [
        "# Classification report\n",
        "print(classification_report(y_test, y_pred))"
      ],
      "execution_count": 50,
      "outputs": [
        {
          "output_type": "stream",
          "name": "stdout",
          "text": [
            "              precision    recall  f1-score   support\n",
            "\n",
            "           0       1.00      1.00      1.00        17\n",
            "           1       1.00      1.00      1.00        19\n",
            "           2       1.00      1.00      1.00        25\n",
            "           3       1.00      1.00      1.00        21\n",
            "           4       1.00      1.00      1.00        15\n",
            "           5       1.00      1.00      1.00        24\n",
            "           6       1.00      1.00      1.00        12\n",
            "           7       1.00      1.00      1.00        15\n",
            "           8       1.00      1.00      1.00        15\n",
            "           9       1.00      1.00      1.00        17\n",
            "\n",
            "    accuracy                           1.00       180\n",
            "   macro avg       1.00      1.00      1.00       180\n",
            "weighted avg       1.00      1.00      1.00       180\n",
            "\n"
          ]
        }
      ]
    },
    {
      "cell_type": "code",
      "metadata": {
        "colab": {
          "base_uri": "https://localhost:8080/"
        },
        "id": "TawWDfnIrkcB",
        "outputId": "21462e6f-4bd6-4c65-b7a2-2b6a9cd8e8ee"
      },
      "source": [
        "# Confusion Matrix\n",
        "print(confusion_matrix(y_test, y_pred))"
      ],
      "execution_count": 51,
      "outputs": [
        {
          "output_type": "stream",
          "name": "stdout",
          "text": [
            "[[17  0  0  0  0  0  0  0  0  0]\n",
            " [ 0 19  0  0  0  0  0  0  0  0]\n",
            " [ 0  0 25  0  0  0  0  0  0  0]\n",
            " [ 0  0  0 21  0  0  0  0  0  0]\n",
            " [ 0  0  0  0 15  0  0  0  0  0]\n",
            " [ 0  0  0  0  0 24  0  0  0  0]\n",
            " [ 0  0  0  0  0  0 12  0  0  0]\n",
            " [ 0  0  0  0  0  0  0 15  0  0]\n",
            " [ 0  0  0  0  0  0  0  0 15  0]\n",
            " [ 0  0  0  0  0  0  0  0  0 17]]\n"
          ]
        }
      ]
    },
    {
      "cell_type": "code",
      "metadata": {
        "colab": {
          "base_uri": "https://localhost:8080/"
        },
        "id": "Bq8s4xV4vakw",
        "outputId": "1ff5bfd8-95b7-4b2d-e862-e2ff02778d4c"
      },
      "source": [
        "# test_size를 0.33 으로 설정하였을 경우\n",
        "\n",
        "\n",
        "X, y = load_digits(return_X_y=True)\n",
        "print(len(X))\n",
        "X_train, X_test, y_train, y_test = train_test_split(X,\n",
        "                                                    y,\n",
        "                                                    test_size=0.33)\n",
        "neigh_10 = KNeighborsClassifier(n_neighbors = 10, weights = 'distance')\n",
        "neigh_10_train = neigh_10.fit(X_train, y_train)\n",
        "y_pred = neigh_10.predict(X_test)"
      ],
      "execution_count": 52,
      "outputs": [
        {
          "output_type": "stream",
          "name": "stdout",
          "text": [
            "1797\n"
          ]
        }
      ]
    },
    {
      "cell_type": "code",
      "metadata": {
        "colab": {
          "base_uri": "https://localhost:8080/"
        },
        "id": "DoDpGQVIvkR5",
        "outputId": "3b40fb8a-fd1b-4616-d2fd-0f6407ec0bf2"
      },
      "source": [
        "# Accuracy\n",
        "print(metrics.accuracy_score(y_test, y_pred))"
      ],
      "execution_count": 53,
      "outputs": [
        {
          "output_type": "stream",
          "name": "stdout",
          "text": [
            "0.9848484848484849\n"
          ]
        }
      ]
    },
    {
      "cell_type": "code",
      "metadata": {
        "colab": {
          "base_uri": "https://localhost:8080/"
        },
        "id": "jTvc3D6qvlgH",
        "outputId": "57078f86-6d82-4d46-dfa5-1b516e2d4316"
      },
      "source": [
        "# Classification report\n",
        "print(classification_report(y_test, y_pred))"
      ],
      "execution_count": 54,
      "outputs": [
        {
          "output_type": "stream",
          "name": "stdout",
          "text": [
            "              precision    recall  f1-score   support\n",
            "\n",
            "           0       1.00      1.00      1.00        57\n",
            "           1       0.97      1.00      0.99        66\n",
            "           2       1.00      0.98      0.99        58\n",
            "           3       1.00      1.00      1.00        67\n",
            "           4       1.00      1.00      1.00        54\n",
            "           5       0.98      0.93      0.96        59\n",
            "           6       0.98      1.00      0.99        48\n",
            "           7       0.98      1.00      0.99        60\n",
            "           8       0.98      0.97      0.98        62\n",
            "           9       0.95      0.97      0.96        63\n",
            "\n",
            "    accuracy                           0.98       594\n",
            "   macro avg       0.99      0.99      0.99       594\n",
            "weighted avg       0.98      0.98      0.98       594\n",
            "\n"
          ]
        }
      ]
    },
    {
      "cell_type": "code",
      "metadata": {
        "colab": {
          "base_uri": "https://localhost:8080/"
        },
        "id": "Y4DZVTJ9vmoy",
        "outputId": "19ec69f4-38c5-4499-bed1-36794fc4598f"
      },
      "source": [
        "# Confusion Matrix\n",
        "print(confusion_matrix(y_test, y_pred))"
      ],
      "execution_count": 55,
      "outputs": [
        {
          "output_type": "stream",
          "name": "stdout",
          "text": [
            "[[57  0  0  0  0  0  0  0  0  0]\n",
            " [ 0 66  0  0  0  0  0  0  0  0]\n",
            " [ 0  0 57  0  0  0  0  1  0  0]\n",
            " [ 0  0  0 67  0  0  0  0  0  0]\n",
            " [ 0  0  0  0 54  0  0  0  0  0]\n",
            " [ 0  0  0  0  0 55  1  0  0  3]\n",
            " [ 0  0  0  0  0  0 48  0  0  0]\n",
            " [ 0  0  0  0  0  0  0 60  0  0]\n",
            " [ 0  2  0  0  0  0  0  0 60  0]\n",
            " [ 0  0  0  0  0  1  0  0  1 61]]\n"
          ]
        }
      ]
    },
    {
      "cell_type": "markdown",
      "metadata": {
        "id": "L7i2Pn8OyFGf"
      },
      "source": [
        "강사님 해설"
      ]
    },
    {
      "cell_type": "code",
      "metadata": {
        "id": "KYqOxDhQyMyz"
      },
      "source": [
        "d = load_digits()"
      ],
      "execution_count": 57,
      "outputs": []
    },
    {
      "cell_type": "code",
      "metadata": {
        "colab": {
          "base_uri": "https://localhost:8080/"
        },
        "id": "7Mq21-o0yGFA",
        "outputId": "3c237440-79d6-4185-edbe-5dd73ebaba8f"
      },
      "source": [
        "d"
      ],
      "execution_count": 58,
      "outputs": [
        {
          "output_type": "execute_result",
          "data": {
            "text/plain": [
              "{'DESCR': \".. _digits_dataset:\\n\\nOptical recognition of handwritten digits dataset\\n--------------------------------------------------\\n\\n**Data Set Characteristics:**\\n\\n    :Number of Instances: 5620\\n    :Number of Attributes: 64\\n    :Attribute Information: 8x8 image of integer pixels in the range 0..16.\\n    :Missing Attribute Values: None\\n    :Creator: E. Alpaydin (alpaydin '@' boun.edu.tr)\\n    :Date: July; 1998\\n\\nThis is a copy of the test set of the UCI ML hand-written digits datasets\\nhttps://archive.ics.uci.edu/ml/datasets/Optical+Recognition+of+Handwritten+Digits\\n\\nThe data set contains images of hand-written digits: 10 classes where\\neach class refers to a digit.\\n\\nPreprocessing programs made available by NIST were used to extract\\nnormalized bitmaps of handwritten digits from a preprinted form. From a\\ntotal of 43 people, 30 contributed to the training set and different 13\\nto the test set. 32x32 bitmaps are divided into nonoverlapping blocks of\\n4x4 and the number of on pixels are counted in each block. This generates\\nan input matrix of 8x8 where each element is an integer in the range\\n0..16. This reduces dimensionality and gives invariance to small\\ndistortions.\\n\\nFor info on NIST preprocessing routines, see M. D. Garris, J. L. Blue, G.\\nT. Candela, D. L. Dimmick, J. Geist, P. J. Grother, S. A. Janet, and C.\\nL. Wilson, NIST Form-Based Handprint Recognition System, NISTIR 5469,\\n1994.\\n\\n.. topic:: References\\n\\n  - C. Kaynak (1995) Methods of Combining Multiple Classifiers and Their\\n    Applications to Handwritten Digit Recognition, MSc Thesis, Institute of\\n    Graduate Studies in Science and Engineering, Bogazici University.\\n  - E. Alpaydin, C. Kaynak (1998) Cascading Classifiers, Kybernetika.\\n  - Ken Tang and Ponnuthurai N. Suganthan and Xi Yao and A. Kai Qin.\\n    Linear dimensionalityreduction using relevance weighted LDA. School of\\n    Electrical and Electronic Engineering Nanyang Technological University.\\n    2005.\\n  - Claudio Gentile. A New Approximate Maximal Margin Classification\\n    Algorithm. NIPS. 2000.\",\n",
              " 'data': array([[ 0.,  0.,  5., ...,  0.,  0.,  0.],\n",
              "        [ 0.,  0.,  0., ..., 10.,  0.,  0.],\n",
              "        [ 0.,  0.,  0., ..., 16.,  9.,  0.],\n",
              "        ...,\n",
              "        [ 0.,  0.,  1., ...,  6.,  0.,  0.],\n",
              "        [ 0.,  0.,  2., ..., 12.,  0.,  0.],\n",
              "        [ 0.,  0., 10., ..., 12.,  1.,  0.]]),\n",
              " 'images': array([[[ 0.,  0.,  5., ...,  1.,  0.,  0.],\n",
              "         [ 0.,  0., 13., ..., 15.,  5.,  0.],\n",
              "         [ 0.,  3., 15., ..., 11.,  8.,  0.],\n",
              "         ...,\n",
              "         [ 0.,  4., 11., ..., 12.,  7.,  0.],\n",
              "         [ 0.,  2., 14., ..., 12.,  0.,  0.],\n",
              "         [ 0.,  0.,  6., ...,  0.,  0.,  0.]],\n",
              " \n",
              "        [[ 0.,  0.,  0., ...,  5.,  0.,  0.],\n",
              "         [ 0.,  0.,  0., ...,  9.,  0.,  0.],\n",
              "         [ 0.,  0.,  3., ...,  6.,  0.,  0.],\n",
              "         ...,\n",
              "         [ 0.,  0.,  1., ...,  6.,  0.,  0.],\n",
              "         [ 0.,  0.,  1., ...,  6.,  0.,  0.],\n",
              "         [ 0.,  0.,  0., ..., 10.,  0.,  0.]],\n",
              " \n",
              "        [[ 0.,  0.,  0., ..., 12.,  0.,  0.],\n",
              "         [ 0.,  0.,  3., ..., 14.,  0.,  0.],\n",
              "         [ 0.,  0.,  8., ..., 16.,  0.,  0.],\n",
              "         ...,\n",
              "         [ 0.,  9., 16., ...,  0.,  0.,  0.],\n",
              "         [ 0.,  3., 13., ..., 11.,  5.,  0.],\n",
              "         [ 0.,  0.,  0., ..., 16.,  9.,  0.]],\n",
              " \n",
              "        ...,\n",
              " \n",
              "        [[ 0.,  0.,  1., ...,  1.,  0.,  0.],\n",
              "         [ 0.,  0., 13., ...,  2.,  1.,  0.],\n",
              "         [ 0.,  0., 16., ..., 16.,  5.,  0.],\n",
              "         ...,\n",
              "         [ 0.,  0., 16., ..., 15.,  0.,  0.],\n",
              "         [ 0.,  0., 15., ..., 16.,  0.,  0.],\n",
              "         [ 0.,  0.,  2., ...,  6.,  0.,  0.]],\n",
              " \n",
              "        [[ 0.,  0.,  2., ...,  0.,  0.,  0.],\n",
              "         [ 0.,  0., 14., ..., 15.,  1.,  0.],\n",
              "         [ 0.,  4., 16., ..., 16.,  7.,  0.],\n",
              "         ...,\n",
              "         [ 0.,  0.,  0., ..., 16.,  2.,  0.],\n",
              "         [ 0.,  0.,  4., ..., 16.,  2.,  0.],\n",
              "         [ 0.,  0.,  5., ..., 12.,  0.,  0.]],\n",
              " \n",
              "        [[ 0.,  0., 10., ...,  1.,  0.,  0.],\n",
              "         [ 0.,  2., 16., ...,  1.,  0.,  0.],\n",
              "         [ 0.,  0., 15., ..., 15.,  0.,  0.],\n",
              "         ...,\n",
              "         [ 0.,  4., 16., ..., 16.,  6.,  0.],\n",
              "         [ 0.,  8., 16., ..., 16.,  8.,  0.],\n",
              "         [ 0.,  1.,  8., ..., 12.,  1.,  0.]]]),\n",
              " 'target': array([0, 1, 2, ..., 8, 9, 8]),\n",
              " 'target_names': array([0, 1, 2, 3, 4, 5, 6, 7, 8, 9])}"
            ]
          },
          "metadata": {},
          "execution_count": 58
        }
      ]
    },
    {
      "cell_type": "code",
      "metadata": {
        "colab": {
          "base_uri": "https://localhost:8080/"
        },
        "id": "gJywoLpKyLFa",
        "outputId": "f2b3d234-65f6-401d-e050-bdf6b398ac54"
      },
      "source": [
        "# target이 label! 1797개의 이미지 8by8\n",
        "\n",
        "d.images.shape"
      ],
      "execution_count": 59,
      "outputs": [
        {
          "output_type": "execute_result",
          "data": {
            "text/plain": [
              "(1797, 8, 8)"
            ]
          },
          "metadata": {},
          "execution_count": 59
        }
      ]
    },
    {
      "cell_type": "code",
      "metadata": {
        "id": "zPLH-aKOyYp9"
      },
      "source": [
        "# train_test 위해 split\n",
        "\n",
        "(trainData, testData, trainLabels, testLabels) = train_test_split(np.array(d.data), d.target, test_size=0.25, random_state=42)"
      ],
      "execution_count": 60,
      "outputs": []
    },
    {
      "cell_type": "code",
      "metadata": {
        "colab": {
          "base_uri": "https://localhost:8080/"
        },
        "id": "1aPc922Ky0S6",
        "outputId": "8b1017cf-49a7-4c74-960f-2ef63e18949b"
      },
      "source": [
        "trainData.shape"
      ],
      "execution_count": 61,
      "outputs": [
        {
          "output_type": "execute_result",
          "data": {
            "text/plain": [
              "(1347, 64)"
            ]
          },
          "metadata": {},
          "execution_count": 61
        }
      ]
    },
    {
      "cell_type": "code",
      "metadata": {
        "colab": {
          "base_uri": "https://localhost:8080/"
        },
        "id": "YATgttnmy9gX",
        "outputId": "0326e614-d02a-4089-b969-8844f9f48338"
      },
      "source": [
        "model = KNeighborsClassifier(10)\n",
        "model.fit(trainData, trainLabels)"
      ],
      "execution_count": 63,
      "outputs": [
        {
          "output_type": "execute_result",
          "data": {
            "text/plain": [
              "KNeighborsClassifier(algorithm='auto', leaf_size=30, metric='minkowski',\n",
              "                     metric_params=None, n_jobs=None, n_neighbors=10, p=2,\n",
              "                     weights='uniform')"
            ]
          },
          "metadata": {},
          "execution_count": 63
        }
      ]
    },
    {
      "cell_type": "code",
      "metadata": {
        "id": "9Wf7TW1Yzds8"
      },
      "source": [
        "yhat = model.predict(testData)"
      ],
      "execution_count": 64,
      "outputs": []
    },
    {
      "cell_type": "code",
      "metadata": {
        "colab": {
          "base_uri": "https://localhost:8080/"
        },
        "id": "8TIBKHCZzhbB",
        "outputId": "baecc3f3-2555-4928-cdd7-68344e8ffa6e"
      },
      "source": [
        "confusion_matrix(yhat, testLabels)"
      ],
      "execution_count": 65,
      "outputs": [
        {
          "output_type": "execute_result",
          "data": {
            "text/plain": [
              "array([[43,  0,  0,  0,  0,  0,  0,  0,  0,  0],\n",
              "       [ 0, 37,  0,  0,  0,  0,  0,  0,  2,  0],\n",
              "       [ 0,  0, 38,  0,  0,  0,  0,  0,  0,  0],\n",
              "       [ 0,  0,  0, 46,  0,  0,  0,  0,  0,  0],\n",
              "       [ 0,  0,  0,  0, 55,  0,  0,  0,  0,  1],\n",
              "       [ 0,  0,  0,  0,  0, 57,  0,  0,  0,  1],\n",
              "       [ 0,  0,  0,  0,  0,  1, 45,  0,  0,  0],\n",
              "       [ 0,  0,  0,  0,  0,  0,  0, 41,  0,  0],\n",
              "       [ 0,  0,  0,  0,  0,  0,  0,  0, 36,  0],\n",
              "       [ 0,  0,  0,  0,  0,  1,  0,  0,  0, 46]])"
            ]
          },
          "metadata": {},
          "execution_count": 65
        }
      ]
    },
    {
      "cell_type": "code",
      "metadata": {
        "id": "EqAEfFP7zkYR"
      },
      "source": [
        ""
      ],
      "execution_count": null,
      "outputs": []
    }
  ]
}