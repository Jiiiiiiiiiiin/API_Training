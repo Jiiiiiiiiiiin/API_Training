{
  "nbformat": 4,
  "nbformat_minor": 0,
  "metadata": {
    "colab": {
      "name": "05_SVM.ipynb",
      "provenance": [],
      "collapsed_sections": []
    },
    "kernelspec": {
      "name": "python3",
      "display_name": "Python 3"
    },
    "language_info": {
      "name": "python"
    }
  },
  "cells": [
    {
      "cell_type": "markdown",
      "metadata": {
        "id": "PpPK1IKHEcHN"
      },
      "source": [
        ""
      ]
    },
    {
      "cell_type": "code",
      "metadata": {
        "id": "GDohOCDxB6mV"
      },
      "source": [
        "import numpy as np\n",
        "from sklearn import svm"
      ],
      "execution_count": 1,
      "outputs": []
    },
    {
      "cell_type": "markdown",
      "metadata": {
        "id": "_gZTAbGBEifB"
      },
      "source": [
        "선형 SVM"
      ]
    },
    {
      "cell_type": "code",
      "metadata": {
        "id": "z_Jkl8edB-pQ"
      },
      "source": [
        "X = np.array([ [0,0], [1,1]])\n",
        "y = [0, 1]"
      ],
      "execution_count": 2,
      "outputs": []
    },
    {
      "cell_type": "code",
      "metadata": {
        "colab": {
          "base_uri": "https://localhost:8080/"
        },
        "id": "UhwIvF61CELM",
        "outputId": "fa84a45b-7f44-46b7-af74-0db226a4301e"
      },
      "source": [
        "LinearSVM = svm.LinearSVC()\n",
        "LinearSVM.fit(X,y)"
      ],
      "execution_count": 3,
      "outputs": [
        {
          "output_type": "execute_result",
          "data": {
            "text/plain": [
              "LinearSVC(C=1.0, class_weight=None, dual=True, fit_intercept=True,\n",
              "          intercept_scaling=1, loss='squared_hinge', max_iter=1000,\n",
              "          multi_class='ovr', penalty='l2', random_state=None, tol=0.0001,\n",
              "          verbose=0)"
            ]
          },
          "metadata": {},
          "execution_count": 3
        }
      ]
    },
    {
      "cell_type": "code",
      "metadata": {
        "colab": {
          "base_uri": "https://localhost:8080/"
        },
        "id": "zmmErlh2CED9",
        "outputId": "1bb9738a-e68d-46eb-b8d2-db4dce455b4f"
      },
      "source": [
        "LinearSVM.predict([[2,2]])"
      ],
      "execution_count": 4,
      "outputs": [
        {
          "output_type": "execute_result",
          "data": {
            "text/plain": [
              "array([1])"
            ]
          },
          "metadata": {},
          "execution_count": 4
        }
      ]
    },
    {
      "cell_type": "code",
      "metadata": {
        "colab": {
          "base_uri": "https://localhost:8080/"
        },
        "id": "2-ttZD83CZqf",
        "outputId": "6d15a658-e65b-45eb-f234-61da2360d775"
      },
      "source": [
        "print(LinearSVM.coef_[0])\n",
        "print(LinearSVM.intercept_[0])"
      ],
      "execution_count": 5,
      "outputs": [
        {
          "output_type": "stream",
          "name": "stdout",
          "text": [
            "[0.58822085 0.58822085]\n",
            "-0.47059305120524897\n"
          ]
        }
      ]
    },
    {
      "cell_type": "code",
      "metadata": {
        "id": "SZf9WZUmsgAS"
      },
      "source": [
        "import matplotlib.pyplot as plt\n",
        "from matplotlib import style\n",
        "style.use(\"ggplot\")"
      ],
      "execution_count": 6,
      "outputs": []
    },
    {
      "cell_type": "code",
      "metadata": {
        "colab": {
          "base_uri": "https://localhost:8080/",
          "height": 283
        },
        "id": "NbAEfR0wCh8S",
        "outputId": "a8aba954-fc2d-460b-d588-b5b48ac0f6ec"
      },
      "source": [
        "w = LinearSVM.coef_[0]\n",
        "print(w)\n",
        "b = LinearSVM.intercept_[0]\n",
        "slope = -w[0] / w[1]\n",
        "xx = np.linspace(0, 1.5)\n",
        "yy = slope*xx - b/w[1]\n",
        "h0 = plt.plot(xx, yy, 'k-', label='Hyperplane')\n",
        "plt.scatter(X[:,0], X[:,1], c=y)\n",
        "plt.legend()\n",
        "plt.show()"
      ],
      "execution_count": 8,
      "outputs": [
        {
          "output_type": "stream",
          "name": "stdout",
          "text": [
            "[0.58822085 0.58822085]\n"
          ]
        },
        {
          "output_type": "display_data",
          "data": {
            "image/png": "[encoded data removed]",
            "text/plain": [
              "<Figure size 432x288 with 1 Axes>"
            ]
          },
          "metadata": {}
        }
      ]
    },
    {
      "cell_type": "markdown",
      "metadata": {
        "id": "Z_UpS2A0DYl4"
      },
      "source": [
        "비선형 svm xor문제"
      ]
    },
    {
      "cell_type": "code",
      "metadata": {
        "id": "b2PeEfcaDFhE"
      },
      "source": [
        "import numpy as np\n",
        "from sklearn import svm\n",
        "import matplotlib.pyplot as plt\n"
      ],
      "execution_count": 9,
      "outputs": []
    },
    {
      "cell_type": "code",
      "metadata": {
        "id": "TaST3sKgDlou"
      },
      "source": [
        "X = np.array([[0,0], [0,1], [1,0], [1,1]])\n",
        "y = [0, 1, 1, 0]"
      ],
      "execution_count": 10,
      "outputs": []
    },
    {
      "cell_type": "code",
      "metadata": {
        "colab": {
          "base_uri": "https://localhost:8080/"
        },
        "id": "SRQJEGMcDsvn",
        "outputId": "53d9ca53-2e4a-4fd5-90b1-80db3e5d47f1"
      },
      "source": [
        "SVM_XOR = svm.SVC()\n",
        "SVM_XOR.fit(X, y)"
      ],
      "execution_count": 11,
      "outputs": [
        {
          "output_type": "execute_result",
          "data": {
            "text/plain": [
              "SVC(C=1.0, break_ties=False, cache_size=200, class_weight=None, coef0=0.0,\n",
              "    decision_function_shape='ovr', degree=3, gamma='scale', kernel='rbf',\n",
              "    max_iter=-1, probability=False, random_state=None, shrinking=True,\n",
              "    tol=0.001, verbose=False)"
            ]
          },
          "metadata": {},
          "execution_count": 11
        }
      ]
    },
    {
      "cell_type": "code",
      "metadata": {
        "colab": {
          "base_uri": "https://localhost:8080/"
        },
        "id": "ITIJDQSTDy9q",
        "outputId": "59532973-ac12-4d14-81c8-696c39661876"
      },
      "source": [
        "test_data = np.array([[0.8, 0.8], [0.2, 0.9]])\n",
        "SVM_XOR.predict(test_data)"
      ],
      "execution_count": 12,
      "outputs": [
        {
          "output_type": "execute_result",
          "data": {
            "text/plain": [
              "array([0, 1])"
            ]
          },
          "metadata": {},
          "execution_count": 12
        }
      ]
    }
  ]
}