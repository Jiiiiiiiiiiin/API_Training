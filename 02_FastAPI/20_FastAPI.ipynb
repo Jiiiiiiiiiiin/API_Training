{
  "nbformat": 4,
  "nbformat_minor": 2,
  "metadata": {
    "colab": {
      "name": "20_FastAPI.ipynb",
      "provenance": [],
      "collapsed_sections": []
    },
    "kernelspec": {
      "name": "python3",
      "display_name": "Python 3.8.10 64-bit ('base': conda)"
    },
    "language_info": {
      "name": "python",
      "version": "3.8.10",
      "mimetype": "text/x-python",
      "codemirror_mode": {
        "name": "ipython",
        "version": 3
      },
      "pygments_lexer": "ipython3",
      "nbconvert_exporter": "python",
      "file_extension": ".py"
    },
    "interpreter": {
      "hash": "c1a05ed345091bee797b668f6f648f413480db32111f45bdb6bea126ffa783e7"
    }
  },
  "cells": [
    {
      "cell_type": "markdown",
      "source": [
        "FastAPI 설치"
      ],
      "metadata": {
        "id": "6KkqCS_6Gzo7"
      }
    },
    {
      "cell_type": "code",
      "execution_count": 1,
      "source": [
        "!pip install fastapi nest_asyncio pyngrok uvicorn"
      ],
      "outputs": [
        {
          "output_type": "stream",
          "name": "stdout",
          "text": [
            "Requirement already satisfied: fastapi in c:\\users\\sweet\\anaconda3\\lib\\site-packages (0.68.1)\n",
            "Requirement already satisfied: nest_asyncio in c:\\users\\sweet\\anaconda3\\lib\\site-packages (1.5.1)\n",
            "Requirement already satisfied: pyngrok in c:\\users\\sweet\\anaconda3\\lib\\site-packages (5.1.0)\n",
            "Requirement already satisfied: uvicorn in c:\\users\\sweet\\anaconda3\\lib\\site-packages (0.15.0)\n",
            "Requirement already satisfied: pydantic!=1.7,!=1.7.1,!=1.7.2,!=1.7.3,!=1.8,!=1.8.1,<2.0.0,>=1.6.2 in c:\\users\\sweet\\anaconda3\\lib\\site-packages (from fastapi) (1.8.2)\n",
            "Requirement already satisfied: starlette==0.14.2 in c:\\users\\sweet\\anaconda3\\lib\\site-packages (from fastapi) (0.14.2)\n",
            "Requirement already satisfied: PyYAML in c:\\users\\sweet\\anaconda3\\lib\\site-packages (from pyngrok) (5.4.1)\n",
            "Requirement already satisfied: h11>=0.8 in c:\\users\\sweet\\anaconda3\\lib\\site-packages (from uvicorn) (0.12.0)\n",
            "Requirement already satisfied: click>=7.0 in c:\\users\\sweet\\anaconda3\\lib\\site-packages (from uvicorn) (8.0.1)\n",
            "Requirement already satisfied: asgiref>=3.4.0 in c:\\users\\sweet\\anaconda3\\lib\\site-packages (from uvicorn) (3.4.1)\n",
            "Requirement already satisfied: colorama in c:\\users\\sweet\\anaconda3\\lib\\site-packages (from click>=7.0->uvicorn) (0.4.4)\n",
            "Requirement already satisfied: typing-extensions>=3.7.4.3 in c:\\users\\sweet\\anaconda3\\lib\\site-packages (from pydantic!=1.7,!=1.7.1,!=1.7.2,!=1.7.3,!=1.8,!=1.8.1,<2.0.0,>=1.6.2->fastapi) (3.10.0.0)\n"
          ]
        },
        {
          "output_type": "stream",
          "name": "stderr",
          "text": [
            "WARNING: Ignoring invalid distribution -pype1 (c:\\users\\sweet\\anaconda3\\lib\\site-packages)\n",
            "WARNING: Ignoring invalid distribution -pype1 (c:\\users\\sweet\\anaconda3\\lib\\site-packages)\n",
            "WARNING: Ignoring invalid distribution -pype1 (c:\\users\\sweet\\anaconda3\\lib\\site-packages)\n",
            "WARNING: Ignoring invalid distribution -pype1 (c:\\users\\sweet\\anaconda3\\lib\\site-packages)\n",
            "WARNING: Ignoring invalid distribution -pype1 (c:\\users\\sweet\\anaconda3\\lib\\site-packages)\n"
          ]
        }
      ],
      "metadata": {
        "colab": {
          "base_uri": "https://localhost:8080/"
        },
        "id": "OcKB71MUGn_V",
        "outputId": "e1e30187-4609-4ded-9e85-e4d47fa86e97"
      }
    },
    {
      "cell_type": "markdown",
      "source": [
        "Put 'host' paraneter fir allowing access from other machine"
      ],
      "metadata": {
        "id": "Ak3FVP7yZWd3"
      }
    },
    {
      "cell_type": "code",
      "execution_count": 2,
      "source": [
        "ngrok http 8000"
      ],
      "outputs": [
        {
          "output_type": "error",
          "ename": "SyntaxError",
          "evalue": "invalid syntax (<ipython-input-2-4e79836c1826>, line 1)",
          "traceback": [
            "\u001b[1;36m  File \u001b[1;32m\"<ipython-input-2-4e79836c1826>\"\u001b[1;36m, line \u001b[1;32m1\u001b[0m\n\u001b[1;33m    ngrok http 8000\u001b[0m\n\u001b[1;37m          ^\u001b[0m\n\u001b[1;31mSyntaxError\u001b[0m\u001b[1;31m:\u001b[0m invalid syntax\n"
          ]
        }
      ],
      "metadata": {}
    },
    {
      "cell_type": "code",
      "execution_count": null,
      "source": [
        "from typing import Optional\r\n",
        "from fastapi import FastAPI\r\n",
        "import nest_asyncio\r\n",
        "from pyngrok import ngrok\r\n",
        "import uvicorn\r\n",
        "from fastapi import APIRouter\r\n",
        "\r\n",
        "app = FastAPI()\r\n",
        "api_router = APIRouter()\r\n",
        "\r\n",
        "@app.get(\"/\")\r\n",
        "def read_root():\r\n",
        "  return {\"Hello\": \"World!\"}\r\n",
        "\r\n",
        "ngrok_tunnel = ngrok.connect(8000)\r\n",
        "print('Public URL:', ngrok_tunnel.public_url)\r\n",
        "nest_asyncio.apply()\r\n",
        "\r\n",
        "@app.get(\"/items/{item_id}\")\r\n",
        "def read_item(item_id: int, q: Optional[str] = None):\r\n",
        "  return {\"item_id\": item_id, \"q\": q}\r\n",
        "\r\n",
        "@app.put('/items/{item_id}')\r\n",
        "def put_item(item_id: int, q: Optional[str] = None):\r\n",
        "  return {\"item_id\": item_id, \"q\": q}\r\n",
        "\r\n",
        "@app.get(\"/courses/\")\r\n",
        "def read_courses(start: int, end: int):\r\n",
        "  return course_items[start : start + end]\r\n",
        "\r\n",
        "@api_router.get(\"/recipe/{recipe_id}\", status_code=200)\r\n",
        "def fetch_recipe(*, recipe_id: int) -> dict:\r\n",
        "  \"\"\"\r\n",
        "  Fetch a single recipe by ID\r\n",
        "  \"\"\"\r\n",
        "\r\n",
        "  result = [recipe for recipe in RECIPES if recipe[\"id\"] == recipe_id]\r\n",
        "  if result:\r\n",
        "    return result[0]\r\n",
        "\r\n",
        "from pydantic import BaseModel\r\n",
        "\r\n",
        "class Course(BaseModel):\r\n",
        "  name: str\r\n",
        "  description: Optional[str] = None\r\n",
        "  price: int\r\n",
        "  author: Optional[str] = None\r\n",
        "\r\n",
        "@app.post(\"/courses/\")\r\n",
        "def create_course(course: Course):\r\n",
        "  print('course name: ' + course.description)\r\n",
        "  if course.description is not None:\r\n",
        "    print('description: ' + course.description)\r\n",
        "  print('price: ' + str(course.price))\r\n",
        "  if course.author is not None:\r\n",
        "    print('author: ' + course.author)\r\n",
        "  return course\r\n",
        "\r\n",
        "@app.get(\"/courses/{course_name}\")\r\n",
        "def read_course(course_name):\r\n",
        "  return {'course_name': course_name}\r\n",
        "\r\n",
        "course_items = [{\"course_name\": \"Python\"}, {\"course_name\": \"SQLAlchemy\"}, {\"course_name\": \"NodeJS\"}]\r\n",
        "\r\n",
        "uvicorn.run(app, host='0.0.0.0', port=8000)\r\n",
        "\r\n",
        "\r\n"
      ],
      "outputs": [
        {
          "output_type": "stream",
          "name": "stdout",
          "text": [
            "Public URL: http://9802-34-73-6-204.ngrok.io\n"
          ]
        },
        {
          "output_type": "stream",
          "name": "stderr",
          "text": [
            "INFO:     Started server process [63]\n",
            "INFO:     Waiting for application startup.\n",
            "INFO:     Application startup complete.\n",
            "INFO:     Uvicorn running on http://0.0.0.0:8000 (Press CTRL+C to quit)\n"
          ]
        },
        {
          "output_type": "stream",
          "name": "stdout",
          "text": [
            "INFO:     175.198.119.100:0 - \"GET / HTTP/1.1\" 200 OK\n",
            "INFO:     175.198.119.100:0 - \"GET /favicon.ico HTTP/1.1\" 404 Not Found\n",
            "INFO:     175.198.119.100:0 - \"GET / HTTP/1.1\" 200 OK\n",
            "INFO:     175.198.119.100:0 - \"GET /docs HTTP/1.1\" 200 OK\n",
            "INFO:     175.198.119.100:0 - \"GET /openapi.json HTTP/1.1\" 200 OK\n"
          ]
        },
        {
          "output_type": "stream",
          "name": "stderr",
          "text": [
            "INFO:     Shutting down\n",
            "INFO:     Waiting for application shutdown.\n",
            "INFO:     Application shutdown complete.\n",
            "INFO:     Finished server process [63]\n"
          ]
        }
      ],
      "metadata": {
        "colab": {
          "base_uri": "https://localhost:8080/"
        },
        "id": "IcWCRNvWGxcM",
        "outputId": "c8064f4f-0d79-43cb-a994-efadd853889a"
      }
    },
    {
      "cell_type": "code",
      "execution_count": null,
      "source": [
        "!ps"
      ],
      "outputs": [
        {
          "output_type": "stream",
          "name": "stdout",
          "text": [
            "    PID TTY          TIME CMD\n",
            "      1 ?        00:00:07 node\n",
            "     16 ?        00:00:01 tail\n",
            "     52 ?        00:00:09 jupyter-noteboo\n",
            "     53 ?        00:00:10 dap_multiplexer\n",
            "     63 ?        00:00:42 python3\n",
            "     83 ?        00:00:18 python3\n",
            "   1329 ?        00:00:00 ps\n"
          ]
        }
      ],
      "metadata": {
        "colab": {
          "base_uri": "https://localhost:8080/"
        },
        "id": "ACbTKu91aAxK",
        "outputId": "6a78a7a0-3bed-4230-fe23-2bb69ee358ef"
      }
    },
    {
      "cell_type": "code",
      "execution_count": null,
      "source": [
        "!kill -9"
      ],
      "outputs": [],
      "metadata": {
        "id": "ykjknH29gWLs"
      }
    },
    {
      "cell_type": "code",
      "execution_count": null,
      "source": [
        "RECIPES = [\r\n",
        "           {\r\n",
        "               \"id\": 1,\r\n",
        "            \"label\": \"Chicken Vesuvio\",\r\n",
        "            \"Source\": \"Serious Eats\",\r\n",
        "            \"url\": \"http://www.seriouseats.com/recipes/2011/12/chicken-vesuvio-recipe.html\", \r\n",
        "           },\r\n",
        "           {\r\n",
        "               \"id\": 2,\r\n",
        "            \"label\": \"Chicken Paprikash\",\r\n",
        "            \"source\": \"No Recipes\",\r\n",
        "            \"url\": \"http://norecipes.com/recipe/chicken-paprikash/\",\r\n",
        "           },\r\n",
        "           {\r\n",
        "               \"id\": 3,\r\n",
        "            \"label\": \"Cauliflower and Tofu Curry Recipe\",\r\n",
        "            \"source\": \"Serious Eats\",\r\n",
        "            \"url\": \"http://www.seriouseats.com/recipes/2011/02/cauliflower-and-tofu-curry-recipe.html\"\r\n",
        "           },\r\n",
        "]"
      ],
      "outputs": [],
      "metadata": {
        "id": "UkOEgPUTLz10"
      }
    },
    {
      "cell_type": "code",
      "execution_count": null,
      "source": [],
      "outputs": [],
      "metadata": {
        "id": "YAsmbhfCUFxa"
      }
    }
  ]
}